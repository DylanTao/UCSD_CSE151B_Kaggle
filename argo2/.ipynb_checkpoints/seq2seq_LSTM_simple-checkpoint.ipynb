{
 "cells": [
  {
   "cell_type": "markdown",
   "id": "30ef5c4d-b81d-4f6b-a619-08f19fdee3f4",
   "metadata": {
    "tags": []
   },
   "source": [
    "# Seq2seq LSTM"
   ]
  },
  {
   "cell_type": "markdown",
   "id": "d4288dc0-9d56-4595-ab32-4ba53bcb0f89",
   "metadata": {},
   "source": [
    "## Import packages"
   ]
  },
  {
   "cell_type": "code",
   "execution_count": 1,
   "id": "a4e0d32c-59e2-4e03-870c-e0eb39866ff0",
   "metadata": {},
   "outputs": [],
   "source": [
    "import torch\n",
    "from torch import optim\n",
    "from torch.utils.data import Dataset, DataLoader\n",
    "import torch.nn as nn\n",
    "import torch.nn.functional as F\n",
    "import pickle\n",
    "\n",
    "import numpy as np\n",
    "import pandas as pd\n",
    "import random\n",
    "import math\n",
    "\n",
    "import os, os.path \n",
    "import pickle\n",
    "from glob import glob\n",
    "import matplotlib.pyplot as plt\n",
    "import time\n",
    "\"\"\"\n",
    "    number of trajectories in each city\n",
    "    # austin --  train: 43041 test: 6325 \n",
    "    # miami -- train: 55029 test:7971\n",
    "    # pittsburgh -- train: 43544 test: 6361\n",
    "    # dearborn -- train: 24465 test: 3671\n",
    "    # washington-dc -- train: 25744 test: 3829\n",
    "    # palo-alto -- train:  11993 test:1686\n",
    "\n",
    "    trajectories sampled at 10HZ rate, input 5 seconds, output 6 seconds\n",
    "    \n",
    "\"\"\"\n",
    "\n",
    "%matplotlib inline"
   ]
  },
  {
   "cell_type": "code",
   "execution_count": 2,
   "id": "4d80608b-063d-4aef-986f-f3fdd5b97ca2",
   "metadata": {},
   "outputs": [],
   "source": [
    "# set random state\n",
    "\n",
    "SEED = 42\n",
    "\n",
    "random.seed(SEED)\n",
    "np.random.seed(SEED)\n",
    "torch.manual_seed(SEED)\n",
    "torch.cuda.manual_seed(SEED)\n",
    "torch.backends.cudnn.deterministic = True"
   ]
  },
  {
   "cell_type": "markdown",
   "id": "86d949bb-40d3-4d48-a700-9377f29a7ab3",
   "metadata": {},
   "source": [
    "## Define Dataloader"
   ]
  },
  {
   "cell_type": "code",
   "execution_count": 3,
   "id": "5e2dcee6",
   "metadata": {},
   "outputs": [],
   "source": [
    "ROOT_PATH = \"./\"\n",
    "\n",
    "cities = [\"austin\", \"miami\", \"pittsburgh\", \"dearborn\", \"washington-dc\", \"palo-alto\"]\n",
    "splits = [\"train\", \"test\"] \n",
    "\n",
    "def get_city_trajectories(city=\"palo-alto\", split=\"train\", normalized=False):\n",
    "\n",
    "    outputs = None\n",
    "    \n",
    "    if split==\"train\":\n",
    "        f_in = ROOT_PATH + split + \"/\" + city + \"_inputs\"\n",
    "        inputs = pickle.load(open(f_in, \"rb\"))\n",
    "        n = len(inputs)\n",
    "        shuffler = np.random.permutation(n)\n",
    "        \n",
    "        inputs = np.asarray(inputs)\n",
    "        inputs = inputs[shuffler]\n",
    "        inputs = inputs[:int(n * 0.8)]\n",
    "        \n",
    "        f_out = ROOT_PATH + split + \"/\" + city + \"_outputs\"\n",
    "        outputs = pickle.load(open(f_out, \"rb\"))\n",
    "        outputs = np.asarray(outputs)\n",
    "        outputs = outputs[shuffler]\n",
    "        outputs = outputs[:int(n * 0.8)]\n",
    "        \n",
    "    elif split == 'val':\n",
    "        f_in = ROOT_PATH + 'train' + \"/\" + city + \"_inputs\"\n",
    "        inputs = pickle.load(open(f_in, \"rb\"))\n",
    "        n = len(inputs)\n",
    "        shuffler = np.random.permutation(n)\n",
    "        \n",
    "        inputs = np.asarray(inputs)\n",
    "        inputs = inputs[shuffler]\n",
    "        inputs = inputs[int(n * 0.8):]\n",
    "        \n",
    "        f_out = ROOT_PATH + 'train' + \"/\" + city + \"_outputs\"\n",
    "        outputs = pickle.load(open(f_out, \"rb\"))\n",
    "        outputs = np.asarray(outputs)\n",
    "        outputs = outputs[shuffler]\n",
    "        outputs = outputs[int(n * 0.8):]\n",
    "    \n",
    "    else:\n",
    "        f_in = ROOT_PATH + split + \"/\" + city + \"_inputs\"\n",
    "        inputs = pickle.load(open(f_in, \"rb\"))\n",
    "        n = len(inputs)\n",
    "        inputs = np.asarray(inputs)\n",
    "        outputs = torch.zeros(n,60, 2).to(device)\n",
    "\n",
    "    return inputs, outputs\n",
    "\n",
    "class ArgoverseDataset(Dataset):\n",
    "    \"\"\"Dataset class for Argoverse\"\"\"\n",
    "    def __init__(self, city: str, split:str, transform=None):\n",
    "        super(ArgoverseDataset, self).__init__()\n",
    "        self.transform = transform\n",
    "\n",
    "        self.inputs, self.outputs = get_city_trajectories(city=city, split=split, normalized=False)\n",
    "        \n",
    "    def __len__(self):\n",
    "        return len(self.inputs)\n",
    "\n",
    "    def __getitem__(self, idx):\n",
    "\n",
    "        data = (self.inputs[idx], self.outputs[idx])\n",
    "            \n",
    "        if self.transform:\n",
    "            data = self.transform(data)\n",
    "\n",
    "        return data"
   ]
  },
  {
   "cell_type": "code",
   "execution_count": 4,
   "id": "ae75c4d3-9aa2-42f8-85e9-e7fb2b6e0de9",
   "metadata": {},
   "outputs": [
    {
     "data": {
      "text/plain": [
       "0"
      ]
     },
     "execution_count": 4,
     "metadata": {},
     "output_type": "execute_result"
    }
   ],
   "source": [
    "torch.cuda.current_device()"
   ]
  },
  {
   "cell_type": "code",
   "execution_count": 5,
   "id": "5ebb6240-7436-4958-a748-82bd2ce62444",
   "metadata": {
    "scrolled": true
   },
   "outputs": [
    {
     "name": "stdout",
     "output_type": "stream",
     "text": [
      "Fri May 27 01:51:23 2022       \n",
      "+-----------------------------------------------------------------------------+\n",
      "| NVIDIA-SMI 384.81                 Driver Version: 460.67                    |\n",
      "|-------------------------------+----------------------+----------------------+\n",
      "| GPU  Name        Persistence-M| Bus-Id        Disp.A | Volatile Uncorr. ECC |\n",
      "| Fan  Temp  Perf  Pwr:Usage/Cap|         Memory-Usage | GPU-Util  Compute M. |\n",
      "|===============================+======================+======================|\n",
      "|   0  GeForce GTX 107...  Off  | 00000000:05:00.0 Off |                  N/A |\n",
      "| 27%   32C    P8     5W / 180W |   5731MiB /  8119MiB |      0%      Default |\n",
      "+-------------------------------+----------------------+----------------------+\n",
      "                                                                               \n",
      "+-----------------------------------------------------------------------------+\n",
      "| Processes:                                                       GPU Memory |\n",
      "|  GPU       PID   Type   Process name                             Usage      |\n",
      "|=============================================================================|\n",
      "Internal error\n"
     ]
    }
   ],
   "source": [
    "!nvidia-smi"
   ]
  },
  {
   "cell_type": "markdown",
   "id": "9c6ee85d-057a-42f9-8cf2-e7e3d408f761",
   "metadata": {},
   "source": [
    "## Define the Seq2Seq Model"
   ]
  },
  {
   "cell_type": "code",
   "execution_count": 6,
   "id": "9fd4026a-86dd-4838-8d4e-cf74cee27f57",
   "metadata": {},
   "outputs": [],
   "source": [
    "class Encoder(nn.Module):\n",
    "    def __init__(self, input_dim, hid_dim, n_layers, dropout):\n",
    "        super().__init__()\n",
    "        \n",
    "        self.hid_dim = hid_dim\n",
    "        self.seq_len = input_dim[0]\n",
    "        self.inp_feat_dim = input_dim[1]\n",
    "        self.n_layers = n_layers\n",
    "        \n",
    "        \n",
    "        self.lstm = nn.LSTM(input_size = self.inp_feat_dim, hidden_size = hid_dim, num_layers = n_layers, \n",
    "                            dropout = dropout, batch_first = True)\n",
    "        \n",
    "        self.dropout = nn.Dropout(dropout)\n",
    "        \n",
    "    def forward(self, inp):\n",
    "    \n",
    "        #input = [batch size, inp len, feat dim]\n",
    "        \n",
    "        outputs, (hidden, cell) = self.lstm(inp)\n",
    "        \n",
    "        #outputs = [batch size, src len, hid dim * n directions]\n",
    "        #hidden = [n layers * n directions, batch size, hid dim]\n",
    "        #cell = [n layers * n directions, batch size, hid dim]\n",
    "        \n",
    "        #outputs are always from the top hidden layer\n",
    "        \n",
    "        return hidden, cell"
   ]
  },
  {
   "cell_type": "code",
   "execution_count": 7,
   "id": "688ecc70-0c9d-43b1-b01e-2691ddbf68f1",
   "metadata": {},
   "outputs": [],
   "source": [
    "class Decoder(nn.Module):\n",
    "    def __init__(self, output_dim, hid_dim, n_layers, dropout = 0.0):\n",
    "        super().__init__()\n",
    "        \n",
    "        self.output_dim = output_dim # 2 for (x,y)\n",
    "        self.hid_dim = hid_dim\n",
    "        self.n_layers = n_layers\n",
    "\n",
    "        \n",
    "        self.lstm = nn.LSTM(output_dim, hid_dim, n_layers, dropout = dropout)\n",
    "        \n",
    "        self.fc_out = nn.Linear(hid_dim, output_dim)\n",
    "        \n",
    "        self.dropout = nn.Dropout(dropout)\n",
    "        \n",
    "    def forward(self, input, hidden, cell):\n",
    "        \n",
    "        #input = [batch size]\n",
    "        #hidden = [n layers * n directions, batch size, hid dim]\n",
    "        #cell = [n layers * n directions, batch size, hid dim]\n",
    "        \n",
    "        #n directions in the decoder will both always be 1, therefore:\n",
    "        #hidden = [n layers, batch size, hid dim]\n",
    "        #context = [n layers, batch size, hid dim]\n",
    "        \n",
    "        input = input.unsqueeze(0)\n",
    "        \n",
    "        #input = [1, batch size, feat_size]\n",
    "                \n",
    "        output, (hidden, cell) = self.lstm(input, (hidden, cell))\n",
    "        \n",
    "        #output = [seq len, batch size, hid dim * n directions]\n",
    "        #hidden = [n layers * n directions, batch size, hid dim]\n",
    "        #cell = [n layers * n directions, batch size, hid dim]\n",
    "        \n",
    "        #seq len and n directions will always be 1 in the decoder, therefore:\n",
    "        #output = [1, batch size, hid dim]\n",
    "        #hidden = [n layers, batch size, hid dim]\n",
    "        #cell = [n layers, batch size, hid dim]\n",
    "        \n",
    "        prediction = self.fc_out(output.squeeze(0))\n",
    "        \n",
    "        #prediction = [batch size, output dim]\n",
    "        \n",
    "        return prediction, hidden, cell"
   ]
  },
  {
   "cell_type": "code",
   "execution_count": 8,
   "id": "236a57c7-416f-4e51-b275-88ebcd177695",
   "metadata": {},
   "outputs": [],
   "source": [
    "class Seq2Seq(nn.Module):\n",
    "    def __init__(self, encoder, decoder, device):\n",
    "        super().__init__()\n",
    "        \n",
    "        self.encoder = encoder\n",
    "        self.decoder = decoder\n",
    "        self.device = device\n",
    "        \n",
    "        assert encoder.hid_dim == decoder.hid_dim, \\\n",
    "            \"Hidden dimensions of encoder and decoder must be equal!\"\n",
    "        assert encoder.n_layers == decoder.n_layers, \\\n",
    "            \"Encoder and decoder must have equal number of layers!\"\n",
    "        \n",
    "    def forward(self, src, trg, teacher_forcing_ratio = 0.5):\n",
    "        \n",
    "        #src = torch.Size([128, 50, 2])\n",
    "        #trg = torch.Size([128, 60, 2])\n",
    "        #teacher_forcing_ratio is probability to use teacher forcing\n",
    "        #e.g. if teacher_forcing_ratio is 0.75 we use ground-truth inputs 75% of the time\n",
    "        \n",
    "        batch_size = trg.shape[0]\n",
    "        trg_len = trg.shape[1]\n",
    "        trg_feat_size = self.decoder.output_dim\n",
    "        \n",
    "        #tensor to store decoder outputs\n",
    "        outputs = torch.zeros(trg_len, batch_size, trg_feat_size).to(self.device)\n",
    "        \n",
    "        #last hidden state of the encoder is used as the initial hidden state of the decoder\n",
    "        hidden, cell = self.encoder(src)\n",
    "        \n",
    "        #first input to the decoder is the input's first point * batch size\n",
    "        input = src[:,49,:]\n",
    "        \n",
    "        for t in range(0, trg_len):\n",
    "            \n",
    "            #insert input token embedding, previous hidden and previous cell states\n",
    "            #receive output tensor (predictions) and new hidden and cell states\n",
    "            output, hidden, cell = self.decoder(input, hidden, cell)\n",
    "            \n",
    "            #place predictions in a tensor holding predictions for each token\n",
    "            outputs[t] = output\n",
    "            \n",
    "            #decide if we are going to use teacher forcing or not\n",
    "            teacher_force = random.random() < teacher_forcing_ratio\n",
    "            \n",
    "            \n",
    "            #if teacher forcing, use actual next token as next input\n",
    "            #if not, use predicted token\n",
    "            input = trg[:,t,:] if teacher_force else output\n",
    "        \n",
    "        \n",
    "        #transpose the matrix's and dimension to use old csv output pipeline\n",
    "        outputs = outputs.transpose(1,0)\n",
    "        \n",
    "        return outputs"
   ]
  },
  {
   "cell_type": "markdown",
   "id": "7f8d4cd2-319c-4329-9e94-d9b3ae9fb70f",
   "metadata": {},
   "source": [
    "## Training the Seq2Seq Model"
   ]
  },
  {
   "cell_type": "code",
   "execution_count": 9,
   "id": "f35cbcfa-59fa-44e6-995f-f8241b4191a9",
   "metadata": {},
   "outputs": [],
   "source": [
    "INPUT_DIM = (50,2)\n",
    "OUTPUT_DIM = 2\n",
    "HID_DIM = 512\n",
    "N_LAYERS = 3\n",
    "ENC_DROPOUT = 0.3\n",
    "DEC_DROPOUT = 0.3\n",
    "\n",
    "enc = Encoder(INPUT_DIM, HID_DIM, N_LAYERS, ENC_DROPOUT)\n",
    "dec = Decoder(OUTPUT_DIM, HID_DIM, N_LAYERS, DEC_DROPOUT)\n",
    "\n",
    "device = torch.device('cuda' if torch.cuda.is_available() else 'cpu')\n",
    "\n",
    "model = Seq2Seq(enc, dec, device).to(device)"
   ]
  },
  {
   "cell_type": "code",
   "execution_count": 10,
   "id": "258940ef-292b-41c4-abbe-adc301778a73",
   "metadata": {},
   "outputs": [
    {
     "data": {
      "text/plain": [
       "Seq2Seq(\n",
       "  (encoder): Encoder(\n",
       "    (lstm): LSTM(2, 512, num_layers=3, batch_first=True, dropout=0.3)\n",
       "    (dropout): Dropout(p=0.3, inplace=False)\n",
       "  )\n",
       "  (decoder): Decoder(\n",
       "    (lstm): LSTM(2, 512, num_layers=3, dropout=0.3)\n",
       "    (fc_out): Linear(in_features=512, out_features=2, bias=True)\n",
       "    (dropout): Dropout(p=0.3, inplace=False)\n",
       "  )\n",
       ")"
      ]
     },
     "execution_count": 10,
     "metadata": {},
     "output_type": "execute_result"
    }
   ],
   "source": [
    "def init_weights(m):\n",
    "    for name, param in m.named_parameters():\n",
    "        nn.init.uniform_(param.data, -0.08, 0.08)\n",
    "        \n",
    "model.apply(init_weights)"
   ]
  },
  {
   "cell_type": "code",
   "execution_count": 11,
   "id": "dcef5156-a38d-4dbf-86ca-5fbe78bb348c",
   "metadata": {},
   "outputs": [
    {
     "name": "stdout",
     "output_type": "stream",
     "text": [
      "The model has 10,519,554 trainable parameters\n"
     ]
    }
   ],
   "source": [
    "def count_parameters(model):\n",
    "    return sum(p.numel() for p in model.parameters() if p.requires_grad)\n",
    "\n",
    "print(f'The model has {count_parameters(model):,} trainable parameters')"
   ]
  },
  {
   "cell_type": "code",
   "execution_count": 12,
   "id": "42db6e59-3e1e-4d4f-9c1f-21403b1e6af6",
   "metadata": {},
   "outputs": [],
   "source": [
    "optimizer = optim.Adam(model.parameters(), lr = 1e-4)"
   ]
  },
  {
   "cell_type": "code",
   "execution_count": 13,
   "id": "a894cbf3-9cbc-4218-b26f-0b616a8c9d2a",
   "metadata": {},
   "outputs": [],
   "source": [
    "criterion = nn.MSELoss()"
   ]
  },
  {
   "cell_type": "code",
   "execution_count": 14,
   "id": "dcf9ab31-886f-49e6-bda3-07db7c5bbef7",
   "metadata": {},
   "outputs": [],
   "source": [
    "def train(model, train_loader, optimizer, criterion, clip):\n",
    "    \n",
    "    model.train()\n",
    "    \n",
    "    epoch_loss = 0\n",
    "    \n",
    "    for i, batch in enumerate(train_loader):\n",
    "        \n",
    "        src, trg = batch\n",
    "        \n",
    "        src = src.to(device)\n",
    "        src = src.float()\n",
    "        trg = trg.to(device)\n",
    "        trg = trg.float()\n",
    "            \n",
    "        optimizer.zero_grad()\n",
    "        \n",
    "        output = model(src, trg, 0.5)\n",
    "        \n",
    "        #trg = [batch size, trg len, trg feat]\n",
    "        #output = [batch size, trg len, out dim]    \n",
    "        \n",
    "        loss = criterion(output, trg)\n",
    "        \n",
    "        loss.backward()\n",
    "        \n",
    "        torch.nn.utils.clip_grad_norm_(model.parameters(), clip)\n",
    "        \n",
    "        optimizer.step()\n",
    "        \n",
    "        epoch_loss += loss.item()\n",
    "        \n",
    "    return epoch_loss / len(train_loader)"
   ]
  },
  {
   "cell_type": "code",
   "execution_count": 15,
   "id": "8de3bed3-3190-45db-8bec-80ecfbb9e5b2",
   "metadata": {},
   "outputs": [],
   "source": [
    "def evaluate(model, val_loader, criterion):\n",
    "    \n",
    "    model.eval()\n",
    "    \n",
    "    epoch_loss = 0\n",
    "    \n",
    "    with torch.no_grad():\n",
    "    \n",
    "        for i, batch in enumerate(val_loader):\n",
    "\n",
    "            src, trg = batch\n",
    "\n",
    "            src = src.to(device)\n",
    "            src = src.float()\n",
    "            trg = trg.to(device)\n",
    "            trg = trg.float()\n",
    "            \n",
    "            output = model(src, trg, 0) #turn off teacher forcing\n",
    "\n",
    "            #trg = [trg len, batch size]\n",
    "            #output = [trg len, batch size, output dim]\n",
    "\n",
    "            loss = criterion(output, trg)\n",
    "            \n",
    "            epoch_loss += loss.item()\n",
    "        \n",
    "    return epoch_loss / len(val_loader)\n"
   ]
  },
  {
   "cell_type": "code",
   "execution_count": 16,
   "id": "e93919f8-f718-41be-a36a-760920b5284c",
   "metadata": {},
   "outputs": [],
   "source": [
    "# function that tells how long an epoch takes\n",
    "def epoch_time(start_time, end_time):\n",
    "    elapsed_time = end_time - start_time\n",
    "    elapsed_mins = int(elapsed_time / 60)\n",
    "    elapsed_secs = int(elapsed_time - (elapsed_mins * 60))\n",
    "    return elapsed_mins, elapsed_secs"
   ]
  },
  {
   "cell_type": "markdown",
   "id": "437d1020-ea69-42d2-ae7e-dc6ce3c31362",
   "metadata": {},
   "source": [
    "#### 1. \"Teacher-forcing\" = 0.5 & drop_out = 0.3 & 3 layer"
   ]
  },
  {
   "cell_type": "code",
   "execution_count": 17,
   "id": "c4a358e6-48d0-4e83-a4e0-ea05ad945497",
   "metadata": {},
   "outputs": [
    {
     "name": "stdout",
     "output_type": "stream",
     "text": [
      "city: austin\n",
      "Epoch: 01 | Time: 0m 50s\n",
      "\tTrain Loss: 2140416.268 | Val. Loss: 2121145.662\n",
      "Epoch: 02 | Time: 0m 51s\n",
      "\tTrain Loss: 2122893.296 | Val. Loss: 2115652.772\n"
     ]
    },
    {
     "ename": "KeyboardInterrupt",
     "evalue": "",
     "output_type": "error",
     "traceback": [
      "\u001b[0;31m---------------------------------------------------------------------------\u001b[0m",
      "\u001b[0;31mKeyboardInterrupt\u001b[0m                         Traceback (most recent call last)",
      "\u001b[0;32m<timed exec>\u001b[0m in \u001b[0;36m<module>\u001b[0;34m\u001b[0m\n",
      "\u001b[0;32m/tmp/ipykernel_35782/3347068979.py\u001b[0m in \u001b[0;36mtrain\u001b[0;34m(model, train_loader, optimizer, criterion, clip)\u001b[0m\n\u001b[1;32m     25\u001b[0m         \u001b[0mloss\u001b[0m\u001b[0;34m.\u001b[0m\u001b[0mbackward\u001b[0m\u001b[0;34m(\u001b[0m\u001b[0;34m)\u001b[0m\u001b[0;34m\u001b[0m\u001b[0;34m\u001b[0m\u001b[0m\n\u001b[1;32m     26\u001b[0m \u001b[0;34m\u001b[0m\u001b[0m\n\u001b[0;32m---> 27\u001b[0;31m         \u001b[0mtorch\u001b[0m\u001b[0;34m.\u001b[0m\u001b[0mnn\u001b[0m\u001b[0;34m.\u001b[0m\u001b[0mutils\u001b[0m\u001b[0;34m.\u001b[0m\u001b[0mclip_grad_norm_\u001b[0m\u001b[0;34m(\u001b[0m\u001b[0mmodel\u001b[0m\u001b[0;34m.\u001b[0m\u001b[0mparameters\u001b[0m\u001b[0;34m(\u001b[0m\u001b[0;34m)\u001b[0m\u001b[0;34m,\u001b[0m \u001b[0mclip\u001b[0m\u001b[0;34m)\u001b[0m\u001b[0;34m\u001b[0m\u001b[0;34m\u001b[0m\u001b[0m\n\u001b[0m\u001b[1;32m     28\u001b[0m \u001b[0;34m\u001b[0m\u001b[0m\n\u001b[1;32m     29\u001b[0m         \u001b[0moptimizer\u001b[0m\u001b[0;34m.\u001b[0m\u001b[0mstep\u001b[0m\u001b[0;34m(\u001b[0m\u001b[0;34m)\u001b[0m\u001b[0;34m\u001b[0m\u001b[0;34m\u001b[0m\u001b[0m\n",
      "\u001b[0;32m/opt/conda/lib/python3.9/site-packages/torch/nn/utils/clip_grad.py\u001b[0m in \u001b[0;36mclip_grad_norm_\u001b[0;34m(parameters, max_norm, norm_type, error_if_nonfinite)\u001b[0m\n\u001b[1;32m     41\u001b[0m     \u001b[0;32melse\u001b[0m\u001b[0;34m:\u001b[0m\u001b[0;34m\u001b[0m\u001b[0;34m\u001b[0m\u001b[0m\n\u001b[1;32m     42\u001b[0m         \u001b[0mtotal_norm\u001b[0m \u001b[0;34m=\u001b[0m \u001b[0mtorch\u001b[0m\u001b[0;34m.\u001b[0m\u001b[0mnorm\u001b[0m\u001b[0;34m(\u001b[0m\u001b[0mtorch\u001b[0m\u001b[0;34m.\u001b[0m\u001b[0mstack\u001b[0m\u001b[0;34m(\u001b[0m\u001b[0;34m[\u001b[0m\u001b[0mtorch\u001b[0m\u001b[0;34m.\u001b[0m\u001b[0mnorm\u001b[0m\u001b[0;34m(\u001b[0m\u001b[0mp\u001b[0m\u001b[0;34m.\u001b[0m\u001b[0mgrad\u001b[0m\u001b[0;34m.\u001b[0m\u001b[0mdetach\u001b[0m\u001b[0;34m(\u001b[0m\u001b[0;34m)\u001b[0m\u001b[0;34m,\u001b[0m \u001b[0mnorm_type\u001b[0m\u001b[0;34m)\u001b[0m\u001b[0;34m.\u001b[0m\u001b[0mto\u001b[0m\u001b[0;34m(\u001b[0m\u001b[0mdevice\u001b[0m\u001b[0;34m)\u001b[0m \u001b[0;32mfor\u001b[0m \u001b[0mp\u001b[0m \u001b[0;32min\u001b[0m \u001b[0mparameters\u001b[0m\u001b[0;34m]\u001b[0m\u001b[0;34m)\u001b[0m\u001b[0;34m,\u001b[0m \u001b[0mnorm_type\u001b[0m\u001b[0;34m)\u001b[0m\u001b[0;34m\u001b[0m\u001b[0;34m\u001b[0m\u001b[0m\n\u001b[0;32m---> 43\u001b[0;31m     \u001b[0;32mif\u001b[0m \u001b[0mtotal_norm\u001b[0m\u001b[0;34m.\u001b[0m\u001b[0misnan\u001b[0m\u001b[0;34m(\u001b[0m\u001b[0;34m)\u001b[0m \u001b[0;32mor\u001b[0m \u001b[0mtotal_norm\u001b[0m\u001b[0;34m.\u001b[0m\u001b[0misinf\u001b[0m\u001b[0;34m(\u001b[0m\u001b[0;34m)\u001b[0m\u001b[0;34m:\u001b[0m\u001b[0;34m\u001b[0m\u001b[0;34m\u001b[0m\u001b[0m\n\u001b[0m\u001b[1;32m     44\u001b[0m         \u001b[0;32mif\u001b[0m \u001b[0merror_if_nonfinite\u001b[0m\u001b[0;34m:\u001b[0m\u001b[0;34m\u001b[0m\u001b[0;34m\u001b[0m\u001b[0m\n\u001b[1;32m     45\u001b[0m             raise RuntimeError(\n",
      "\u001b[0;31mKeyboardInterrupt\u001b[0m: "
     ]
    }
   ],
   "source": [
    "%%time\n",
    "\n",
    "batch_size = 128\n",
    "n_epochs = 250\n",
    "clip = 1\n",
    "\n",
    "all_cities_best_train_loss = [float('inf')] * len(cities)\n",
    "all_cities_best_valid_loss = [float('inf')] * len(cities)\n",
    "city_index = 0\n",
    "\n",
    "#train city models\n",
    "for city in cities:\n",
    "    train_losses = []\n",
    "    valid_losses = []\n",
    "    \n",
    "    early_stop_counter = 0\n",
    "    early_stop_criteria = 30\n",
    "    \n",
    "    print('city: ' + city)\n",
    "    train_dataset  = ArgoverseDataset(city = city, split = 'train')\n",
    "    train_loader = DataLoader(train_dataset, batch_size=batch_size, shuffle = True, drop_last = True)\n",
    "    val_dataset = ArgoverseDataset(city = city, split = 'val')\n",
    "    val_loader = DataLoader(val_dataset,batch_size=batch_size, shuffle = True, drop_last = True)\n",
    "    \n",
    "    best_valid_loss = float('inf')\n",
    "    for epoch in range(n_epochs):\n",
    "    \n",
    "        start_time = time.time()\n",
    "\n",
    "        train_loss = train(model, train_loader, optimizer, criterion, clip)\n",
    "        valid_loss = evaluate(model, val_loader, criterion)\n",
    "        train_losses.append(train_loss)\n",
    "        valid_losses.append(valid_loss)\n",
    "        \n",
    "        end_time = time.time()\n",
    "\n",
    "        epoch_mins, epoch_secs = epoch_time(start_time, end_time)\n",
    "\n",
    "        if valid_loss < best_valid_loss:\n",
    "            best_valid_loss = valid_loss\n",
    "            pickle.dump(model, open('models/seq2seq_lstm_' + str(model.encoder.n_layers) + \"_t05_d03_\" + city, 'wb'))\n",
    "            all_cities_best_train_loss[city_index] = train_loss\n",
    "            all_cities_best_valid_loss[city_index] = valid_loss\n",
    "            early_stop_counter = 0\n",
    "        else:\n",
    "            early_stop_counter += 1\n",
    "            if early_stop_counter > early_stop_criteria:\n",
    "                print(\"Stopped early at epoch \" + str(epoch) + \" due to overfit\")\n",
    "                break\n",
    "            \n",
    "\n",
    "        print(f'Epoch: {epoch+1:02} | Time: {epoch_mins}m {epoch_secs}s')\n",
    "        print(f'\\tTrain Loss: {train_loss:.3f} | Val. Loss: {valid_loss:.3f}')\n",
    "    \n",
    "    \n",
    "    city_index += 1\n",
    "    \n",
    "    #plot city loss\n",
    "    plt.title(\"Loss for \" + city)\n",
    "    plt.xlabel(\"epoch\")\n",
    "    plt.ylabel(\"loss\")\n",
    "    plt.plot(train_losses, color =\"red\", label = \"train_loss\")\n",
    "    plt.plot(valid_losses, color =\"blue\", label = \"valid_loss\")\n",
    "    plt.legend()\n",
    "    plt.show()\n"
   ]
  },
  {
   "cell_type": "code",
   "execution_count": 18,
   "id": "686951a4-e2e0-407a-9aa5-d0c360ef5715",
   "metadata": {},
   "outputs": [
    {
     "name": "stdout",
     "output_type": "stream",
     "text": [
      "austin, miami, pittsburgh, dearborn, washington-dc, palo-alto\n",
      "Best Train MSE Loss: [2122893.3       inf       inf       inf       inf       inf] \n",
      "Best Valid MSE Loss: [2115652.77        inf        inf        inf        inf        inf] \n"
     ]
    }
   ],
   "source": [
    "all_cities_best_train_loss = np.array(all_cities_best_train_loss)\n",
    "all_cities_best_valid_loss = np.array(all_cities_best_valid_loss)\n",
    "np.set_printoptions(precision=2)\n",
    "\n",
    "print(*cities, sep = \", \")\n",
    "print(f'Best Train MSE Loss: {all_cities_best_train_loss} ')\n",
    "print(f'Best Valid MSE Loss: {all_cities_best_valid_loss} ')"
   ]
  },
  {
   "cell_type": "code",
   "execution_count": 19,
   "id": "e921b1a9",
   "metadata": {},
   "outputs": [],
   "source": [
    "def predict(model, test_loader):\n",
    "    \n",
    "    model.eval()\n",
    "    outputs = torch.zeros(1,60, 2).to(device)\n",
    "    \n",
    "    with torch.no_grad():\n",
    "        for i, batch in enumerate(test_loader):\n",
    "            \n",
    "            src,trg = batch\n",
    "\n",
    "            src = src.to(device)\n",
    "            src = src.float()\n",
    "            trg = trg.to(device)\n",
    "            trg = trg.float()\n",
    "\n",
    "            \n",
    "            output = model(src, trg, 0) #turn off teacher forcing\n",
    "\n",
    "            #trg = [trg len, batch size]\n",
    "            #output = [trg len, batch size, output dim]\n",
    "\n",
    "            outputs = torch.cat((outputs, output), 0)\n",
    "        \n",
    "    return outputs[1:]\n"
   ]
  },
  {
   "cell_type": "code",
   "execution_count": 20,
   "id": "bf12f830-f8c0-44a4-a2b8-9a29834c86d4",
   "metadata": {},
   "outputs": [
    {
     "ename": "FileNotFoundError",
     "evalue": "[Errno 2] No such file or directory: 'models/seq2seq_lstm_3_t05_d03_miami'",
     "output_type": "error",
     "traceback": [
      "\u001b[0;31m---------------------------------------------------------------------------\u001b[0m",
      "\u001b[0;31mFileNotFoundError\u001b[0m                         Traceback (most recent call last)",
      "\u001b[0;32m/tmp/ipykernel_35782/3268264525.py\u001b[0m in \u001b[0;36m<module>\u001b[0;34m\u001b[0m\n\u001b[1;32m      9\u001b[0m \u001b[0;34m\u001b[0m\u001b[0m\n\u001b[1;32m     10\u001b[0m     \u001b[0;31m#loading model\u001b[0m\u001b[0;34m\u001b[0m\u001b[0;34m\u001b[0m\u001b[0;34m\u001b[0m\u001b[0m\n\u001b[0;32m---> 11\u001b[0;31m     \u001b[0mload_pred\u001b[0m \u001b[0;34m=\u001b[0m \u001b[0mpickle\u001b[0m\u001b[0;34m.\u001b[0m\u001b[0mload\u001b[0m\u001b[0;34m(\u001b[0m\u001b[0mopen\u001b[0m\u001b[0;34m(\u001b[0m\u001b[0;34m'models/seq2seq_lstm_'\u001b[0m \u001b[0;34m+\u001b[0m \u001b[0mstr\u001b[0m\u001b[0;34m(\u001b[0m\u001b[0mmodel\u001b[0m\u001b[0;34m.\u001b[0m\u001b[0mencoder\u001b[0m\u001b[0;34m.\u001b[0m\u001b[0mn_layers\u001b[0m\u001b[0;34m)\u001b[0m \u001b[0;34m+\u001b[0m \u001b[0;34m\"_t05_d03_\"\u001b[0m \u001b[0;34m+\u001b[0m \u001b[0mcity\u001b[0m\u001b[0;34m,\u001b[0m \u001b[0;34m'rb'\u001b[0m\u001b[0;34m)\u001b[0m\u001b[0;34m)\u001b[0m\u001b[0;34m\u001b[0m\u001b[0;34m\u001b[0m\u001b[0m\n\u001b[0m\u001b[1;32m     12\u001b[0m \u001b[0;34m\u001b[0m\u001b[0m\n\u001b[1;32m     13\u001b[0m     \u001b[0;31m#get the training dataset/ return inputs, ouputs\u001b[0m\u001b[0;34m\u001b[0m\u001b[0;34m\u001b[0m\u001b[0;34m\u001b[0m\u001b[0m\n",
      "\u001b[0;31mFileNotFoundError\u001b[0m: [Errno 2] No such file or directory: 'models/seq2seq_lstm_3_t05_d03_miami'"
     ]
    },
    {
     "data": {
      "image/png": "[encoded data removed]",
      "text/plain": [
       "<Figure size 3000x2100 with 12 Axes>"
      ]
     },
     "metadata": {},
     "output_type": "display_data"
    }
   ],
   "source": [
    "num_layers = 3 # change by hand to pick model\n",
    "cols = np.array(['v' + str(i) for i in range(120)])\n",
    "batch_size = 128\n",
    "fig, axs = plt.subplots(2,6, figsize=(10,7), facecolor='w', edgecolor='k', dpi =300 )\n",
    "# fig.subplots_adjust(hspace = .5, wspace=0.0001)\n",
    "\n",
    "axs = axs.ravel()\n",
    "for city, i in zip(cities,range(0,len(cities))):\n",
    "\n",
    "    #loading model\n",
    "    load_pred = pickle.load(open('models/seq2seq_lstm_' + str(model.encoder.n_layers) + \"_t05_d03_\" + city, 'rb'))\n",
    "\n",
    "    #get the training dataset/ return inputs, ouputs\n",
    "    train_dataset = ArgoverseDataset(city = city, split = 'train')\n",
    "    train_dataset_w = get_city_trajectories(city = city, split = 'train')\n",
    "    train_loader = DataLoader(train_dataset, batch_size=batch_size, shuffle = True, drop_last = True)\n",
    "    \n",
    "\n",
    "    \n",
    "    device = torch.device('cuda' if torch.cuda.is_available() else 'cpu')\n",
    "    load_pred = load_pred.to(device)\n",
    "    #input/ truth/ prediction\n",
    "    inp = train_dataset_w[0]\n",
    "    inp_reshaped = inp.reshape(inp.shape[0],100)\n",
    "\n",
    "    truth = train_dataset_w[1]\n",
    "    truth_reshaped =  truth.reshape(truth.shape[0], 120)\n",
    "    \n",
    "    preds = predict(load_pred, train_loader)\n",
    "    preds_reshaped = preds.reshape(preds.shape[0], 120)\n",
    "\n",
    "    #plotting\n",
    "    preds_numpy = preds_reshaped.cpu().detach().numpy()\n",
    "    \n",
    "    \n",
    "    sample = random.randint(0,len(preds_numpy)) \n",
    "    samp_1_truth = truth_reshaped[sample].reshape(60,2)\n",
    "    samp_1_pred = preds_numpy[sample].reshape(60,2) \n",
    "    samp_1_inp = inp_reshaped[sample].reshape(50,2) \n",
    "\n",
    "    axs[i].set_title(city.upper() + ' Sample_1',fontsize =7)\n",
    "    axs[i].xaxis.set_ticks([])\n",
    "    axs[i].yaxis.set_ticks([])\n",
    "    axs[i].scatter(samp_1_inp[:,0], samp_1_inp[:,1], color = 'blue', label= 'input', alpha= .6)\n",
    "    axs[i].scatter(samp_1_truth[:,0], samp_1_truth[:,1], color = 'orange',label= 'truth', alpha= .6)\n",
    "    axs[i].scatter(samp_1_pred[:,0], samp_1_pred[:,1], color = 'green',label= 'pred', alpha= .6)\n",
    "    axs[i].legend(loc='best')\n",
    "    \n",
    "\n",
    "    sample = random.randint(0,len(preds_numpy)) \n",
    "    samp_2_truth = truth_reshaped[sample].reshape(60,2)\n",
    "    samp_2_pred = preds_numpy[sample].reshape(60,2)\n",
    "    samp_2_inp = inp_reshaped[sample].reshape(50,2) \n",
    "\n",
    "    axs[i+6].set_title(city.upper() + ' Sample_2',fontsize =7)\n",
    "    axs[i+6].xaxis.set_ticks([])\n",
    "    axs[i+6].yaxis.set_ticks([])\n",
    "    axs[i+6].scatter(samp_2_inp[:,0], samp_2_inp[:,1], color = 'blue', label= 'input', alpha= .6)\n",
    "    axs[i+6].scatter(samp_2_truth[:,0], samp_2_truth[:,1], color = 'orange',label= 'truth', alpha= .6)\n",
    "    axs[i+6].scatter(samp_2_pred[:,0], samp_2_pred[:,1], color = 'green', label= 'pred', alpha= .6)\n",
    "    axs[i+6].legend(loc='best')\n",
    "\n",
    "plt.tight_layout()\n",
    "# train_pred = pd.concat(all_preds, ignore_index = True)\n",
    "# train_pred"
   ]
  },
  {
   "cell_type": "code",
   "execution_count": null,
   "id": "a5bc4e81-054d-44c4-b8a3-d732e35a2d70",
   "metadata": {},
   "outputs": [],
   "source": [
    "cols = np.array(['v' + str(i) for i in range(120)])\n",
    "all_preds = []\n",
    "\n",
    "for city in cities:\n",
    "    load_pred = pickle.load(open('models/seq2seq_lstm_' + str(model.encoder.n_layers) + \"_t05_d03_\" + city, 'rb'))\n",
    "    test_dataset = ArgoverseDataset(city = city, split = 'test')\n",
    "    test_loader = DataLoader(test_dataset,batch_size=batch_size, shuffle = True, drop_last = True)\n",
    "\n",
    "    device = torch.device('cuda' if torch.cuda.is_available() else 'cpu')\n",
    "    load_pred = load_pred.to(device)\n",
    "    preds = predict(load_pred, test_loader)\n",
    "    preds_reshaped = preds.reshape(preds.shape[0], 120)\n",
    "    preds_numpy = preds_reshaped.cpu().detach().numpy()\n",
    "    ids = np.array([str(i) + '_' + city for i in range(len(preds_numpy))])\n",
    "    predictions = pd.DataFrame(preds_numpy, columns=cols)\n",
    "    predictions.insert(0, 'ID', ids)\n",
    "    all_preds.append(predictions)\n",
    "    \n",
    "all_predictions = pd.concat(all_preds, ignore_index = True)"
   ]
  },
  {
   "cell_type": "code",
   "execution_count": null,
   "id": "858ff828-7086-4792-9cd8-7609d7c49a76",
   "metadata": {},
   "outputs": [],
   "source": [
    "all_predictions"
   ]
  },
  {
   "cell_type": "code",
   "execution_count": null,
   "id": "f8bc5fcc-c1fa-4a8d-9874-f2f4e191963a",
   "metadata": {},
   "outputs": [],
   "source": [
    "all_predictions.to_csv('lstm_out.csv', index=False)"
   ]
  },
  {
   "cell_type": "code",
   "execution_count": null,
   "id": "3fb2cc2d-1540-447f-8572-d33b39aa8194",
   "metadata": {},
   "outputs": [],
   "source": [
    "pd.read_csv('lstm_out.csv')"
   ]
  },
  {
   "cell_type": "code",
   "execution_count": null,
   "id": "a6ce393c-c900-4000-9a42-103033b3312b",
   "metadata": {},
   "outputs": [],
   "source": []
  }
 ],
 "metadata": {
  "interpreter": {
   "hash": "51451fb965bca5ca736f6eb36642b31b5a5ecde49a9b52fab42c7c140c00e449"
  },
  "kernelspec": {
   "display_name": "Python 3 (ipykernel)",
   "language": "python",
   "name": "python3"
  },
  "language_info": {
   "codemirror_mode": {
    "name": "ipython",
    "version": 3
   },
   "file_extension": ".py",
   "mimetype": "text/x-python",
   "name": "python",
   "nbconvert_exporter": "python",
   "pygments_lexer": "ipython3",
   "version": "3.9.5"
  }
 },
 "nbformat": 4,
 "nbformat_minor": 5
}
