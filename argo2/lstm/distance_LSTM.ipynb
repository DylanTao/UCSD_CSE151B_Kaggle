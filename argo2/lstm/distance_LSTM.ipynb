{
 "cells": [
  {
   "cell_type": "markdown",
   "id": "718c38cf",
   "metadata": {},
   "source": [
    "## Install the package dependencies before running this notebook"
   ]
  },
  {
   "cell_type": "code",
   "execution_count": 1,
   "id": "16ac7530",
   "metadata": {},
   "outputs": [
    {
     "data": {
      "text/plain": [
       "'\\n    number of trajectories in each city\\n    # austin --  train: 43041 test: 6325 \\n    # miami -- train: 55029 test:7971\\n    # pittsburgh -- train: 43544 test: 6361\\n    # dearborn -- train: 24465 test: 3671\\n    # washington-dc -- train: 25744 test: 3829\\n    # palo-alto -- train:  11993 test:1686\\n\\n    trajectories sampled at 10HZ rate, input 5 seconds, output 6 seconds\\n    \\n'"
      ]
     },
     "execution_count": 1,
     "metadata": {},
     "output_type": "execute_result"
    }
   ],
   "source": [
    "import torch\n",
    "from torch.utils.data import Dataset, DataLoader\n",
    "import os, os.path \n",
    "import numpy \n",
    "import pickle\n",
    "from glob import glob\n",
    "import matplotlib.pyplot as plt\n",
    "\n",
    "\"\"\"\n",
    "    number of trajectories in each city\n",
    "    # austin --  train: 43041 test: 6325 \n",
    "    # miami -- train: 55029 test:7971\n",
    "    # pittsburgh -- train: 43544 test: 6361\n",
    "    # dearborn -- train: 24465 test: 3671\n",
    "    # washington-dc -- train: 25744 test: 3829\n",
    "    # palo-alto -- train:  11993 test:1686\n",
    "\n",
    "    trajectories sampled at 10HZ rate, input 5 seconds, output 6 seconds\n",
    "    \n",
    "\"\"\""
   ]
  },
  {
   "cell_type": "markdown",
   "id": "0b472cf2",
   "metadata": {},
   "source": [
    "## Create a Torch.Dataset class for the training dataset"
   ]
  },
  {
   "cell_type": "code",
   "execution_count": 2,
   "id": "091abbb7",
   "metadata": {},
   "outputs": [],
   "source": [
    "from glob import glob\n",
    "import pickle\n",
    "import numpy as np\n",
    "\n",
    "ROOT_PATH = \"./\"\n",
    "\n",
    "cities = [\"austin\", \"miami\", \"pittsburgh\", \"dearborn\", \"washington-dc\", \"palo-alto\"]\n",
    "splits = [\"train\", \"test\"]\n",
    "\n",
    "def get_city_trajectories(city=\"palo-alto\", split=\"train\", normalized=False):\n",
    "\n",
    "    \n",
    "    outputs = None\n",
    "    \n",
    "    if split==\"train\":\n",
    "        f_in = ROOT_PATH + split + \"/\" + city + \"_inputs\"\n",
    "        inputs = pickle.load(open(f_in, \"rb\"))\n",
    "        n = len(inputs)\n",
    "        inputs = np.asarray(inputs)[:int(n * 0.8)]\n",
    "        \n",
    "        f_out = ROOT_PATH + split + \"/\" + city + \"_outputs\"\n",
    "        outputs = pickle.load(open(f_out, \"rb\"))\n",
    "        outputs = np.asarray(outputs)[:int(n * 0.8)]\n",
    "        \n",
    "    elif split == 'val':\n",
    "        f_in = ROOT_PATH + 'train' + \"/\" + city + \"_inputs\"\n",
    "        inputs = pickle.load(open(f_in, \"rb\"))\n",
    "        n = len(inputs)\n",
    "        inputs = np.asarray(inputs)[int(n * 0.8):]\n",
    "        \n",
    "        f_out = ROOT_PATH + 'train' + \"/\" + city + \"_outputs\"\n",
    "        outputs = pickle.load(open(f_out, \"rb\"))\n",
    "        outputs = np.asarray(outputs)[int(n * 0.8):]\n",
    "    \n",
    "    else:\n",
    "        f_in = ROOT_PATH + split + \"/\" + city + \"_inputs\"\n",
    "        inputs = pickle.load(open(f_in, \"rb\"))\n",
    "        n = len(inputs)\n",
    "        inputs = np.asarray(inputs)\n",
    "\n",
    "    return inputs, outputs\n",
    "\n",
    "class ArgoverseDataset(Dataset):\n",
    "    \"\"\"Dataset class for Argoverse\"\"\"\n",
    "    def __init__(self, city: str, split:str, transform=None):\n",
    "        super(ArgoverseDataset, self).__init__()\n",
    "        self.transform = transform\n",
    "\n",
    "        self.inputs, self.outputs = get_city_trajectories(city=city, split=split, normalized=False)\n",
    "\n",
    "    def __len__(self):\n",
    "        return len(self.inputs)\n",
    "\n",
    "    def __getitem__(self, idx):\n",
    "\n",
    "        data = (self.inputs[idx], self.outputs[idx])\n",
    "            \n",
    "        if self.transform:\n",
    "            data = self.transform(data)\n",
    "\n",
    "        return data\n",
    "\n",
    "# intialize a dataset\n",
    "city = 'palo-alto' \n",
    "split = 'train'\n",
    "train_dataset  = ArgoverseDataset(city = city, split = split)"
   ]
  },
  {
   "cell_type": "code",
   "execution_count": 3,
   "id": "5a174510",
   "metadata": {},
   "outputs": [],
   "source": [
    "val_dataset = ArgoverseDataset(city = city, split = 'val')"
   ]
  },
  {
   "cell_type": "code",
   "execution_count": 4,
   "id": "7a44d7ea",
   "metadata": {},
   "outputs": [
    {
     "data": {
      "text/plain": [
       "2399"
      ]
     },
     "execution_count": 4,
     "metadata": {},
     "output_type": "execute_result"
    }
   ],
   "source": [
    "len(val_dataset)"
   ]
  },
  {
   "cell_type": "code",
   "execution_count": 6,
   "id": "09920f1f",
   "metadata": {},
   "outputs": [
    {
     "name": "stdout",
     "output_type": "stream",
     "text": [
      "(11993, 49, 2)\n",
      "[[-1.30376253e+03  1.13831246e+03]\n",
      " [ 2.45103590e-01  4.04611290e-01]\n",
      " [ 3.05374496e-01  5.01971767e-01]\n",
      " [ 3.63810501e-01  5.97122407e-01]\n",
      " [ 4.18315154e-01  6.84616017e-01]\n",
      " [ 4.68040123e-01  7.61838576e-01]\n",
      " [ 5.06007543e-01  8.20521431e-01]\n",
      " [ 5.29945687e-01  8.57815459e-01]\n",
      " [ 5.43038300e-01  8.76377355e-01]\n",
      " [ 5.45952395e-01  8.76103283e-01]\n",
      " [ 5.33863080e-01  8.50134665e-01]\n",
      " [ 5.19936114e-01  8.23374489e-01]\n",
      " [ 5.19942340e-01  8.21756822e-01]\n",
      " [ 5.20192937e-01  8.17530884e-01]\n",
      " [ 5.19402065e-01  8.08079113e-01]\n",
      " [ 5.17867867e-01  8.00595879e-01]\n",
      " [ 5.17476225e-01  7.97221564e-01]\n",
      " [ 5.17322718e-01  7.92558223e-01]\n",
      " [ 5.18062007e-01  7.88853415e-01]\n",
      " [ 5.17805754e-01  7.84519528e-01]\n",
      " [ 5.15155469e-01  7.78794304e-01]\n",
      " [ 5.11857861e-01  7.74900814e-01]\n",
      " [ 5.08109213e-01  7.69754364e-01]\n",
      " [ 5.06121626e-01  7.65330487e-01]\n",
      " [ 5.02313112e-01  7.59113973e-01]\n",
      " [ 5.00314334e-01  7.56159956e-01]\n",
      " [ 5.04012037e-01  7.59955275e-01]\n",
      " [ 5.10280942e-01  7.65688369e-01]\n",
      " [ 5.13764899e-01  7.66218330e-01]\n",
      " [ 5.11496761e-01  7.59590168e-01]\n",
      " [ 5.10578245e-01  7.56388858e-01]\n",
      " [ 5.10054174e-01  7.53762860e-01]\n",
      " [ 5.08033584e-01  7.48945953e-01]\n",
      " [ 5.04515492e-01  7.44691134e-01]\n",
      " [ 5.03153879e-01  7.43269389e-01]\n",
      " [ 5.02508391e-01  7.42982294e-01]\n",
      " [ 5.01322833e-01  7.42613163e-01]\n",
      " [ 5.00174004e-01  7.43930828e-01]\n",
      " [ 4.95509249e-01  7.44927492e-01]\n",
      " [ 4.91292741e-01  7.46498193e-01]\n",
      " [ 4.90291415e-01  7.51194691e-01]\n",
      " [ 4.98101860e-01  7.62289757e-01]\n",
      " [ 5.04903752e-01  7.72391038e-01]\n",
      " [ 5.02565168e-01  7.75516400e-01]\n",
      " [ 5.01928654e-01  7.78589916e-01]\n",
      " [ 4.97992312e-01  7.77831430e-01]\n",
      " [ 5.01582581e-01  7.82733135e-01]\n",
      " [ 5.07706402e-01  7.86918741e-01]\n",
      " [ 5.07882410e-01  7.88255011e-01]\n",
      " [ 5.08582506e-01  7.91011984e-01]]\n",
      "[[[ 2.45103590e-01  4.04611290e-01]\n",
      "  [ 3.05374496e-01  5.01971767e-01]\n",
      "  [ 3.63810501e-01  5.97122407e-01]\n",
      "  ...\n",
      "  [ 5.07706402e-01  7.86918741e-01]\n",
      "  [ 5.07882410e-01  7.88255011e-01]\n",
      "  [ 5.08582506e-01  7.91011984e-01]]\n",
      "\n",
      " [[-5.62502781e-01  3.76199890e-01]\n",
      "  [-6.75082393e-01  4.50964995e-01]\n",
      "  [-7.80953500e-01  5.22507879e-01]\n",
      "  ...\n",
      "  [-1.07236986e+00  6.82572677e-01]\n",
      "  [-1.07984803e+00  6.93870505e-01]\n",
      "  [-1.07948681e+00  7.01267128e-01]]\n",
      "\n",
      " [[-6.55017691e-01  4.83266695e-01]\n",
      "  [-7.83837281e-01  5.79915088e-01]\n",
      "  [-9.08813841e-01  6.67176710e-01]\n",
      "  ...\n",
      "  [-9.18017379e-01  7.19710847e-01]\n",
      "  [-9.21339063e-01  7.12974454e-01]\n",
      "  [-9.18192109e-01  7.04622674e-01]]\n",
      "\n",
      " ...\n",
      "\n",
      " [[-2.76123453e-01 -4.17208433e-01]\n",
      "  [-3.47436309e-01 -5.25314653e-01]\n",
      "  [-4.15855643e-01 -6.29072094e-01]\n",
      "  ...\n",
      "  [-6.90427794e-01 -1.07701564e+00]\n",
      "  [-7.06296248e-01 -1.10097047e+00]\n",
      "  [-7.18935853e-01 -1.12326159e+00]]\n",
      "\n",
      " [[-2.65478203e-03  1.50903289e-03]\n",
      "  [-4.11112943e-03  2.34027781e-03]\n",
      "  [-5.29108440e-03  3.07050497e-03]\n",
      "  ...\n",
      "  [-8.78200750e-02  5.72158129e-02]\n",
      "  [-1.11364813e-01  7.21197702e-02]\n",
      "  [-1.36615465e-01  8.86618361e-02]]\n",
      "\n",
      " [[-8.66676999e-04 -2.57982229e-04]\n",
      "  [-3.72493007e-03 -1.32217215e-03]\n",
      "  [-1.47402667e-02 -5.16302810e-03]\n",
      "  ...\n",
      "  [ 1.03011171e+00  3.55390752e-01]\n",
      "  [ 1.07602747e+00  3.73533437e-01]\n",
      "  [ 1.11119497e+00  3.88159685e-01]]]\n"
     ]
    }
   ],
   "source": [
    "def feature_engineer(city,stage,split=\"train\"): \n",
    "    f_in = ROOT_PATH + split + \"/\" + city + \"_\" + stage\n",
    "    inputs = pickle.load(open(f_in, \"rb\"))\n",
    "    inputs = np.asarray(inputs)\n",
    "\n",
    "    #feature engineering to get the relative distance\n",
    "    distance = np.diff(inputs,axis=1)\n",
    "    print(distance.shape)\n",
    "    \n",
    "    \n",
    "    fst_timestmp = inputs[:,0]\n",
    "    print(fst_timestmp)\n",
    "    # print(\"every entry first timestamp coordinates shape\",fst_timestmp.shape)\n",
    "    # original = np.empty((inputs.shape[0],0))\n",
    "    # print(inputs[:,0])\n",
    "    # print(distance[0])\n",
    "    # print([fst_timestmp[0]])\n",
    "    \n",
    "    for i, item in zip(distance, fst_timestmp):\n",
    "        \n",
    "        to_put = [item]\n",
    "        update = np.vstack((to_put,i))\n",
    "        # print(to_put)\n",
    "        i = update\n",
    "        print(i)\n",
    "        break\n",
    "    # for i,item in zip(distance, inputs[:,0]):\n",
    "    #     print(\"item to insert\",item)\n",
    "    #     # print(\"list to insert\",i)\n",
    "    #     i = np.vstack((item,i))\n",
    "    #     print(\"list after inserted\",i)\n",
    "    #     break\n",
    "    print(distance)\n",
    "   \n",
    "    return distance\n",
    "\n",
    "dist = feature_engineer(city='palo-alto',stage='inputs')\n"
   ]
  },
  {
   "cell_type": "code",
   "execution_count": null,
   "id": "02f3b90d",
   "metadata": {},
   "outputs": [],
   "source": []
  },
  {
   "cell_type": "code",
   "execution_count": 101,
   "id": "ab869f5b",
   "metadata": {},
   "outputs": [
    {
     "data": {
      "text/plain": [
       "array([], shape=(1343, 0, 0), dtype=float64)"
      ]
     },
     "execution_count": 101,
     "metadata": {},
     "output_type": "execute_result"
    }
   ],
   "source": [
    "np.empty((1343,0,0))"
   ]
  },
  {
   "cell_type": "markdown",
   "id": "058453cc",
   "metadata": {},
   "source": [
    "## Create a DataLoader class for training"
   ]
  },
  {
   "cell_type": "code",
   "execution_count": 5,
   "id": "07579624",
   "metadata": {},
   "outputs": [
    {
     "data": {
      "text/plain": [
       "0"
      ]
     },
     "execution_count": 5,
     "metadata": {},
     "output_type": "execute_result"
    }
   ],
   "source": [
    "torch.cuda.current_device()"
   ]
  },
  {
   "cell_type": "code",
   "execution_count": 6,
   "id": "056cee79",
   "metadata": {
    "scrolled": true
   },
   "outputs": [
    {
     "name": "stdout",
     "output_type": "stream",
     "text": [
      "Sun May 15 18:00:47 2022       \n",
      "+-----------------------------------------------------------------------------+\n",
      "| NVIDIA-SMI 384.81                 Driver Version: 460.67                    |\n",
      "|-------------------------------+----------------------+----------------------+\n",
      "| GPU  Name        Persistence-M| Bus-Id        Disp.A | Volatile Uncorr. ECC |\n",
      "| Fan  Temp  Perf  Pwr:Usage/Cap|         Memory-Usage | GPU-Util  Compute M. |\n",
      "|===============================+======================+======================|\n",
      "|   0  GeForce GTX 108...  Off  | 00000000:08:00.0 Off |                  N/A |\n",
      "| 23%   19C    P8     9W / 250W |      2MiB / 11178MiB |      0%      Default |\n",
      "+-------------------------------+----------------------+----------------------+\n",
      "                                                                               \n",
      "+-----------------------------------------------------------------------------+\n",
      "| Processes:                                                       GPU Memory |\n",
      "|  GPU       PID   Type   Process name                             Usage      |\n",
      "|=============================================================================|\n",
      "Internal error\n"
     ]
    }
   ],
   "source": [
    "!nvidia-smi"
   ]
  },
  {
   "cell_type": "code",
   "execution_count": 7,
   "id": "5c14f0e7",
   "metadata": {},
   "outputs": [],
   "source": [
    "batch_sz = 128  # batch size \n",
    "train_loader = DataLoader(train_dataset,batch_size=batch_sz)"
   ]
  },
  {
   "cell_type": "code",
   "execution_count": 8,
   "id": "ee5b7ae0",
   "metadata": {},
   "outputs": [],
   "source": [
    "from torch import nn, optim\n",
    "\n",
    "class Pred(nn.Module):\n",
    "\n",
    "    def __init__(self):\n",
    "        super().__init__()\n",
    "        \n",
    "        self.encoder = nn.Sequential(\n",
    "            nn.Linear(100, 64),\n",
    "            nn.ReLU(),\n",
    "            nn.Linear(64, 32),\n",
    "            nn.ReLU(),\n",
    "            nn.Linear(32, 32)\n",
    "        )\n",
    "        \n",
    "        \n",
    "        self.decoder = nn.Sequential(\n",
    "            nn.Linear(32, 64),\n",
    "            nn.ReLU(),\n",
    "            nn.Linear(64, 120),\n",
    "            nn.ReLU(),\n",
    "            nn.Linear(120, 120)\n",
    "        )\n",
    "        \n",
    "    def forward(self, x):\n",
    "        x = x.reshape(-1, 100).float()\n",
    "        x = self.encoder(x)\n",
    "        x = self.decoder(x)\n",
    "        x = x.reshape(-1, 60, 2)\n",
    "        return x"
   ]
  },
  {
   "cell_type": "code",
   "execution_count": 9,
   "id": "19637686",
   "metadata": {},
   "outputs": [],
   "source": [
    "val_loader = DataLoader(val_dataset,batch_size=batch_sz)"
   ]
  },
  {
   "cell_type": "code",
   "execution_count": 10,
   "id": "8fa57f42",
   "metadata": {},
   "outputs": [],
   "source": [
    "def train(pred, opt):\n",
    "    device = torch.device('cuda:0')\n",
    "    pred = pred.to(device)\n",
    "    train_losses = []\n",
    "    val_losses = []\n",
    "    for epoch in range(10):\n",
    "\n",
    "        total_loss = 0\n",
    "        for i_batch, sample_batch in enumerate(train_loader):\n",
    "            inp, out = sample_batch\n",
    "            out = out.to(device)\n",
    "            inp = inp.to(device)\n",
    "            preds = pred(inp)\n",
    "            loss = ((preds - out) ** 2).sum()\n",
    "\n",
    "            opt.zero_grad()\n",
    "            loss.backward()\n",
    "            opt.step()\n",
    "\n",
    "            total_loss += loss.item()\n",
    "\n",
    "        val_loss = 0\n",
    "        for i_batch, sample_batch in enumerate(val_loader):\n",
    "            inp, out = sample_batch\n",
    "            out = out.to(device)\n",
    "            inp = inp.to(device)\n",
    "            preds = pred(inp)\n",
    "            loss = ((preds - out) ** 2).sum()\n",
    "            val_loss += loss.item()\n",
    "\n",
    "        train_loss = np.log(total_loss / len(train_dataset))\n",
    "        val_loss = np.log(val_loss / len(val_dataset))\n",
    "\n",
    "        print('epoch {} train_loss: {} val_loss: {}'.format(epoch, train_loss, val_loss))\n",
    "        train_losses.append(train_loss)\n",
    "        val_losses.append(val_loss)\n",
    "\n",
    "\n",
    "    plt.title(\"Loss\")\n",
    "    plt.xlabel(\"epoch\")\n",
    "    plt.ylabel(\"loss\")\n",
    "    plt.plot(train_losses, color =\"red\", label = \"train_loss\")\n",
    "    plt.plot(val_losses, color =\"blue\", label = \"val_loss\")\n",
    "    plt.show()"
   ]
  },
  {
   "cell_type": "code",
   "execution_count": 11,
   "id": "adbc1d90",
   "metadata": {},
   "outputs": [
    {
     "name": "stdout",
     "output_type": "stream",
     "text": [
      "epoch 0 train_loss: 18.15982131711459 val_loss: 14.054174603867393\n",
      "epoch 1 train_loss: 13.012499320064803 val_loss: 12.367946212023925\n",
      "epoch 2 train_loss: 12.27801315048404 val_loss: 12.224581812875895\n",
      "epoch 3 train_loss: 12.21475366732056 val_loss: 12.187039998630826\n",
      "epoch 4 train_loss: 12.173881173213813 val_loss: 12.154670670846382\n",
      "epoch 5 train_loss: 12.143198383423117 val_loss: 12.131061653658582\n",
      "epoch 6 train_loss: 12.130525903812877 val_loss: 12.145003080018933\n",
      "epoch 7 train_loss: 12.140355150946958 val_loss: 12.109872448031375\n",
      "epoch 8 train_loss: 12.156061144270796 val_loss: 12.085740909715648\n",
      "epoch 9 train_loss: 12.14093192555533 val_loss: 12.084421373576117\n"
     ]
    },
    {
     "data": {
      "image/png": "[encoded data removed]",
      "text/plain": [
       "<Figure size 432x288 with 1 Axes>"
      ]
     },
     "metadata": {
      "needs_background": "light"
     },
     "output_type": "display_data"
    },
    {
     "name": "stdout",
     "output_type": "stream",
     "text": [
      "epoch 0 train_loss: 19.201416527831462 val_loss: 18.266626480736388\n",
      "epoch 1 train_loss: 17.6952119710608 val_loss: 16.21296150709416\n",
      "epoch 2 train_loss: 14.771112656392097 val_loss: 13.024789841197828\n",
      "epoch 3 train_loss: 12.798305851244189 val_loss: 12.613133320611265\n",
      "epoch 4 train_loss: 12.515691689248431 val_loss: 12.431044036021776\n",
      "epoch 5 train_loss: 12.377269780580495 val_loss: 12.332505136305967\n",
      "epoch 6 train_loss: 12.299471709792702 val_loss: 12.275801581225975\n",
      "epoch 7 train_loss: 12.247752121713972 val_loss: 12.231000485834112\n",
      "epoch 8 train_loss: 12.214199672579301 val_loss: 12.19453573255751\n",
      "epoch 9 train_loss: 12.191367755523757 val_loss: 12.170496827005495\n"
     ]
    },
    {
     "data": {
      "image/png": "[encoded data removed]",
      "text/plain": [
       "<Figure size 432x288 with 1 Axes>"
      ]
     },
     "metadata": {
      "needs_background": "light"
     },
     "output_type": "display_data"
    }
   ],
   "source": [
    "pred = Pred()\n",
    "opt = optim.Adam(pred.parameters(), lr=1e-3)\n",
    "train(pred, opt)\n",
    "pred = Pred()\n",
    "opt = optim.Adam(pred.parameters(), lr=2e-4)\n",
    "train(pred, opt)"
   ]
  },
  {
   "cell_type": "markdown",
   "id": "6f80b5e4",
   "metadata": {},
   "source": [
    "## Sample a batch of data and visualize "
   ]
  },
  {
   "cell_type": "code",
   "execution_count": null,
   "id": "c6507c9a",
   "metadata": {},
   "outputs": [],
   "source": [
    "import matplotlib.pyplot as plt\n",
    "import random\n",
    "\n",
    "\n",
    "def show_sample_batch(sample_batch):\n",
    "    \"\"\"visualize the trajectory for a batch of samples\"\"\"\n",
    "    inp, out = sample_batch\n",
    "    batch_sz = inp.size(0)\n",
    "    agent_sz = inp.size(1)\n",
    "    \n",
    "    fig, axs = plt.subplots(1,batch_sz, figsize=(15, 3), facecolor='w', edgecolor='k')\n",
    "    fig.subplots_adjust(hspace = .5, wspace=.001)\n",
    "    axs = axs.ravel()   \n",
    "    for i in range(batch_sz):\n",
    "        axs[i].xaxis.set_ticks([])\n",
    "        axs[i].yaxis.set_ticks([])\n",
    "        \n",
    "        # first two feature dimensions are (x,y) positions\n",
    "        axs[i].scatter(inp[i,:,0], inp[i,:,1])\n",
    "        axs[i].scatter(out[i,:,0], out[i,:,1])\n",
    "\n",
    "        \n",
    "for i_batch, sample_batch in enumerate(train_loader):\n",
    "    inp, out = sample_batch\n",
    "    print(inp.shape, out.shape)\n",
    "    break\n",
    "    \"\"\"\n",
    "    TODO:\n",
    "      implement your Deep learning model\n",
    "      implement training routine\n",
    "    \"\"\"\n",
    "    show_sample_batch(sample_batch)\n",
    "    break"
   ]
  },
  {
   "cell_type": "code",
   "execution_count": null,
   "id": "00333419",
   "metadata": {},
   "outputs": [],
   "source": [
    "austin_trial = np.asarray(pickle.load(open(\"./train/austin_inputs\", \"rb\")))\n",
    "austin_trial"
   ]
  },
  {
   "cell_type": "code",
   "execution_count": null,
   "id": "359d7182",
   "metadata": {},
   "outputs": [],
   "source": [
    "austin_trial_preds = pred(torch.from_numpy(austin_trial))\n",
    "austin_trial_preds.size()"
   ]
  },
  {
   "cell_type": "code",
   "execution_count": null,
   "id": "850f8799",
   "metadata": {},
   "outputs": [],
   "source": [
    "austin_trial_outputs = np.asarray(pickle.load(open(\"./train/austin_outputs\", \"rb\")))\n",
    "austin_trial_outputs"
   ]
  },
  {
   "cell_type": "code",
   "execution_count": 84,
   "id": "9df44992",
   "metadata": {},
   "outputs": [],
   "source": [
    "class RNN(nn.Module):\n",
    "\n",
    "    def __init__(self, input_size, hidden_size, output_size):\n",
    "        super(RNN, self).__init__()\n",
    "        self.hidden_size = hidden_size\n",
    "        \n",
    "        self.i2h = nn.Linear(input_size + hidden_size, hidden_size)\n",
    "        self.i2o = nn.Linear(input_size + hidden_size, output_size)\n",
    "        self.softmax = nn.Softmax(dim=1)\n",
    "\n",
    "    def forward(self, input, hidden):\n",
    "        input = input.reshape(-1, 100).float()\n",
    "        combined = torch.cat([input, hidden], dim=1)\n",
    "        hidden_new = self.i2h(combined)\n",
    "        output = self.i2o(combined)\n",
    "        output = self.softmax(output)\n",
    "        output = output.reshape(-1, 60, 2)\n",
    "        return output, hidden_new\n",
    "\n",
    "    def initHidden(self, batch_size):\n",
    "        return torch.zeros(batch_size, self.hidden_size)"
   ]
  },
  {
   "cell_type": "code",
   "execution_count": 85,
   "id": "fe824a4f",
   "metadata": {},
   "outputs": [],
   "source": [
    "rnn = RNN(100, 64, 120)\n",
    "lr = 1e-5\n",
    "opt = optim.Adam(pred.parameters(), lr=lr)\n",
    "criterion = nn.MSELoss()"
   ]
  },
  {
   "cell_type": "code",
   "execution_count": 86,
   "id": "b63e0d98",
   "metadata": {},
   "outputs": [
    {
     "ename": "AttributeError",
     "evalue": "'NoneType' object has no attribute 'view'",
     "output_type": "error",
     "traceback": [
      "\u001b[0;31m---------------------------------------------------------------------------\u001b[0m",
      "\u001b[0;31mAttributeError\u001b[0m                            Traceback (most recent call last)",
      "\u001b[0;32m/tmp/ipykernel_575/2959354597.py\u001b[0m in \u001b[0;36m<module>\u001b[0;34m\u001b[0m\n\u001b[1;32m     15\u001b[0m         \u001b[0;32mfor\u001b[0m \u001b[0mp\u001b[0m \u001b[0;32min\u001b[0m \u001b[0mrnn\u001b[0m\u001b[0;34m.\u001b[0m\u001b[0mparameters\u001b[0m\u001b[0;34m(\u001b[0m\u001b[0;34m)\u001b[0m\u001b[0;34m:\u001b[0m\u001b[0;34m\u001b[0m\u001b[0;34m\u001b[0m\u001b[0m\n\u001b[1;32m     16\u001b[0m             \u001b[0;31m#print(p.is_leaf)\u001b[0m\u001b[0;34m\u001b[0m\u001b[0;34m\u001b[0m\u001b[0;34m\u001b[0m\u001b[0m\n\u001b[0;32m---> 17\u001b[0;31m             \u001b[0mp\u001b[0m\u001b[0;34m.\u001b[0m\u001b[0mdata\u001b[0m\u001b[0;34m.\u001b[0m\u001b[0madd_\u001b[0m\u001b[0;34m(\u001b[0m\u001b[0mp\u001b[0m\u001b[0;34m.\u001b[0m\u001b[0mgrad\u001b[0m\u001b[0;34m.\u001b[0m\u001b[0mview\u001b[0m\u001b[0;34m(\u001b[0m\u001b[0;34m-\u001b[0m\u001b[0;36m1\u001b[0m\u001b[0;34m)\u001b[0m\u001b[0;34m,\u001b[0m \u001b[0malpha\u001b[0m\u001b[0;34m=\u001b[0m\u001b[0;34m-\u001b[0m\u001b[0mlr\u001b[0m\u001b[0;34m)\u001b[0m\u001b[0;34m\u001b[0m\u001b[0;34m\u001b[0m\u001b[0m\n\u001b[0m\u001b[1;32m     18\u001b[0m \u001b[0;34m\u001b[0m\u001b[0m\n\u001b[1;32m     19\u001b[0m \u001b[0;34m\u001b[0m\u001b[0m\n",
      "\u001b[0;31mAttributeError\u001b[0m: 'NoneType' object has no attribute 'view'"
     ]
    }
   ],
   "source": [
    "batch_size = 64\n",
    "train_loader = DataLoader(train_dataset,batch_size=batch_size, drop_last = True)\n",
    "train_losses = []\n",
    "val_losses = []\n",
    "for epoch in range(5):\n",
    "    \n",
    "    total_loss = 0\n",
    "    for i_batch, sample_batch in enumerate(train_loader):\n",
    "        inp, out = sample_batch\n",
    "        #inp = inp.float\n",
    "        out = out.float()\n",
    "        hidden = rnn.initHidden(batch_size)\n",
    "        preds, hidden = rnn(inp, hidden)\n",
    "        #loss = ((preds - out) ** 2).sum()\n",
    "        for p in rnn.parameters():\n",
    "            #print(p.is_leaf)\n",
    "            p.data.add_(p.grad.view(-1), alpha=-lr)\n",
    "        \n",
    "        \n",
    "        loss = criterion(preds, out)\n",
    "        \n",
    "        opt.zero_grad()\n",
    "        loss.backward()\n",
    "        opt.step()\n",
    "        \n",
    "        total_loss += loss.item()\n",
    "    \n",
    "    train_loss = np.log(total_loss / len(train_dataset))\n",
    "    \n",
    "    print('epoch {} train_loss: {}'.format(epoch, train_loss))\n",
    "    train_losses.append(train_loss)\n",
    "    \n",
    "\n",
    "plt.title(\"Loss\")\n",
    "plt.xlabel(\"epoch\")\n",
    "plt.ylabel(\"loss\")\n",
    "plt.plot(train_losses, color =\"red\", label = \"train_loss\")\n",
    "plt.show()"
   ]
  },
  {
   "cell_type": "code",
   "execution_count": null,
   "id": "05e2d908",
   "metadata": {},
   "outputs": [],
   "source": []
  },
  {
   "cell_type": "code",
   "execution_count": null,
   "id": "76b45c5e",
   "metadata": {},
   "outputs": [],
   "source": []
  }
 ],
 "metadata": {
  "interpreter": {
   "hash": "0badae1d762a593e21dda2704971e08c71a422e1e2bc73eb398804a87b799971"
  },
  "kernelspec": {
   "display_name": "Python 3 (ipykernel)",
   "language": "python",
   "name": "python3"
  },
  "language_info": {
   "codemirror_mode": {
    "name": "ipython",
    "version": 3
   },
   "file_extension": ".py",
   "mimetype": "text/x-python",
   "name": "python",
   "nbconvert_exporter": "python",
   "pygments_lexer": "ipython3",
   "version": "3.9.5"
  }
 },
 "nbformat": 4,
 "nbformat_minor": 5
}
