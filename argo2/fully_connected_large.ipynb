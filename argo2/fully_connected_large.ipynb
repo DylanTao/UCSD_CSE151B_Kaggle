{
 "cells": [
  {
   "cell_type": "markdown",
   "id": "718c38cf",
   "metadata": {},
   "source": [
    "## Install the package dependencies before running this notebook"
   ]
  },
  {
   "cell_type": "code",
   "execution_count": 1,
   "id": "16ac7530",
   "metadata": {},
   "outputs": [
    {
     "data": {
      "text/plain": [
       "'\\n    number of trajectories in each city\\n    # austin --  train: 43041 test: 6325 \\n    # miami -- train: 55029 test:7971\\n    # pittsburgh -- train: 43544 test: 6361\\n    # dearborn -- train: 24465 test: 3671\\n    # washington-dc -- train: 25744 test: 3829\\n    # palo-alto -- train:  11993 test:1686\\n\\n    trajectories sampled at 10HZ rate, input 5 seconds, output 6 seconds\\n    \\n'"
      ]
     },
     "execution_count": 1,
     "metadata": {},
     "output_type": "execute_result"
    }
   ],
   "source": [
    "import torch\n",
    "from torch.utils.data import Dataset, DataLoader\n",
    "import os, os.path \n",
    "import numpy \n",
    "import pickle\n",
    "from glob import glob\n",
    "import matplotlib.pyplot as plt\n",
    "\n",
    "\"\"\"\n",
    "    number of trajectories in each city\n",
    "    # austin --  train: 43041 test: 6325 \n",
    "    # miami -- train: 55029 test:7971\n",
    "    # pittsburgh -- train: 43544 test: 6361\n",
    "    # dearborn -- train: 24465 test: 3671\n",
    "    # washington-dc -- train: 25744 test: 3829\n",
    "    # palo-alto -- train:  11993 test:1686\n",
    "\n",
    "    trajectories sampled at 10HZ rate, input 5 seconds, output 6 seconds\n",
    "    \n",
    "\"\"\""
   ]
  },
  {
   "cell_type": "markdown",
   "id": "0b472cf2",
   "metadata": {},
   "source": [
    "## Create a Torch.Dataset class for the training dataset"
   ]
  },
  {
   "cell_type": "code",
   "execution_count": 2,
   "id": "091abbb7",
   "metadata": {},
   "outputs": [],
   "source": [
    "from glob import glob\n",
    "import pickle\n",
    "import numpy as np\n",
    "\n",
    "ROOT_PATH = \"./\"\n",
    "\n",
    "cities = [\"austin\", \"miami\", \"pittsburgh\", \"dearborn\", \"washington-dc\", \"palo-alto\"]\n",
    "splits = [\"train\", \"test\"]\n",
    "\n",
    "def get_city_trajectories(city=\"palo-alto\", split=\"train\", normalized=False):\n",
    "\n",
    "    \n",
    "    outputs = None\n",
    "    \n",
    "    if split==\"train\":\n",
    "        f_in = ROOT_PATH + split + \"/\" + city + \"_inputs\"\n",
    "        inputs = pickle.load(open(f_in, \"rb\"))\n",
    "        n = len(inputs)\n",
    "        inputs = np.asarray(inputs)[:int(n * 0.8)]\n",
    "        \n",
    "        f_out = ROOT_PATH + split + \"/\" + city + \"_outputs\"\n",
    "        outputs = pickle.load(open(f_out, \"rb\"))\n",
    "        outputs = np.asarray(outputs)[:int(n * 0.8)]\n",
    "        \n",
    "    elif split == 'val':\n",
    "        f_in = ROOT_PATH + 'train' + \"/\" + city + \"_inputs\"\n",
    "        inputs = pickle.load(open(f_in, \"rb\"))\n",
    "        n = len(inputs)\n",
    "        inputs = np.asarray(inputs)[int(n * 0.8):]\n",
    "        \n",
    "        f_out = ROOT_PATH + 'train' + \"/\" + city + \"_outputs\"\n",
    "        outputs = pickle.load(open(f_out, \"rb\"))\n",
    "        outputs = np.asarray(outputs)[int(n * 0.8):]\n",
    "    \n",
    "    else:\n",
    "        f_in = ROOT_PATH + split + \"/\" + city + \"_inputs\"\n",
    "        inputs = pickle.load(open(f_in, \"rb\"))\n",
    "        n = len(inputs)\n",
    "        inputs = np.asarray(inputs)\n",
    "\n",
    "    return inputs, outputs\n",
    "\n",
    "class ArgoverseDataset(Dataset):\n",
    "    \"\"\"Dataset class for Argoverse\"\"\"\n",
    "    def __init__(self, city: str, split:str, transform=None):\n",
    "        super(ArgoverseDataset, self).__init__()\n",
    "        self.transform = transform\n",
    "\n",
    "        self.inputs, self.outputs = get_city_trajectories(city=city, split=split, normalized=False)\n",
    "\n",
    "    def __len__(self):\n",
    "        return len(self.inputs)\n",
    "\n",
    "    def __getitem__(self, idx):\n",
    "\n",
    "        data = (self.inputs[idx], self.outputs[idx])\n",
    "            \n",
    "        if self.transform:\n",
    "            data = self.transform(data)\n",
    "\n",
    "        return data"
   ]
  },
  {
   "cell_type": "markdown",
   "id": "058453cc",
   "metadata": {},
   "source": [
    "## Create a DataLoader class for training"
   ]
  },
  {
   "cell_type": "code",
   "execution_count": 3,
   "id": "07579624",
   "metadata": {},
   "outputs": [
    {
     "data": {
      "text/plain": [
       "0"
      ]
     },
     "execution_count": 3,
     "metadata": {},
     "output_type": "execute_result"
    }
   ],
   "source": [
    "torch.cuda.current_device()"
   ]
  },
  {
   "cell_type": "code",
   "execution_count": 4,
   "id": "056cee79",
   "metadata": {
    "scrolled": true
   },
   "outputs": [
    {
     "name": "stdout",
     "output_type": "stream",
     "text": [
      "Fri May 20 17:43:00 2022       \n",
      "+-----------------------------------------------------------------------------+\n",
      "| NVIDIA-SMI 384.81                 Driver Version: 460.67                    |\n",
      "|-------------------------------+----------------------+----------------------+\n",
      "| GPU  Name        Persistence-M| Bus-Id        Disp.A | Volatile Uncorr. ECC |\n",
      "| Fan  Temp  Perf  Pwr:Usage/Cap|         Memory-Usage | GPU-Util  Compute M. |\n",
      "|===============================+======================+======================|\n",
      "|   0  GeForce RTX 208...  Off  | 00000000:B1:00.0 Off |                  N/A |\n",
      "|  0%   39C    P8    10W / 250W |   1436MiB / 11019MiB |      0%      Default |\n",
      "+-------------------------------+----------------------+----------------------+\n",
      "                                                                               \n",
      "+-----------------------------------------------------------------------------+\n",
      "| Processes:                                                       GPU Memory |\n",
      "|  GPU       PID   Type   Process name                             Usage      |\n",
      "|=============================================================================|\n",
      "Internal error\n"
     ]
    }
   ],
   "source": [
    "!nvidia-smi"
   ]
  },
  {
   "cell_type": "code",
   "execution_count": 5,
   "id": "ee5b7ae0",
   "metadata": {},
   "outputs": [],
   "source": [
    "from torch import nn, optim\n",
    "\n",
    "class Pred(nn.Module):\n",
    "\n",
    "    def __init__(self):\n",
    "        super().__init__()\n",
    "        \n",
    "        self.encoder = nn.Sequential(\n",
    "            nn.Linear(100, 256),\n",
    "            nn.ReLU(),\n",
    "            nn.Linear(256, 128),\n",
    "            nn.ReLU(),\n",
    "            nn.Linear(128, 64),\n",
    "            nn.ReLU()\n",
    "        )\n",
    "        \n",
    "        \n",
    "        self.decoder = nn.Sequential(\n",
    "            nn.Linear(64, 128),\n",
    "            nn.ReLU(),\n",
    "            nn.Linear(128, 256),\n",
    "            nn.ReLU(),\n",
    "            nn.Linear(256, 120)\n",
    "        )\n",
    "        \n",
    "    def forward(self, x):\n",
    "        x = x.reshape(-1, 100).float()\n",
    "        x = self.encoder(x)\n",
    "        x = self.decoder(x)\n",
    "        x = x.reshape(-1, 60, 2)\n",
    "        return x"
   ]
  },
  {
   "cell_type": "code",
   "execution_count": 6,
   "id": "8fa57f42",
   "metadata": {},
   "outputs": [],
   "source": [
    "def train(pred, opt, train_dataset, train_loader, val_dataset, val_loader):\n",
    "    device = torch.device('cuda:0')\n",
    "    pred = pred.to(device)\n",
    "    train_losses = []\n",
    "    val_losses = []\n",
    "    for epoch in range(50):\n",
    "\n",
    "        total_loss = 0\n",
    "        for i_batch, sample_batch in enumerate(train_loader):\n",
    "            inp, out = sample_batch\n",
    "            out = out.to(device)\n",
    "            inp = inp.to(device)\n",
    "            preds = pred(inp)\n",
    "            loss = ((preds - out) ** 2).sum()\n",
    "\n",
    "            opt.zero_grad()\n",
    "            loss.backward()\n",
    "            opt.step()\n",
    "\n",
    "            total_loss += loss.item()\n",
    "\n",
    "        val_loss = 0\n",
    "        for i_batch, sample_batch in enumerate(val_loader):\n",
    "            inp, out = sample_batch\n",
    "            out = out.to(device)\n",
    "            inp = inp.to(device)\n",
    "            preds = pred(inp)\n",
    "            #print(preds)\n",
    "            loss = ((preds - out) ** 2).sum()\n",
    "            val_loss += loss.item()\n",
    "\n",
    "        train_loss = np.log(total_loss / len(train_dataset))\n",
    "        val_loss = np.log(val_loss / len(val_dataset))\n",
    "\n",
    "        print('epoch {} train_loss: {} val_loss: {}'.format(epoch, train_loss, val_loss))\n",
    "        train_losses.append(train_loss)\n",
    "        val_losses.append(val_loss)\n",
    "\n",
    "\n",
    "    plt.title(\"Loss\")\n",
    "    plt.xlabel(\"epoch\")\n",
    "    plt.ylabel(\"loss\")\n",
    "    plt.plot(train_losses, color =\"red\", label = \"train_loss\")\n",
    "    plt.plot(val_losses, color =\"blue\", label = \"val_loss\")\n",
    "    plt.legend()\n",
    "    plt.show()"
   ]
  },
  {
   "cell_type": "code",
   "execution_count": null,
   "id": "564cd63b",
   "metadata": {
    "scrolled": true
   },
   "outputs": [
    {
     "name": "stdout",
     "output_type": "stream",
     "text": [
      "city: austin\n",
      "epoch 0 train_loss: 17.98660819616703 val_loss: 12.837121983695578\n",
      "epoch 1 train_loss: 12.252618531389679 val_loss: 12.031263554688273\n",
      "epoch 2 train_loss: 11.884144990255463 val_loss: 11.867398664677324\n",
      "epoch 3 train_loss: 11.812445347030234 val_loss: 11.811166039661844\n",
      "epoch 4 train_loss: 11.789894295737025 val_loss: 11.78075917472188\n",
      "epoch 5 train_loss: 11.776774672900428 val_loss: 11.747298819816237\n",
      "epoch 6 train_loss: 11.7657138926964 val_loss: 11.738908254653309\n",
      "epoch 7 train_loss: 11.75476952891784 val_loss: 11.765813473639968\n",
      "epoch 8 train_loss: 11.743248634871106 val_loss: 11.81812876703073\n",
      "epoch 9 train_loss: 11.732959749238908 val_loss: 11.851998545797462\n",
      "epoch 10 train_loss: 11.720699641857282 val_loss: 11.868764155553711\n",
      "epoch 11 train_loss: 11.705461929323436 val_loss: 11.881485549404134\n",
      "epoch 12 train_loss: 11.685504117816558 val_loss: 11.876729446538532\n",
      "epoch 13 train_loss: 11.6624447623588 val_loss: 11.842729243668408\n",
      "epoch 14 train_loss: 11.640759553642809 val_loss: 11.801853055680205\n",
      "epoch 15 train_loss: 11.618467803066602 val_loss: 11.736104484958712\n",
      "epoch 16 train_loss: 11.597076402296846 val_loss: 11.678624645184474\n",
      "epoch 17 train_loss: 11.568283543336044 val_loss: 11.602493601956144\n",
      "epoch 18 train_loss: 11.533428973347993 val_loss: 11.511576615029622\n",
      "epoch 19 train_loss: 11.495650373433952 val_loss: 11.4286134826526\n",
      "epoch 20 train_loss: 11.460890530996828 val_loss: 11.379891315145702\n",
      "epoch 21 train_loss: 11.42290016211817 val_loss: 11.342804575689163\n",
      "epoch 22 train_loss: 11.366797081952747 val_loss: 11.368466339085296\n",
      "epoch 23 train_loss: 11.307746553608542 val_loss: 11.3794108012468\n",
      "epoch 24 train_loss: 11.25192469632477 val_loss: 11.326420770734524\n",
      "epoch 25 train_loss: 11.19659216702949 val_loss: 11.22352908386947\n",
      "epoch 26 train_loss: 11.13514722428086 val_loss: 11.09897672357385\n",
      "epoch 27 train_loss: 11.030365835716085 val_loss: 11.128952899408091\n",
      "epoch 28 train_loss: 10.93137048752571 val_loss: 10.949392107176964\n",
      "epoch 29 train_loss: 10.880250953825149 val_loss: 11.06181276620153\n",
      "epoch 30 train_loss: 10.825261936663262 val_loss: 11.17574509026023\n",
      "epoch 31 train_loss: 10.756842704563917 val_loss: 10.694329187746913\n",
      "epoch 32 train_loss: 10.767264995891946 val_loss: 10.722050414533511\n",
      "epoch 33 train_loss: 10.67387766832401 val_loss: 10.750657444368995\n",
      "epoch 34 train_loss: 10.664767552494352 val_loss: 10.6208028670057\n",
      "epoch 35 train_loss: 10.641056177728169 val_loss: 10.591763904374009\n",
      "epoch 36 train_loss: 10.593630973075635 val_loss: 10.57041447224242\n",
      "epoch 37 train_loss: 10.58131227619579 val_loss: 10.607628568647906\n",
      "epoch 38 train_loss: 10.526152497470044 val_loss: 10.561728018216003\n",
      "epoch 39 train_loss: 10.542805589330683 val_loss: 10.616430465693334\n",
      "epoch 40 train_loss: 10.47478868357499 val_loss: 10.601203486509444\n",
      "epoch 41 train_loss: 10.488849058712562 val_loss: 10.524758283256821\n",
      "epoch 42 train_loss: 10.450432083329506 val_loss: 10.509939572668147\n",
      "epoch 43 train_loss: 10.422728147928474 val_loss: 10.475786623422977\n",
      "epoch 44 train_loss: 10.417945679287143 val_loss: 10.506750709619201\n",
      "epoch 45 train_loss: 10.346514083668682 val_loss: 10.368240890165822\n",
      "epoch 46 train_loss: 10.357341751687164 val_loss: 10.308859588226497\n",
      "epoch 47 train_loss: 10.32530584454447 val_loss: 10.251897099856373\n",
      "epoch 48 train_loss: 10.296733857939023 val_loss: 10.250821402594022\n",
      "epoch 49 train_loss: 10.300025731307326 val_loss: 10.518938092042102\n"
     ]
    },
    {
     "data": {
      "image/png": "[encoded data removed]",
      "text/plain": [
       "<Figure size 432x288 with 1 Axes>"
      ]
     },
     "metadata": {
      "needs_background": "light"
     },
     "output_type": "display_data"
    },
    {
     "name": "stdout",
     "output_type": "stream",
     "text": [
      "city: miami\n",
      "epoch 0 train_loss: 19.400749238648743 val_loss: 13.263727164331685\n",
      "epoch 1 train_loss: 12.482308143405254 val_loss: 11.965792445087972\n",
      "epoch 2 train_loss: 11.839242542149162 val_loss: 11.7336892565181\n",
      "epoch 3 train_loss: 11.727533220087366 val_loss: 11.760678941572618\n",
      "epoch 4 train_loss: 11.67270525022304 val_loss: 11.638977796663086\n",
      "epoch 5 train_loss: 11.635134512319715 val_loss: 11.642991718417932\n",
      "epoch 6 train_loss: 11.618686663420391 val_loss: 11.586884755898843\n",
      "epoch 7 train_loss: 11.605703327854346 val_loss: 11.497270532897975\n",
      "epoch 8 train_loss: 11.60207906172727 val_loss: 11.55105649696006\n",
      "epoch 9 train_loss: 11.610973637839695 val_loss: 11.597274611877973\n",
      "epoch 10 train_loss: 11.61786176172223 val_loss: 11.58304250383974\n",
      "epoch 11 train_loss: 11.612208294495254 val_loss: 11.520602202162724\n",
      "epoch 12 train_loss: 11.584342864407846 val_loss: 11.457996111334236\n",
      "epoch 13 train_loss: 11.577454184942654 val_loss: 11.438816587299536\n",
      "epoch 14 train_loss: 11.586610815164534 val_loss: 11.420551868439224\n",
      "epoch 15 train_loss: 11.59218813225883 val_loss: 11.404371148177196\n",
      "epoch 16 train_loss: 11.583331036990824 val_loss: 11.396568837711351\n",
      "epoch 17 train_loss: 11.574243458577378 val_loss: 11.383466273996893\n",
      "epoch 18 train_loss: 11.563736089677814 val_loss: 11.370467857397593\n",
      "epoch 19 train_loss: 11.554601008268484 val_loss: 11.357415578010952\n",
      "epoch 20 train_loss: 11.544827224449982 val_loss: 11.347290888284595\n",
      "epoch 21 train_loss: 11.53340485882638 val_loss: 11.338790976097103\n",
      "epoch 22 train_loss: 11.52610589269374 val_loss: 11.333147534745201\n",
      "epoch 23 train_loss: 11.516679120841008 val_loss: 11.325332173960476\n",
      "epoch 24 train_loss: 11.50783505178574 val_loss: 11.31608025542321\n",
      "epoch 25 train_loss: 11.498024984682367 val_loss: 11.307212024508976\n",
      "epoch 26 train_loss: 11.490189000098978 val_loss: 11.296621184013445\n",
      "epoch 27 train_loss: 11.477369950867033 val_loss: 11.283731093938917\n",
      "epoch 28 train_loss: 11.465575127339417 val_loss: 11.274496222589459\n",
      "epoch 29 train_loss: 11.457550059563916 val_loss: 11.260933662902389\n",
      "epoch 30 train_loss: 11.444154916592794 val_loss: 11.248536037152155\n",
      "epoch 31 train_loss: 11.433303761911137 val_loss: 11.235080108326503\n",
      "epoch 32 train_loss: 11.423572145295463 val_loss: 11.226092395782302\n",
      "epoch 33 train_loss: 11.411557622978815 val_loss: 11.210246726056877\n",
      "epoch 34 train_loss: 11.40116422397929 val_loss: 11.199001118339023\n",
      "epoch 35 train_loss: 11.390409954991084 val_loss: 11.178210290500804\n",
      "epoch 36 train_loss: 11.376615583467743 val_loss: 11.167616606484037\n",
      "epoch 37 train_loss: 11.365921127072077 val_loss: 11.148214795671127\n",
      "epoch 38 train_loss: 11.350833000334005 val_loss: 11.130876679782485\n",
      "epoch 39 train_loss: 11.33454770884911 val_loss: 11.11554884404388\n",
      "epoch 40 train_loss: 11.322593345837191 val_loss: 11.098229373708001\n",
      "epoch 41 train_loss: 11.312806173069019 val_loss: 11.077689383441182\n",
      "epoch 42 train_loss: 11.300820455821803 val_loss: 11.05447387297728\n",
      "epoch 43 train_loss: 11.283661457964797 val_loss: 11.031838699753633\n",
      "epoch 44 train_loss: 11.26554771145934 val_loss: 11.015424218487135\n",
      "epoch 45 train_loss: 11.250173850810832 val_loss: 11.001782418017575\n",
      "epoch 46 train_loss: 11.227698808434816 val_loss: 10.979242061100587\n",
      "epoch 47 train_loss: 11.216517169534422 val_loss: 10.963780282568067\n",
      "epoch 48 train_loss: 11.200091283581182 val_loss: 10.943604742273978\n",
      "epoch 49 train_loss: 11.180879483196437 val_loss: 10.938451987418627\n"
     ]
    },
    {
     "data": {
      "image/png": "[encoded data removed]",
      "text/plain": [
       "<Figure size 432x288 with 1 Axes>"
      ]
     },
     "metadata": {
      "needs_background": "light"
     },
     "output_type": "display_data"
    },
    {
     "name": "stdout",
     "output_type": "stream",
     "text": [
      "city: pittsburgh\n",
      "epoch 0 train_loss: 19.208237875716527 val_loss: 15.785945777916098\n",
      "epoch 1 train_loss: 13.496161848791033 val_loss: 11.742794960668375\n",
      "epoch 2 train_loss: 11.610152523312074 val_loss: 11.540536699720327\n",
      "epoch 3 train_loss: 11.514228207777318 val_loss: 11.486032928951765\n",
      "epoch 4 train_loss: 11.490183267033592 val_loss: 11.480954009885496\n",
      "epoch 5 train_loss: 11.483070966257195 val_loss: 11.524427576200793\n",
      "epoch 6 train_loss: 11.48208840652908 val_loss: 11.595128145029479\n",
      "epoch 7 train_loss: 11.48359381719684 val_loss: 11.56458317313624\n",
      "epoch 8 train_loss: 11.482548233961642 val_loss: 11.52121580191179\n",
      "epoch 9 train_loss: 11.479825194660927 val_loss: 11.531455114962704\n",
      "epoch 10 train_loss: 11.478203392721511 val_loss: 11.515653669990385\n",
      "epoch 11 train_loss: 11.474399830184458 val_loss: 11.542933206423026\n",
      "epoch 12 train_loss: 11.473267845483823 val_loss: 11.655665842361312\n",
      "epoch 13 train_loss: 11.477764233250323 val_loss: 11.679804351133884\n",
      "epoch 14 train_loss: 11.482051884400894 val_loss: 11.709415945174591\n",
      "epoch 15 train_loss: 11.489484966337924 val_loss: 11.739549447722307\n",
      "epoch 16 train_loss: 11.495047127789569 val_loss: 11.775901275186586\n",
      "epoch 17 train_loss: 11.495070112959112 val_loss: 11.830389462285453\n",
      "epoch 18 train_loss: 11.487814231925068 val_loss: 11.933394051346031\n",
      "epoch 19 train_loss: 11.473588443881496 val_loss: 12.089199138942993\n",
      "epoch 20 train_loss: 11.461886258558211 val_loss: 12.057135868027371\n",
      "epoch 21 train_loss: 11.44959590636912 val_loss: 11.833070167303413\n",
      "epoch 22 train_loss: 11.43223396097052 val_loss: 11.639942964329986\n",
      "epoch 23 train_loss: 11.425162554850502 val_loss: 11.558643774573229\n",
      "epoch 24 train_loss: 11.419781578372296 val_loss: 11.458525408953236\n",
      "epoch 25 train_loss: 11.40570049331389 val_loss: 11.378935496741729\n",
      "epoch 26 train_loss: 11.389994479539018 val_loss: 11.375814244399074\n",
      "epoch 27 train_loss: 11.378728871961107 val_loss: 11.369709879388989\n",
      "epoch 28 train_loss: 11.365570521520251 val_loss: 11.364498288172483\n",
      "epoch 29 train_loss: 11.350492019673808 val_loss: 11.382487735381812\n",
      "epoch 30 train_loss: 11.335920925963684 val_loss: 11.385155996943924\n",
      "epoch 31 train_loss: 11.321616826660405 val_loss: 11.358187052185599\n",
      "epoch 32 train_loss: 11.306477543881847 val_loss: 11.335796285897828\n",
      "epoch 33 train_loss: 11.292233100728168 val_loss: 11.330912956628199\n",
      "epoch 34 train_loss: 11.278778311203554 val_loss: 11.32809650804364\n",
      "epoch 35 train_loss: 11.263934718383636 val_loss: 11.341651521100353\n",
      "epoch 36 train_loss: 11.247831846795398 val_loss: 11.369943681402008\n",
      "epoch 37 train_loss: 11.230288201128602 val_loss: 11.427267997465218\n",
      "epoch 38 train_loss: 11.212548614219155 val_loss: 11.505249809831211\n",
      "epoch 39 train_loss: 11.19674440703373 val_loss: 11.563111331312518\n",
      "epoch 40 train_loss: 11.181285821959866 val_loss: 11.592249252418554\n",
      "epoch 41 train_loss: 11.164454276785802 val_loss: 11.606040952907657\n",
      "epoch 42 train_loss: 11.146390388480047 val_loss: 11.619727073307999\n",
      "epoch 43 train_loss: 11.129487084381225 val_loss: 11.613093141612703\n",
      "epoch 44 train_loss: 11.110952724344015 val_loss: 11.599427888778358\n",
      "epoch 45 train_loss: 11.091880992000721 val_loss: 11.586697051761538\n",
      "epoch 46 train_loss: 11.072737179443632 val_loss: 11.552508532858385\n",
      "epoch 47 train_loss: 11.0523052223722 val_loss: 11.53926579364883\n",
      "epoch 48 train_loss: 11.032467088177638 val_loss: 11.506227160936687\n",
      "epoch 49 train_loss: 11.010418919636754 val_loss: 11.448265119732056\n"
     ]
    },
    {
     "data": {
      "image/png": "[encoded data removed]",
      "text/plain": [
       "<Figure size 432x288 with 1 Axes>"
      ]
     },
     "metadata": {
      "needs_background": "light"
     },
     "output_type": "display_data"
    },
    {
     "name": "stdout",
     "output_type": "stream",
     "text": [
      "city: dearborn\n",
      "epoch 0 train_loss: 21.311903739059296 val_loss: 17.118561605197872\n",
      "epoch 1 train_loss: 15.653776686519747 val_loss: 13.835013852554246\n",
      "epoch 2 train_loss: 13.146736492954211 val_loss: 12.413192919350447\n",
      "epoch 3 train_loss: 12.335390733135975 val_loss: 12.392214177569931\n",
      "epoch 4 train_loss: 12.261408197670065 val_loss: 12.449477980950316\n",
      "epoch 5 train_loss: 12.231726577242824 val_loss: 12.393865729943931\n",
      "epoch 6 train_loss: 12.210015113580896 val_loss: 12.293725441023721\n",
      "epoch 7 train_loss: 12.196073028633021 val_loss: 12.210579329583922\n",
      "epoch 8 train_loss: 12.193146065769817 val_loss: 12.176156314919517\n",
      "epoch 9 train_loss: 12.195370658276508 val_loss: 12.180277977658003\n",
      "epoch 10 train_loss: 12.19650492150249 val_loss: 12.193361509557706\n",
      "epoch 11 train_loss: 12.19715879480014 val_loss: 12.201439811620727\n",
      "epoch 12 train_loss: 12.196019341596882 val_loss: 12.19971700380083\n",
      "epoch 13 train_loss: 12.19413298677179 val_loss: 12.193371220099433\n",
      "epoch 14 train_loss: 12.191969786846144 val_loss: 12.19523841445049\n",
      "epoch 15 train_loss: 12.191058727922025 val_loss: 12.175482482773127\n",
      "epoch 16 train_loss: 12.186512611744519 val_loss: 12.154363149435017\n",
      "epoch 17 train_loss: 12.17956286259904 val_loss: 12.136636088424138\n",
      "epoch 18 train_loss: 12.173533876271767 val_loss: 12.138105588199194\n",
      "epoch 19 train_loss: 12.17389963694039 val_loss: 12.150486536360832\n",
      "epoch 20 train_loss: 12.179397146311794 val_loss: 12.148584074125074\n",
      "epoch 21 train_loss: 12.18035638056209 val_loss: 12.138311368772024\n",
      "epoch 22 train_loss: 12.18119212771856 val_loss: 12.120081896295076\n",
      "epoch 23 train_loss: 12.181208117134783 val_loss: 12.101251832957068\n",
      "epoch 24 train_loss: 12.182881547707558 val_loss: 12.08118011083335\n",
      "epoch 25 train_loss: 12.185050825134638 val_loss: 12.062436824857757\n",
      "epoch 26 train_loss: 12.187354559155441 val_loss: 12.048275259687783\n",
      "epoch 27 train_loss: 12.193120201085998 val_loss: 12.037487406538377\n",
      "epoch 28 train_loss: 12.195532016949723 val_loss: 12.032272040661498\n",
      "epoch 29 train_loss: 12.201604608319586 val_loss: 12.029443604788385\n",
      "epoch 30 train_loss: 12.205290365764036 val_loss: 12.028236205155398\n",
      "epoch 31 train_loss: 12.204395793480696 val_loss: 12.021027727661254\n",
      "epoch 32 train_loss: 12.207979077453372 val_loss: 12.014612772643957\n",
      "epoch 33 train_loss: 12.205157704587696 val_loss: 12.005882062916914\n",
      "epoch 34 train_loss: 12.206600726176491 val_loss: 12.001166796804318\n",
      "epoch 35 train_loss: 12.20370489092404 val_loss: 12.00068004521528\n",
      "epoch 36 train_loss: 12.196737558961944 val_loss: 12.007748315547513\n",
      "epoch 37 train_loss: 12.181706011361088 val_loss: 12.02666408526258\n",
      "epoch 38 train_loss: 12.1631420268107 val_loss: 12.084070828878502\n",
      "epoch 39 train_loss: 12.143752158148445 val_loss: 12.155909273284221\n",
      "epoch 40 train_loss: 12.131391398921496 val_loss: 12.057307872767508\n",
      "epoch 41 train_loss: 12.148979965912401 val_loss: 11.979054825906196\n",
      "epoch 42 train_loss: 12.15135516598833 val_loss: 11.949902585878467\n",
      "epoch 43 train_loss: 12.14611461459417 val_loss: 11.939633907012016\n",
      "epoch 44 train_loss: 12.138567054942696 val_loss: 11.93536267141056\n",
      "epoch 45 train_loss: 12.126294322009226 val_loss: 11.933930844023985\n",
      "epoch 46 train_loss: 12.11192582083733 val_loss: 11.935596563831574\n",
      "epoch 47 train_loss: 12.105333487212505 val_loss: 11.931587666425044\n",
      "epoch 48 train_loss: 12.096648628461697 val_loss: 11.921736218649613\n",
      "epoch 49 train_loss: 12.09081536483889 val_loss: 11.911732388492831\n"
     ]
    },
    {
     "data": {
      "image/png": "[encoded data removed]",
      "text/plain": [
       "<Figure size 432x288 with 1 Axes>"
      ]
     },
     "metadata": {
      "needs_background": "light"
     },
     "output_type": "display_data"
    },
    {
     "name": "stdout",
     "output_type": "stream",
     "text": [
      "city: washington-dc\n",
      "epoch 0 train_loss: 19.96987610581528 val_loss: 17.20728226809459\n",
      "epoch 1 train_loss: 17.139901005726994 val_loss: 16.833078484754708\n",
      "epoch 2 train_loss: 15.344259912892912 val_loss: 12.9716022030029\n",
      "epoch 3 train_loss: 12.440677561268147 val_loss: 12.053878627832214\n",
      "epoch 4 train_loss: 11.94727534294482 val_loss: 11.813157932203962\n",
      "epoch 5 train_loss: 11.820609185737567 val_loss: 11.724986949419234\n",
      "epoch 6 train_loss: 11.772752506012015 val_loss: 11.685124440032531\n",
      "epoch 7 train_loss: 11.74759238971206 val_loss: 11.66179239996669\n",
      "epoch 8 train_loss: 11.732245835554519 val_loss: 11.644485391944167\n",
      "epoch 9 train_loss: 11.722099181860683 val_loss: 11.630844200863905\n",
      "epoch 10 train_loss: 11.71458528652475 val_loss: 11.622185678164751\n",
      "epoch 11 train_loss: 11.708905949793925 val_loss: 11.619313728556255\n",
      "epoch 12 train_loss: 11.70399128095519 val_loss: 11.624570743566721\n",
      "epoch 13 train_loss: 11.698639720451254 val_loss: 11.637580519236705\n",
      "epoch 14 train_loss: 11.692410789277481 val_loss: 11.647647514130925\n",
      "epoch 15 train_loss: 11.68719809111296 val_loss: 11.65123155119059\n",
      "epoch 16 train_loss: 11.683910690510348 val_loss: 11.659230117434939\n",
      "epoch 17 train_loss: 11.682613533806657 val_loss: 11.667970371800516\n",
      "epoch 18 train_loss: 11.683078574084256 val_loss: 11.683891426640717\n",
      "epoch 19 train_loss: 11.685879337683398 val_loss: 11.71016124417798\n",
      "epoch 20 train_loss: 11.691147222996124 val_loss: 11.751795167655358\n",
      "epoch 21 train_loss: 11.69742965845284 val_loss: 11.805180629124244\n",
      "epoch 22 train_loss: 11.703295516219839 val_loss: 11.84384930819243\n",
      "epoch 23 train_loss: 11.707766845061718 val_loss: 11.843301876244688\n",
      "epoch 24 train_loss: 11.710527516705717 val_loss: 11.81003739024915\n",
      "epoch 25 train_loss: 11.709225107133285 val_loss: 11.773133149277543\n",
      "epoch 26 train_loss: 11.704692163729243 val_loss: 11.758719536452846\n",
      "epoch 27 train_loss: 11.69954238177102 val_loss: 11.757928111906773\n",
      "epoch 28 train_loss: 11.696842885215476 val_loss: 11.766292166095958\n",
      "epoch 29 train_loss: 11.696027328861014 val_loss: 11.789149958137601\n",
      "epoch 30 train_loss: 11.696673488963771 val_loss: 11.803738925187549\n",
      "epoch 31 train_loss: 11.697889831754118 val_loss: 11.806266039731513\n",
      "epoch 32 train_loss: 11.697624736193063 val_loss: 11.796871544562883\n",
      "epoch 33 train_loss: 11.69748714087909 val_loss: 11.770780418961651\n",
      "epoch 34 train_loss: 11.696725089337178 val_loss: 11.73458169539162\n",
      "epoch 35 train_loss: 11.696786067978474 val_loss: 11.693984887862642\n",
      "epoch 36 train_loss: 11.69750749599019 val_loss: 11.659431416578823\n",
      "epoch 37 train_loss: 11.697888215522433 val_loss: 11.635097876280524\n",
      "epoch 38 train_loss: 11.69756158974286 val_loss: 11.620700582737708\n",
      "epoch 39 train_loss: 11.696539386242497 val_loss: 11.61205487989195\n",
      "epoch 40 train_loss: 11.695095356287212 val_loss: 11.607442770597363\n",
      "epoch 41 train_loss: 11.693611408933315 val_loss: 11.60486121558915\n",
      "epoch 42 train_loss: 11.691482084690774 val_loss: 11.603480798176902\n",
      "epoch 43 train_loss: 11.689319978484308 val_loss: 11.60211006697919\n",
      "epoch 44 train_loss: 11.686949830710603 val_loss: 11.601267023128525\n",
      "epoch 45 train_loss: 11.684813818450175 val_loss: 11.599797871840101\n",
      "epoch 46 train_loss: 11.682166424743357 val_loss: 11.597817278391231\n",
      "epoch 47 train_loss: 11.679670950550692 val_loss: 11.59630310087871\n",
      "epoch 48 train_loss: 11.676887573981343 val_loss: 11.595361641501935\n",
      "epoch 49 train_loss: 11.674132149103134 val_loss: 11.593994952152165\n"
     ]
    },
    {
     "data": {
      "image/png": "[encoded data removed]",
      "text/plain": [
       "<Figure size 432x288 with 1 Axes>"
      ]
     },
     "metadata": {
      "needs_background": "light"
     },
     "output_type": "display_data"
    },
    {
     "name": "stdout",
     "output_type": "stream",
     "text": [
      "city: palo-alto\n",
      "epoch 0 train_loss: 19.179321586994828 val_loss: 18.10421628838962\n",
      "epoch 1 train_loss: 17.33022498734484 val_loss: 16.248275275681017\n",
      "epoch 2 train_loss: 15.200183011117891 val_loss: 12.826233732207813\n",
      "epoch 3 train_loss: 12.537442020554177 val_loss: 12.350717283011155\n",
      "epoch 4 train_loss: 12.316021464882292 val_loss: 12.24409624718668\n",
      "epoch 5 train_loss: 12.240139310771445 val_loss: 12.197446456993937\n",
      "epoch 6 train_loss: 12.197668781740743 val_loss: 12.183867436046363\n",
      "epoch 7 train_loss: 12.17160438325908 val_loss: 12.172721914502402\n",
      "epoch 8 train_loss: 12.1512398466336 val_loss: 12.146326800373979\n",
      "epoch 9 train_loss: 12.136230941629858 val_loss: 12.117455024428399\n",
      "epoch 10 train_loss: 12.124389506164361 val_loss: 12.095160651363859\n",
      "epoch 11 train_loss: 12.114905748666034 val_loss: 12.081843588848633\n",
      "epoch 12 train_loss: 12.105121966377016 val_loss: 12.074052782460614\n",
      "epoch 13 train_loss: 12.09547753318971 val_loss: 12.069179488991818\n",
      "epoch 14 train_loss: 12.087007658882586 val_loss: 12.069017275939562\n",
      "epoch 15 train_loss: 12.079319480541034 val_loss: 12.07756683208987\n",
      "epoch 16 train_loss: 12.073466992211406 val_loss: 12.084564035868386\n",
      "epoch 17 train_loss: 12.068093213034464 val_loss: 12.093201819130273\n",
      "epoch 18 train_loss: 12.064084036902575 val_loss: 12.099047609484108\n",
      "epoch 19 train_loss: 12.060148057160239 val_loss: 12.10128907198678\n",
      "epoch 20 train_loss: 12.05574104994949 val_loss: 12.097090267017276\n",
      "epoch 21 train_loss: 12.050632365548761 val_loss: 12.085065999910872\n",
      "epoch 22 train_loss: 12.04540315584752 val_loss: 12.073875791682392\n",
      "epoch 23 train_loss: 12.039684782012761 val_loss: 12.061545393414026\n",
      "epoch 24 train_loss: 12.033942625372822 val_loss: 12.049292520530145\n",
      "epoch 25 train_loss: 12.02789931622126 val_loss: 12.03669050399299\n",
      "epoch 26 train_loss: 12.021792503742256 val_loss: 12.023920441621872\n",
      "epoch 27 train_loss: 12.015461335827311 val_loss: 12.011553375888518\n",
      "epoch 28 train_loss: 12.009307823193183 val_loss: 11.999837215891615\n",
      "epoch 29 train_loss: 12.002950269989144 val_loss: 11.987000167615628\n",
      "epoch 30 train_loss: 11.996441111645433 val_loss: 11.973550797134964\n",
      "epoch 31 train_loss: 11.990202810065373 val_loss: 11.960059535680987\n",
      "epoch 32 train_loss: 11.983551328448227 val_loss: 11.947902878212544\n"
     ]
    }
   ],
   "source": [
    "%%time\n",
    "import pickle\n",
    "#train city models\n",
    "for city in cities:\n",
    "    print('city: ' + city)\n",
    "    batch_sz = 128  # batch size\n",
    "    train_dataset  = ArgoverseDataset(city = city, split = 'train')\n",
    "    train_loader = DataLoader(train_dataset,batch_size=batch_sz)\n",
    "    val_dataset = ArgoverseDataset(city = city, split = 'val')\n",
    "    val_loader = DataLoader(val_dataset,batch_size=batch_sz)\n",
    "    \n",
    "    pred = Pred()\n",
    "    opt = optim.Adam(pred.parameters(), lr=1e-4)\n",
    "    train(pred, opt, train_dataset, train_loader, val_dataset, val_loader)\n",
    "    pickle.dump(pred, open('models/ta_model_baseline_' + city + '_large', 'wb'))"
   ]
  },
  {
   "cell_type": "code",
   "execution_count": null,
   "id": "458fbe56",
   "metadata": {},
   "outputs": [],
   "source": [
    "import pandas as pd\n",
    "cols = np.array(['v' + str(i) for i in range(120)])\n",
    "all_preds = []\n",
    "for city in cities:\n",
    "    load_pred = pickle.load(open('models/ta_model_baseline_' + city + '_large', 'rb'))\n",
    "    test_dataset = get_city_trajectories(city = city, split = 'test')\n",
    "    device = torch.device('cuda:0')\n",
    "    load_pred = load_pred.to(device)\n",
    "    preds = load_pred(torch.from_numpy(test_dataset[0]).to(device))\n",
    "    preds_reshaped = preds.reshape(preds.size()[0], 120)\n",
    "    preds_numpy = preds_reshaped.cpu().detach().numpy()\n",
    "    ids = np.array([str(i) + '_' + city for i in range(len(preds_numpy))])\n",
    "    predictions = pd.DataFrame(preds_numpy, columns=cols)\n",
    "    predictions.insert(0, 'ID', ids)\n",
    "    all_preds.append(predictions)\n",
    "    \n",
    "all_predictions = pd.concat(all_preds, ignore_index = True)"
   ]
  },
  {
   "cell_type": "code",
   "execution_count": null,
   "id": "a0dcf133",
   "metadata": {},
   "outputs": [],
   "source": [
    "all_predictions"
   ]
  },
  {
   "cell_type": "code",
   "execution_count": null,
   "id": "0731417d",
   "metadata": {},
   "outputs": [],
   "source": [
    "all_predictions.to_csv('out.csv', index=False)"
   ]
  },
  {
   "cell_type": "code",
   "execution_count": null,
   "id": "69ab0b28",
   "metadata": {},
   "outputs": [],
   "source": [
    "pd.read_csv('out.csv')"
   ]
  }
 ],
 "metadata": {
  "kernelspec": {
   "display_name": "Python 3 (ipykernel)",
   "language": "python",
   "name": "python3"
  },
  "language_info": {
   "codemirror_mode": {
    "name": "ipython",
    "version": 3
   },
   "file_extension": ".py",
   "mimetype": "text/x-python",
   "name": "python",
   "nbconvert_exporter": "python",
   "pygments_lexer": "ipython3",
   "version": "3.9.5"
  }
 },
 "nbformat": 4,
 "nbformat_minor": 5
}
