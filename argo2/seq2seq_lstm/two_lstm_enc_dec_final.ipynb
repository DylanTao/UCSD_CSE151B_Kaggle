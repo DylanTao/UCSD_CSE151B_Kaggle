{
 "cells": [
  {
   "cell_type": "markdown",
   "id": "498e98a2-a15a-4be3-842c-25ed40af9e65",
   "metadata": {},
   "source": [
    "## Install the package dependencies before running this notebook"
   ]
  },
  {
   "cell_type": "code",
   "execution_count": 1,
   "id": "2f010662-209a-42ad-aa09-91a6c45e332c",
   "metadata": {},
   "outputs": [],
   "source": [
    "%load_ext autoreload\n",
    "%autoreload 2"
   ]
  },
  {
   "cell_type": "code",
   "execution_count": 2,
   "id": "2b6af88b-26f7-4373-9bb8-cd0990d9d091",
   "metadata": {},
   "outputs": [],
   "source": [
    "import lstm_encoder_decoder_no_early"
   ]
  },
  {
   "cell_type": "code",
   "execution_count": 13,
   "id": "a277321d-a237-4ee9-a1fe-38364e46038d",
   "metadata": {},
   "outputs": [
    {
     "data": {
      "text/plain": [
       "'\\n    number of trajectories in each city\\n    # austin --  train: 43041 test: 6325 \\n    # miami -- val: 55029 test:7971\\n    # pittsburgh -- val: 43544 test: 6361\\n    # dearborn -- val: 24465 test: 3671\\n    # washington-dc -- val: 25744 test: 3829\\n    # palo-alto -- val:  11993 test:1686\\n\\n    trajectories sampled at 10HZ rate, input 5 seconds, output 6 seconds\\n    \\n'"
      ]
     },
     "execution_count": 13,
     "metadata": {},
     "output_type": "execute_result"
    }
   ],
   "source": [
    "import torch\n",
    "from torch import optim\n",
    "from torch.utils.data import Dataset, DataLoader\n",
    "import torch.nn as nn\n",
    "import torch.nn.functional as F\n",
    "import pickle\n",
    "\n",
    "import numpy as np\n",
    "import pandas as pd\n",
    "import random\n",
    "import math\n",
    "\n",
    "import gc\n",
    "import os, os.path \n",
    "import pickle\n",
    "from glob import glob\n",
    "import matplotlib.pyplot as plt\n",
    "import time\n",
    "\n",
    "\"\"\"\n",
    "    number of trajectories in each city\n",
    "    # austin --  train: 43041 test: 6325 \n",
    "    # miami -- val: 55029 test:7971\n",
    "    # pittsburgh -- val: 43544 test: 6361\n",
    "    # dearborn -- val: 24465 test: 3671\n",
    "    # washington-dc -- val: 25744 test: 3829\n",
    "    # palo-alto -- val:  11993 test:1686\n",
    "\n",
    "    trajectories sampled at 10HZ rate, input 5 seconds, output 6 seconds\n",
    "    \n",
    "\"\"\""
   ]
  },
  {
   "cell_type": "markdown",
   "id": "e0dc7736-a560-49c2-bb67-ca94d797d47f",
   "metadata": {},
   "source": [
    "## Create a Torch.Dataset class for the training dataset"
   ]
  },
  {
   "cell_type": "code",
   "execution_count": 4,
   "id": "25c68b42",
   "metadata": {},
   "outputs": [],
   "source": [
    "ROOT_PATH = \"../../argo2/\"\n",
    "\n",
    "cities = [\"austin\", \"miami\", \"pittsburgh\", \"dearborn\", \"washington-dc\", \"palo-alto\"]\n",
    "splits = [\"train\", \"test\", \"val\"] \n",
    "\n",
    "def get_city_trajectories(city=\"palo-alto\", split=\"train\", SEED=42):\n",
    "\n",
    "    outputs = None\n",
    "    \n",
    "    if split==\"train\":\n",
    "        f_in = ROOT_PATH + split + \"/\" + city + \"_inputs\"\n",
    "        inputs = pickle.load(open(f_in, \"rb\"))\n",
    "        n = len(inputs)\n",
    "\n",
    "        np.random.seed(SEED)\n",
    "        shuffler = np.random.permutation(n)\n",
    "        \n",
    "        inputs = np.asarray(inputs)\n",
    "        inputs = inputs[shuffler]\n",
    "        inputs = inputs[:int(n * 0.8)]\n",
    "        \n",
    "        f_out = ROOT_PATH + split + \"/\" + city + \"_outputs\"\n",
    "        outputs = pickle.load(open(f_out, \"rb\"))\n",
    "        outputs = np.asarray(outputs)\n",
    "        outputs = outputs[shuffler]\n",
    "        outputs = outputs[:int(n * 0.8)]\n",
    "        \n",
    "    elif split == 'val':\n",
    "        f_in = ROOT_PATH + 'train' + \"/\" + city + \"_inputs\"\n",
    "        inputs = pickle.load(open(f_in, \"rb\"))\n",
    "        n = len(inputs)\n",
    "\n",
    "        np.random.seed(SEED)\n",
    "        shuffler = np.random.permutation(n)\n",
    "        \n",
    "        inputs = np.asarray(inputs)\n",
    "        inputs = inputs[shuffler]\n",
    "        inputs = inputs[int(n * 0.8):]\n",
    "        \n",
    "        f_out = ROOT_PATH + 'train' + \"/\" + city + \"_outputs\"\n",
    "        outputs = pickle.load(open(f_out, \"rb\"))\n",
    "        outputs = np.asarray(outputs)\n",
    "        outputs = outputs[shuffler]\n",
    "        outputs = outputs[int(n * 0.8):]\n",
    "    \n",
    "    else:\n",
    "        f_in = ROOT_PATH + split + \"/\" + city + \"_inputs\"\n",
    "        inputs = pickle.load(open(f_in, \"rb\"))\n",
    "        n = len(inputs)\n",
    "        inputs = np.asarray(inputs)\n",
    "        outputs = torch.zeros(n,60, 2).to(device)\n",
    "\n",
    "    return inputs, outputs\n",
    "\n",
    "\n",
    "class ArgoverseDataset(Dataset):\n",
    "    def __init__(self, city: str, split:str, transform=None):\n",
    "        super(ArgoverseDataset, self).__init__()\n",
    "        self.split = split\n",
    "        self.input_positions, self.output_positions = get_city_trajectories(city=city, split=split)\n",
    "        \n",
    "        self.input_positions = torch.Tensor(self.input_positions)\n",
    "        num_inputs, input_seq_len = self.input_positions.shape[:2]\n",
    "        self.center_input = (\n",
    "            np.repeat(self.input_positions[:, 0, :], input_seq_len, axis=0)\n",
    "            .reshape(num_inputs, input_seq_len, 2)\n",
    "        )\n",
    "        self.center = (\n",
    "            np.repeat(self.input_positions[:, 0, :], 60, axis=0)\n",
    "            .reshape(num_inputs, 120)\n",
    "        )\n",
    "        \n",
    "        self.input_positions_centered = torch.Tensor(self.input_positions - self.center_input)\n",
    "        self.input_velocities = torch.Tensor(np.diff(self.input_positions, axis=1))\n",
    "        \n",
    "        self.nn_pos_inputs = self.input_positions_centered\n",
    "        self.nn_velo_inputs = self.input_velocities\n",
    "        \n",
    "        if split != 'test': \n",
    "            self.output_positions = torch.Tensor(self.output_positions)\n",
    "            num_outputs, output_seq_len = self.output_positions.shape[:2]\n",
    "            center_output = (\n",
    "                np.repeat(self.input_positions[:, 0, :], output_seq_len, axis=0)\n",
    "                .reshape(num_outputs, output_seq_len, 2)\n",
    "            )\n",
    "            self.output_positions_centered = torch.Tensor(self.output_positions - center_output)\n",
    "            self.output_velocities = torch.Tensor(np.diff(self.output_positions, axis=1))\n",
    "                    \n",
    "            self.nn_pos_outputs = self.output_positions_centered[:, 0, :].unsqueeze(1)\n",
    "            self.nn_velo_outputs = self.output_velocities\n",
    "\n",
    "    def __len__(self):\n",
    "        return len(self.nn_pos_inputs)\n",
    "\n",
    "    def __getitem__(self, idx):\n",
    "        if self.split != 'test':\n",
    "            data = (\n",
    "                self.nn_pos_inputs[idx], \n",
    "                self.nn_pos_outputs[idx], \n",
    "                self.nn_velo_inputs[idx], \n",
    "                self.nn_velo_outputs[idx],\n",
    "                self.input_positions[idx],\n",
    "                self.output_positions[idx],\n",
    "                self.input_positions_centered[idx],\n",
    "                self.output_positions_centered[idx]\n",
    "            )\n",
    "        else:\n",
    "            data = data = (\n",
    "                self.nn_pos_inputs[idx], \n",
    "                self.nn_velo_inputs[idx], \n",
    "                self.center[idx]\n",
    "            )\n",
    "        return data"
   ]
  },
  {
   "cell_type": "code",
   "execution_count": 5,
   "id": "3b93b7da-fb63-42c8-87bf-016a3bcc07c2",
   "metadata": {},
   "outputs": [
    {
     "name": "stdout",
     "output_type": "stream",
     "text": [
      "Sat May 28 22:02:09 2022       \n",
      "+-----------------------------------------------------------------------------+\n",
      "| NVIDIA-SMI 512.77       Driver Version: 512.77       CUDA Version: 11.6     |\n",
      "|-------------------------------+----------------------+----------------------+\n",
      "| GPU  Name            TCC/WDDM | Bus-Id        Disp.A | Volatile Uncorr. ECC |\n",
      "| Fan  Temp  Perf  Pwr:Usage/Cap|         Memory-Usage | GPU-Util  Compute M. |\n",
      "|                               |                      |               MIG M. |\n",
      "|===============================+======================+======================|\n",
      "|   0  NVIDIA GeForce ... WDDM  | 00000000:01:00.0  On |                  N/A |\n",
      "|  0%   47C    P5    40W / 370W |   3155MiB / 12288MiB |     33%      Default |\n",
      "|                               |                      |                  N/A |\n",
      "+-------------------------------+----------------------+----------------------+\n",
      "                                                                               \n",
      "+-----------------------------------------------------------------------------+\n",
      "| Processes:                                                                  |\n",
      "|  GPU   GI   CI        PID   Type   Process name                  GPU Memory |\n",
      "|        ID   ID                                                   Usage      |\n",
      "|=============================================================================|\n",
      "|    0   N/A  N/A      1516    C+G   ...ming\\Zoom\\bin\\CptHost.exe    N/A      |\n",
      "|    0   N/A  N/A      4392    C+G   ...ser\\Application\\brave.exe    N/A      |\n",
      "|    0   N/A  N/A      5660    C+G   ...lPanel\\SystemSettings.exe    N/A      |\n",
      "|    0   N/A  N/A      6316    C+G   ...8wekyb3d8bbwe\\GameBar.exe    N/A      |\n",
      "|    0   N/A  N/A      7252    C+G   ...h8wxbdkxb8p\\DCv2\\DCv2.exe    N/A      |\n",
      "|    0   N/A  N/A      9588    C+G   C:\\Windows\\explorer.exe         N/A      |\n",
      "|    0   N/A  N/A      9928    C+G   ...bbwe\\Microsoft.Photos.exe    N/A      |\n",
      "|    0   N/A  N/A     10048    C+G   ...\\app-1.0.9004\\Discord.exe    N/A      |\n",
      "|    0   N/A  N/A     10072    C+G   ...ekyb3d8bbwe\\YourPhone.exe    N/A      |\n",
      "|    0   N/A  N/A     10520    C+G   ...icrosoft VS Code\\Code.exe    N/A      |\n",
      "|    0   N/A  N/A     12384    C+G   ...210.53\\msedgewebview2.exe    N/A      |\n",
      "|    0   N/A  N/A     13132    C+G   ...perience\\NVIDIA Share.exe    N/A      |\n",
      "|    0   N/A  N/A     14656    C+G   ...artMenuExperienceHost.exe    N/A      |\n",
      "|    0   N/A  N/A     15188    C+G   ...2txyewy\\TextInputHost.exe    N/A      |\n",
      "|    0   N/A  N/A     16168    C+G   ...lack\\app-4.26.2\\slack.exe    N/A      |\n",
      "|    0   N/A  N/A     17008    C+G   ...ekyb3d8bbwe\\HxOutlook.exe    N/A      |\n",
      "|    0   N/A  N/A     20328    C+G   ...n1h2txyewy\\SearchHost.exe    N/A      |\n",
      "|    0   N/A  N/A     24572    C+G   ...210.53\\msedgewebview2.exe    N/A      |\n",
      "|    0   N/A  N/A     24584    C+G   ...Roaming\\Zoom\\bin\\Zoom.exe    N/A      |\n",
      "|    0   N/A  N/A     28456    C+G   ...cw5n1h2txyewy\\LockApp.exe    N/A      |\n",
      "|    0   N/A  N/A     28968    C+G   ...y\\ShellExperienceHost.exe    N/A      |\n",
      "+-----------------------------------------------------------------------------+\n"
     ]
    }
   ],
   "source": [
    "!nvidia-smi"
   ]
  },
  {
   "cell_type": "code",
   "execution_count": 6,
   "id": "aebe6736-a9f8-424e-a7b0-c059f8cfe1b9",
   "metadata": {},
   "outputs": [],
   "source": [
    "# function that tells how long training takes\n",
    "def train_time(start_time, end_time):\n",
    "    elapsed_time = end_time - start_time\n",
    "    elapsed_mins = int(elapsed_time / 60)\n",
    "    elapsed_secs = int(elapsed_time - (elapsed_mins * 60))\n",
    "    return elapsed_mins, elapsed_secs "
   ]
  },
  {
   "cell_type": "markdown",
   "id": "bf8731d8",
   "metadata": {},
   "source": [
    "### Random shuffle with seed 42 & add attention"
   ]
  },
  {
   "cell_type": "code",
   "execution_count": 19,
   "id": "50c06a9b",
   "metadata": {},
   "outputs": [
    {
     "name": "stdout",
     "output_type": "stream",
     "text": [
      "Training austin\n"
     ]
    },
    {
     "name": "stderr",
     "output_type": "stream",
     "text": [
      " 37%|███▋      | 22/60 [00:36<01:03,  1.67s/it, loss=0.18941] "
     ]
    },
    {
     "name": "stdout",
     "output_type": "stream",
     "text": [
      "Epoch 00022: reducing learning rate of group 0 to 1.0000e-04.\n"
     ]
    },
    {
     "name": "stderr",
     "output_type": "stream",
     "text": [
      "100%|██████████| 60/60 [01:40<00:00,  1.67s/it, loss=0.00231]"
     ]
    },
    {
     "name": "stdout",
     "output_type": "stream",
     "text": [
      "Epoch 00060: reducing learning rate of group 0 to 1.0000e-05.\n"
     ]
    },
    {
     "name": "stderr",
     "output_type": "stream",
     "text": [
      "\n"
     ]
    },
    {
     "data": {
      "image/png": "[encoded data removed]",
      "text/plain": [
       "<Figure size 432x288 with 1 Axes>"
      ]
     },
     "metadata": {
      "needs_background": "light"
     },
     "output_type": "display_data"
    },
    {
     "data": {
      "image/png": "[encoded data removed]",
      "text/plain": [
       "<Figure size 432x288 with 1 Axes>"
      ]
     },
     "metadata": {
      "needs_background": "light"
     },
     "output_type": "display_data"
    },
    {
     "name": "stderr",
     "output_type": "stream",
     "text": [
      "  2%|▏         | 2/120 [00:42<41:31, 21.11s/it, loss=0.00653]"
     ]
    }
   ],
   "source": [
    "%%time\n",
    "\n",
    "# train one model for each city\n",
    "device = torch.device('cuda' if torch.cuda.is_available() else 'cpu')\n",
    "\n",
    "for city in cities:\n",
    "    print('Training ' + str(city))\n",
    "    train_dataset = ArgoverseDataset(city, 'train')\n",
    "    val_dataset = ArgoverseDataset(city, 'val')\n",
    "\n",
    "\n",
    "    X_train_nn_pos = train_dataset.nn_pos_inputs.to(device)\n",
    "    y_train_nn_pos = train_dataset.nn_pos_outputs.to(device)\n",
    "    X_train_nn_velo = train_dataset.nn_velo_inputs.to(device)\n",
    "    y_train_nn_velo = train_dataset.nn_velo_outputs.to(device)\n",
    "    X_train = train_dataset.input_positions.to(device)\n",
    "    y_train = train_dataset.output_positions.to(device)\n",
    "    \n",
    "    X_val_nn_pos = val_dataset.nn_pos_inputs.to(device)\n",
    "    y_val_nn_pos = val_dataset.nn_pos_outputs.to(device)\n",
    "    X_val_nn_velo = val_dataset.nn_velo_inputs.to(device)\n",
    "    y_val_nn_velo = val_dataset.nn_velo_outputs.to(device)\n",
    "    X_val = val_dataset.input_positions.to(device)\n",
    "    y_val = val_dataset.output_positions.to(device)\n",
    "\n",
    "    start_time = time.time()\n",
    "    nn_pos = lstm_encoder_decoder_no_early.lstm_seq2seq(\n",
    "        input_size=2,\n",
    "        input_len=50,\n",
    "        output_size=2,\n",
    "        hidden_size=128,\n",
    "        num_layers=1,\n",
    "        dropout=0.\n",
    "    )\n",
    "\n",
    "    nn_pos.to(device)\n",
    "\n",
    "    train_losses_pos, val_losses_pos = lstm_encoder_decoder_no_early.train_model(\n",
    "        nn_pos,\n",
    "        city,\n",
    "        X_train_nn_pos,\n",
    "        y_train_nn_pos,\n",
    "        X_train_nn_pos,\n",
    "        y_train_nn_pos,\n",
    "        n_epochs=60,\n",
    "        target_len=1,\n",
    "        batch_size=128,\n",
    "        patience = 5,\n",
    "        threshold = 1e-3,\n",
    "        training_prediction='mixed_teacher_forcing',\n",
    "        teacher_forcing_ratio=0.6,\n",
    "        learning_rate=0.001,\n",
    "        dynamic_tf=False,\n",
    "        early_stop_criteria = 6,\n",
    "        device=device,\n",
    "        model_type='pos'\n",
    "    )\n",
    "\n",
    "\n",
    "    plt.title(\"Loss for \" + city + \" on initial position\")\n",
    "    plt.xlabel(\"epoch\")\n",
    "    plt.ylabel(\"loss\")\n",
    "    plt.plot(train_losses_pos, color=\"red\", label=\"train_loss\")\n",
    "    plt.plot(val_losses_pos, color=\"blue\", label=\"val_loss\")\n",
    "    plt.legend()\n",
    "    plt.show()\n",
    "\n",
    "    plt.title(\"Log loss for \" + city + \" on initial position\")\n",
    "    plt.xlabel(\"epoch\")\n",
    "    plt.ylabel(\"loss\")\n",
    "    plt.plot(np.log(train_losses_pos), color=\"red\", label=\"train_loss\")\n",
    "    plt.plot(np.log(val_losses_pos), color=\"blue\", label=\"val_loss\")\n",
    "    plt.legend()\n",
    "    plt.show()\n",
    "\n",
    "\n",
    "    nn_velo = lstm_encoder_decoder_no_early.lstm_seq2seq(\n",
    "        input_size=2,\n",
    "        input_len=49,\n",
    "        output_size=2,\n",
    "        hidden_size=512,\n",
    "        num_layers=1,\n",
    "        dropout=0.\n",
    "    )\n",
    "\n",
    "    nn_velo.to(device)\n",
    "\n",
    "    train_losses_velo, val_losses_velo = lstm_encoder_decoder_no_early.train_model(\n",
    "        nn_velo,\n",
    "        city,\n",
    "        X_train_nn_velo,\n",
    "        y_train_nn_velo,\n",
    "        X_val_nn_velo,\n",
    "        y_val_nn_velo,\n",
    "        n_epochs=120,\n",
    "        target_len=59,\n",
    "        batch_size=128,\n",
    "        patience = 10,\n",
    "        threshold = 1e-4,\n",
    "        training_prediction='mixed_teacher_forcing',\n",
    "        teacher_forcing_ratio=0.6,\n",
    "        learning_rate=0.0001,\n",
    "        dynamic_tf=False,\n",
    "        early_stop_criteria = 12,\n",
    "        device=device,\n",
    "        model_type='velo'\n",
    "    )\n",
    "\n",
    "    plt.title(\"Loss for \" + city + \" on velocity\")\n",
    "    plt.xlabel(\"epoch\")\n",
    "    plt.ylabel(\"loss\")\n",
    "    plt.plot(train_losses_velo, color=\"red\", label=\"train_loss\")\n",
    "    plt.plot(val_losses_velo, color=\"blue\", label=\"val_loss\")\n",
    "    plt.legend()\n",
    "    plt.show()\n",
    "\n",
    "    plt.title(\"Log loss for \" + city + \" on velocity\")\n",
    "    plt.xlabel(\"epoch\")\n",
    "    plt.ylabel(\"loss\")\n",
    "    plt.plot(np.log(train_losses_velo), color=\"red\", label=\"train_loss\")\n",
    "    plt.plot(np.log(val_losses_velo), color=\"blue\", label=\"val_loss\")\n",
    "    plt.legend()\n",
    "    plt.show()\n",
    "\n",
    "    end_time = time.time()\n",
    "    train_mins, train_secs = train_time(start_time, end_time)\n",
    "    print(\n",
    "        f'Total training time is: {train_mins}m {train_secs}s' + ' for ' + city)"
   ]
  },
  {
   "cell_type": "markdown",
   "id": "ca425d32-1829-4bc3-b906-e167fc495c32",
   "metadata": {},
   "source": [
    "### Generate CSV"
   ]
  },
  {
   "cell_type": "code",
   "execution_count": null,
   "id": "9bfa45f5-9995-4767-83a4-41ae9ffa1e04",
   "metadata": {},
   "outputs": [],
   "source": [
    "nn_pos.eval()\n",
    "nn_velo.eval()\n",
    "num_layers_pos = 1\n",
    "num_layers_velo = 1\n",
    "\n",
    "all_preds = []\n",
    "for city in cities:\n",
    "    test_dataset = ArgoverseDataset(city=city, split='test')\n",
    "    rows = []\n",
    "    model_pos = pickle.load(open('../models/seq2seq_lstm_pos_atten_' + str(num_layers_pos) + '_' + city, 'rb'))\n",
    "    model_velo = pickle.load(open('../models/seq2seq_lstm_velo_atten_' + str(num_layers_velo) + '_' + city, 'rb'))\n",
    "    for n in range(test_dataset.__len__()):\n",
    "        if n % 1_000 == 0 and n > 0: \n",
    "            print(str(n) + ' predictions for ' + str(city) + ' completed.')\n",
    "        nn_pos_nth_input, nn_velo_nth_input, center_input = test_dataset.__getitem__(n)\n",
    "        nn_pos_nth_input = nn_pos_nth_input.to(device)\n",
    "        nn_velo_nth_input = nn_velo_nth_input.to(device)\n",
    "        center_input = center_input.to(device)\n",
    "        init_pos = lstm_encoder_decoder_no_early.predict(model_pos, nn_pos_nth_input, 1, device=device)\n",
    "        deltas = lstm_encoder_decoder_no_early.predict(model_velo, nn_velo_nth_input, 59, device=device)\n",
    "\n",
    "        pred = (torch.cumsum(torch.cat((init_pos, deltas)), dim=0).flatten() + center_input).cpu().numpy()\n",
    "        rows.append(pred)\n",
    "    ids = np.array([str(i) + '_' + city for i in range(len(rows))])\n",
    "    cols = np.array(['v' + str(i) for i in range(120)])\n",
    "    predictions = pd.DataFrame(rows, columns=cols)\n",
    "    predictions.insert(0, 'ID', ids)\n",
    "    all_preds.append(predictions)\n",
    "all_predictions = pd.concat(all_preds, ignore_index=True)"
   ]
  },
  {
   "cell_type": "code",
   "execution_count": null,
   "id": "2c7cb88e-5a41-46ee-81fb-d5ed7b79c2c1",
   "metadata": {},
   "outputs": [],
   "source": [
    "all_predictions.to_csv('two_lstm_enc_dec_out_5.csv', index=False)"
   ]
  }
 ],
 "metadata": {
  "interpreter": {
   "hash": "51451fb965bca5ca736f6eb36642b31b5a5ecde49a9b52fab42c7c140c00e449"
  },
  "kernelspec": {
   "display_name": "Python 3.10.4 64-bit",
   "language": "python",
   "name": "python3"
  },
  "language_info": {
   "codemirror_mode": {
    "name": "ipython",
    "version": 3
   },
   "file_extension": ".py",
   "mimetype": "text/x-python",
   "name": "python",
   "nbconvert_exporter": "python",
   "pygments_lexer": "ipython3",
   "version": "3.10.4"
  }
 },
 "nbformat": 4,
 "nbformat_minor": 5
}
