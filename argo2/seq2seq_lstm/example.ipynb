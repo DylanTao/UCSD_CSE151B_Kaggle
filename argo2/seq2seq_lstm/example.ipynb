{
 "cells": [
  {
   "cell_type": "code",
   "execution_count": 8,
   "id": "1da42cb6-1d77-41c9-b71d-f2c52f1d2726",
   "metadata": {},
   "outputs": [],
   "source": [
    "import lstm_encoder_decoder\n",
    "\n",
    "import numpy as np\n",
    "import matplotlib\n",
    "import matplotlib.pyplot as plt\n",
    "from importlib import reload\n",
    "import sys\n",
    "\n",
    "import generate_dataset\n",
    "import lstm_encoder_decoder\n",
    "import plotting \n",
    "\n",
    "# matplotlib.rcParams.update({'font.size': 17})"
   ]
  },
  {
   "cell_type": "code",
   "execution_count": 35,
   "id": "0233403a-34c7-4040-8a89-d97848a92ce8",
   "metadata": {},
   "outputs": [],
   "source": [
    "#----------------------------------------------------------------------------------------------------------------\n",
    "# generate dataset for LSTM\n",
    "t, y = generate_dataset.synthetic_data()\n",
    "t_train, y_train, t_test, y_test = generate_dataset.train_test_split(t, y, split = 0.8)"
   ]
  },
  {
   "cell_type": "code",
   "execution_count": 36,
   "id": "b60f9501-7c33-48c6-8533-f04f7614b74b",
   "metadata": {},
   "outputs": [
    {
     "data": {
      "text/plain": [
       "((2000,), (2000,), (1600,), (1600, 1), (400,), (400, 1))"
      ]
     },
     "execution_count": 36,
     "metadata": {},
     "output_type": "execute_result"
    }
   ],
   "source": [
    "t.shape, y.shape, t_train.shape, y_train.shape, t_test.shape, y_test.shape"
   ]
  },
  {
   "cell_type": "code",
   "execution_count": 37,
   "id": "6faea3f5-aebb-4cf1-a0ba-03888508d399",
   "metadata": {},
   "outputs": [],
   "source": [
    "#----------------------------------------------------------------------------------------------------------------\n",
    "# window dataset\n",
    "\n",
    "# set size of input/output windows \n",
    "iw = 80 \n",
    "ow = 20 \n",
    "s = 5\n",
    "\n",
    "# generate windowed training/test datasets\n",
    "Xtrain, Ytrain= generate_dataset.windowed_dataset(y_train, input_window = iw, output_window = ow, stride = s)\n",
    "Xtest, Ytest = generate_dataset.windowed_dataset(y_test, input_window = iw, output_window = ow, stride = s)\n",
    "\n",
    "# plot example of windowed data  \n",
    "# plt.figure(figsize = (10, 4)) \n",
    "# plt.plot(np.arange(0, iw), Xtrain[:, 0, 0], 'k', linewidth = 2.2, label = 'Input')\n",
    "# plt.plot(np.arange(iw - 1, iw + ow), np.concatenate([[Xtrain[-1, 0, 0]], Ytrain[:, 0, 0]]),\n",
    "#          color = (0.2, 0.42, 0.72), linewidth = 2.2, label = 'Target')\n",
    "# plt.xlim([0, iw + ow - 1])\n",
    "# plt.xlabel(r'$t$')\n",
    "# plt.ylabel(r'$y$')\n",
    "# plt.title('Example of Windowed Training Data')\n",
    "# plt.legend(bbox_to_anchor=(1.3, 1))\n",
    "# plt.tight_layout() \n",
    "# plt.savefig('plots/windowed_data.png')"
   ]
  },
  {
   "cell_type": "code",
   "execution_count": 38,
   "id": "270bbe53-5ea8-44ef-9528-ded14dc32771",
   "metadata": {},
   "outputs": [],
   "source": [
    "#----------------------------------------------------------------------------------------------------------------\n",
    "# LSTM encoder-decoder\n",
    "\n",
    "# convert windowed data from np.array to PyTorch tensor\n",
    "X_train, Y_train, X_test, Y_test = generate_dataset.numpy_to_torch(Xtrain, Ytrain, Xtest, Ytest)"
   ]
  },
  {
   "cell_type": "code",
   "execution_count": 39,
   "id": "71a5382a-638e-4b48-a061-5e829535aee5",
   "metadata": {},
   "outputs": [
    {
     "data": {
      "text/plain": [
       "(torch.Size([80, 301, 1]),\n",
       " torch.Size([20, 301, 1]),\n",
       " torch.Size([80, 61, 1]),\n",
       " torch.Size([20, 61, 1]))"
      ]
     },
     "execution_count": 39,
     "metadata": {},
     "output_type": "execute_result"
    }
   ],
   "source": [
    "X_train.shape, Y_train.shape, X_test.shape, Y_test.shape"
   ]
  },
  {
   "cell_type": "code",
   "execution_count": 41,
   "id": "42ae64ef-e20b-4c07-b13e-c2bdc4dea98c",
   "metadata": {},
   "outputs": [
    {
     "name": "stderr",
     "output_type": "stream",
     "text": [
      "100%|█████████████████████████████████████████████████| 50/50 [00:24<00:00,  2.03it/s, loss=0.042]\n"
     ]
    }
   ],
   "source": [
    "# specify model parameters and train\n",
    "model = lstm_encoder_decoder.lstm_seq2seq(input_size = X_train.shape[2], hidden_size = 15)\n",
    "loss = model.train_model(\n",
    "    X_train, \n",
    "    Y_train, \n",
    "    n_epochs = 50, \n",
    "    target_len = ow, \n",
    "    batch_size = 5, \n",
    "    training_prediction = 'mixed_teacher_forcing', \n",
    "    teacher_forcing_ratio = 0.6, \n",
    "    learning_rate = 0.01, \n",
    "    dynamic_tf = False\n",
    ")\n",
    "\n",
    "# plot predictions on train/test data\n",
    "plotting.plot_train_test_results(model, Xtrain, Ytrain, Xtest, Ytest)"
   ]
  },
  {
   "cell_type": "code",
   "execution_count": 47,
   "id": "3cd67454-5730-4323-a05e-bac0f2338d10",
   "metadata": {},
   "outputs": [
    {
     "data": {
      "text/plain": [
       "torch.Tensor"
      ]
     },
     "execution_count": 47,
     "metadata": {},
     "output_type": "execute_result"
    }
   ],
   "source": [
    "type(X_train)"
   ]
  },
  {
   "cell_type": "code",
   "execution_count": null,
   "id": "4ef89b88-216b-44dc-ad68-65c80bb4e193",
   "metadata": {},
   "outputs": [],
   "source": []
  },
  {
   "cell_type": "code",
   "execution_count": null,
   "id": "f0cc54d8-72c4-469a-b7b6-309a5efc26a7",
   "metadata": {},
   "outputs": [],
   "source": []
  }
 ],
 "metadata": {
  "kernelspec": {
   "display_name": "Python 3 (ipykernel)",
   "language": "python",
   "name": "python3"
  },
  "language_info": {
   "codemirror_mode": {
    "name": "ipython",
    "version": 3
   },
   "file_extension": ".py",
   "mimetype": "text/x-python",
   "name": "python",
   "nbconvert_exporter": "python",
   "pygments_lexer": "ipython3",
   "version": "3.9.6"
  }
 },
 "nbformat": 4,
 "nbformat_minor": 5
}
