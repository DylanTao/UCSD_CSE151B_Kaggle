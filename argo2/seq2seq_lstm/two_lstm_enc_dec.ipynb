{
 "cells": [
  {
   "cell_type": "markdown",
   "id": "498e98a2-a15a-4be3-842c-25ed40af9e65",
   "metadata": {},
   "source": [
    "## Install the package dependencies before running this notebook"
   ]
  },
  {
   "cell_type": "code",
   "execution_count": 6,
   "id": "2f010662-209a-42ad-aa09-91a6c45e332c",
   "metadata": {},
   "outputs": [
    {
     "name": "stdout",
     "output_type": "stream",
     "text": [
      "The autoreload extension is already loaded. To reload it, use:\n",
      "  %reload_ext autoreload\n"
     ]
    }
   ],
   "source": [
    "%load_ext autoreload\n",
    "%autoreload 2"
   ]
  },
  {
   "cell_type": "code",
   "execution_count": 7,
   "id": "2b6af88b-26f7-4373-9bb8-cd0990d9d091",
   "metadata": {},
   "outputs": [],
   "source": [
    "import lstm_encoder_decoder2"
   ]
  },
  {
   "cell_type": "code",
   "execution_count": 8,
   "id": "a277321d-a237-4ee9-a1fe-38364e46038d",
   "metadata": {},
   "outputs": [
    {
     "data": {
      "text/plain": [
       "'\\n    number of trajectories in each city\\n    # austin --  train: 43041 test: 6325 \\n    # miami -- train: 55029 test:7971\\n    # pittsburgh -- train: 43544 test: 6361\\n    # dearborn -- train: 24465 test: 3671\\n    # washington-dc -- train: 25744 test: 3829\\n    # palo-alto -- train:  11993 test:1686\\n\\n    trajectories sampled at 10HZ rate, input 5 seconds, output 6 seconds\\n    \\n'"
      ]
     },
     "execution_count": 8,
     "metadata": {},
     "output_type": "execute_result"
    }
   ],
   "source": [
    "import torch\n",
    "from torch.utils.data import Dataset, DataLoader\n",
    "import os, os.path \n",
    "import numpy \n",
    "import pickle\n",
    "from glob import glob\n",
    "import matplotlib.pyplot as plt\n",
    "import pandas as pd\n",
    "\n",
    "\"\"\"\n",
    "    number of trajectories in each city\n",
    "    # austin --  train: 43041 test: 6325 \n",
    "    # miami -- train: 55029 test:7971\n",
    "    # pittsburgh -- train: 43544 test: 6361\n",
    "    # dearborn -- train: 24465 test: 3671\n",
    "    # washington-dc -- train: 25744 test: 3829\n",
    "    # palo-alto -- train:  11993 test:1686\n",
    "\n",
    "    trajectories sampled at 10HZ rate, input 5 seconds, output 6 seconds\n",
    "    \n",
    "\"\"\""
   ]
  },
  {
   "cell_type": "markdown",
   "id": "e0dc7736-a560-49c2-bb67-ca94d797d47f",
   "metadata": {},
   "source": [
    "## Create a Torch.Dataset class for the training dataset"
   ]
  },
  {
   "cell_type": "code",
   "execution_count": 9,
   "id": "59577b66-7d8c-4033-a47a-4a43a4fa4a87",
   "metadata": {},
   "outputs": [],
   "source": [
    "from glob import glob\n",
    "import pickle\n",
    "import numpy as np\n",
    "\n",
    "ROOT_PATH = \"../../argo2/\"\n",
    "\n",
    "cities = [\"austin\", \"miami\", \"pittsburgh\", \"dearborn\", \"washington-dc\", \"palo-alto\"]\n",
    "splits = [\"train\", \"val\", \"test\"]\n",
    "\n",
    "def get_city_trajectories(city=\"palo-alto\", split=\"train\", normalized=False):\n",
    "    outputs = None\n",
    "    \n",
    "    if split == \"train\":\n",
    "        f_in = ROOT_PATH + split + \"/\" + city + \"_inputs\"\n",
    "        inputs = pickle.load(open(f_in, \"rb\"))\n",
    "        n = len(inputs)\n",
    "        inputs = np.asarray(inputs)[:int(n * 0.8)]\n",
    "        \n",
    "        f_out = ROOT_PATH + split + \"/\" + city + \"_outputs\"\n",
    "        outputs = pickle.load(open(f_out, \"rb\"))\n",
    "        outputs = np.asarray(outputs)[:int(n * 0.8)]\n",
    "        \n",
    "    elif split == 'val':\n",
    "        f_in = ROOT_PATH + 'train' + \"/\" + city + \"_inputs\"\n",
    "        inputs = pickle.load(open(f_in, \"rb\"))\n",
    "        n = len(inputs)\n",
    "        inputs = np.asarray(inputs)[int(n * 0.8):]\n",
    "        \n",
    "        f_out = ROOT_PATH + 'train' + \"/\" + city + \"_outputs\"\n",
    "        outputs = pickle.load(open(f_out, \"rb\"))\n",
    "        outputs = np.asarray(outputs)[int(n * 0.8):]\n",
    "    \n",
    "    elif split == 'test':\n",
    "        f_in = ROOT_PATH + split + \"/\" + city + \"_inputs\"\n",
    "        inputs = pickle.load(open(f_in, \"rb\"))\n",
    "        n = len(inputs)\n",
    "        inputs = np.asarray(inputs)\n",
    "        \n",
    "    else:\n",
    "        print('\\\"split\\\" should be train, val, or test.')\n",
    "        inputs = None\n",
    "\n",
    "    return inputs, outputs\n",
    "\n",
    "class ArgoverseDataset(Dataset):\n",
    "    def __init__(self, city: str, split:str, transform=None):\n",
    "        super(ArgoverseDataset, self).__init__()\n",
    "        self.split = split\n",
    "        self.input_positions, self.output_positions = get_city_trajectories(city=city, split=split, normalized=False)\n",
    "        \n",
    "        self.input_positions = torch.Tensor(self.input_positions)\n",
    "        num_inputs, input_seq_len = self.input_positions.shape[:2]\n",
    "        self.center_input = (\n",
    "            np.repeat(self.input_positions[:, 0, :], input_seq_len, axis=0)\n",
    "            .reshape(num_inputs, input_seq_len, 2)\n",
    "        )\n",
    "        self.center = (\n",
    "            np.repeat(self.input_positions[:, 0, :], 60, axis=0)\n",
    "            .reshape(num_inputs, 120)\n",
    "        )\n",
    "        \n",
    "        self.input_positions_centered = torch.Tensor(self.input_positions - self.center_input)\n",
    "        self.input_velocities = torch.Tensor(np.diff(self.input_positions, axis=1))\n",
    "        \n",
    "        self.nn1_inputs = self.input_positions_centered\n",
    "        self.nn2_inputs = self.input_velocities\n",
    "        \n",
    "        if split != 'test': \n",
    "            self.output_positions = torch.Tensor(self.output_positions)\n",
    "            num_outputs, output_seq_len = self.output_positions.shape[:2]\n",
    "            center_output = (\n",
    "                np.repeat(self.input_positions[:, 0, :], output_seq_len, axis=0)\n",
    "                .reshape(num_outputs, output_seq_len, 2)\n",
    "            )\n",
    "            self.output_positions_centered = torch.Tensor(self.output_positions - center_output)\n",
    "            self.output_velocities = torch.Tensor(np.diff(self.output_positions, axis=1))\n",
    "                    \n",
    "            self.nn1_outputs = self.output_positions_centered[:, 0, :].unsqueeze(1)\n",
    "            self.nn2_outputs = self.output_velocities\n",
    "\n",
    "    def __len__(self):\n",
    "        return len(self.nn1_inputs)\n",
    "\n",
    "    def __getitem__(self, idx):\n",
    "        if self.split != 'test':\n",
    "            data = (\n",
    "                self.nn1_inputs[idx], \n",
    "                self.nn1_outputs[idx], \n",
    "                self.nn2_inputs[idx], \n",
    "                self.nn2_outputs[idx],\n",
    "                self.input_positions[idx],\n",
    "                self.output_positions[idx],\n",
    "                self.input_positions_centered[idx],\n",
    "                self.output_positions_centered[idx]\n",
    "            )\n",
    "        else:\n",
    "            data = data = (\n",
    "                self.nn1_inputs[idx], \n",
    "                self.nn2_inputs[idx], \n",
    "                self.center[idx]\n",
    "            )\n",
    "        return data"
   ]
  },
  {
   "cell_type": "code",
   "execution_count": 10,
   "id": "cb4e942a-7c3d-4ebe-9766-ab5b44f1987a",
   "metadata": {},
   "outputs": [],
   "source": [
    "train_dataset = ArgoverseDataset('austin', 'train')\n",
    "val_dataset = ArgoverseDataset('austin', 'train')\n",
    "test_dataset = ArgoverseDataset('austin', 'test')"
   ]
  },
  {
   "cell_type": "code",
   "execution_count": 11,
   "id": "67a9c0d9-c5d0-49bd-b4f6-e527a2f42a0e",
   "metadata": {},
   "outputs": [
    {
     "name": "stdout",
     "output_type": "stream",
     "text": [
      "torch.Size([50, 2])\n",
      "torch.Size([1, 2])\n",
      "torch.Size([49, 2])\n",
      "torch.Size([59, 2])\n",
      "torch.Size([50, 2])\n",
      "torch.Size([60, 2])\n",
      "torch.Size([50, 2])\n",
      "torch.Size([60, 2])\n"
     ]
    }
   ],
   "source": [
    "for t in train_dataset.__getitem__(0):\n",
    "    print(t.shape)"
   ]
  },
  {
   "cell_type": "code",
   "execution_count": 26,
   "id": "e5136266-2979-4f76-84c3-ba0318033283",
   "metadata": {},
   "outputs": [],
   "source": [
    "X_train_nn1 = train_dataset.nn1_inputs\n",
    "y_train_nn1 = train_dataset.nn1_outputs\n",
    "X_train_nn2 = train_dataset.nn2_inputs\n",
    "y_train_nn2 = train_dataset.nn2_outputs\n",
    "X_train = train_dataset.input_positions\n",
    "y_train = train_dataset.output_positions"
   ]
  },
  {
   "cell_type": "code",
   "execution_count": 62,
   "id": "634de1eb-ebaa-4309-bc4b-b47b08f39d29",
   "metadata": {},
   "outputs": [
    {
     "name": "stderr",
     "output_type": "stream",
     "text": [
      "100%|███████████████████████████████████████████████████████████| 100/100 [13:31<00:00,  8.12s/it, loss=0.446]\n"
     ]
    }
   ],
   "source": [
    "nn1 = lstm_encoder_decoder2.lstm_seq2seq(\n",
    "    input_size = 2, \n",
    "    hidden_size = 15,\n",
    "    num_layers = 2,\n",
    "    dropout = 0.3\n",
    ")\n",
    "loss1 = nn1.train_model(\n",
    "    X_train_nn1, \n",
    "    y_train_nn1, \n",
    "    n_epochs = 100, \n",
    "    target_len = 1, \n",
    "    batch_size = 100, \n",
    "    training_prediction = 'mixed_teacher_forcing', \n",
    "    teacher_forcing_ratio = 0.6, \n",
    "    learning_rate = 0.001, \n",
    "    dynamic_tf = False\n",
    ")"
   ]
  },
  {
   "cell_type": "code",
   "execution_count": 63,
   "id": "aeb61a42-39ae-4d78-9869-d588127f04b9",
   "metadata": {},
   "outputs": [
    {
     "data": {
      "text/plain": [
       "[<matplotlib.lines.Line2D at 0x1401a57f0>]"
      ]
     },
     "execution_count": 63,
     "metadata": {},
     "output_type": "execute_result"
    },
    {
     "data": {
      "image/png": "[encoded data removed]",
      "text/plain": [
       "<Figure size 432x288 with 1 Axes>"
      ]
     },
     "metadata": {
      "needs_background": "light"
     },
     "output_type": "display_data"
    }
   ],
   "source": [
    "plt.plot(loss1)"
   ]
  },
  {
   "cell_type": "code",
   "execution_count": 64,
   "id": "f0d8e6b2-c37e-4732-907d-57b46e3c59b6",
   "metadata": {},
   "outputs": [
    {
     "name": "stderr",
     "output_type": "stream",
     "text": [
      "100%|█████████████████████████████████████████████████████████████| 50/50 [22:25<00:00, 26.92s/it, loss=0.004]\n"
     ]
    }
   ],
   "source": [
    "nn2 = lstm_encoder_decoder2.lstm_seq2seq(\n",
    "    input_size = 2, \n",
    "    hidden_size = 25,\n",
    "    num_layers = 2,\n",
    "    dropout = 0.3\n",
    ")\n",
    "loss2 = nn2.train_model(\n",
    "    X_train_nn2, \n",
    "    y_train_nn2, \n",
    "    n_epochs = 50, \n",
    "    target_len = 60, \n",
    "    batch_size = 100, \n",
    "    training_prediction = 'mixed_teacher_forcing', \n",
    "    teacher_forcing_ratio = 0.6, \n",
    "    learning_rate = 0.0001, \n",
    "    dynamic_tf = False\n",
    ")"
   ]
  },
  {
   "cell_type": "code",
   "execution_count": 65,
   "id": "1a4c26e8-fbdb-459b-b404-d04c62453219",
   "metadata": {},
   "outputs": [
    {
     "data": {
      "text/plain": [
       "[<matplotlib.lines.Line2D at 0x140302ac0>]"
      ]
     },
     "execution_count": 65,
     "metadata": {},
     "output_type": "execute_result"
    },
    {
     "data": {
      "image/png": "[encoded data removed]",
      "text/plain": [
       "<Figure size 432x288 with 1 Axes>"
      ]
     },
     "metadata": {
      "needs_background": "light"
     },
     "output_type": "display_data"
    }
   ],
   "source": [
    "plt.plot(loss2)"
   ]
  },
  {
   "cell_type": "code",
   "execution_count": 302,
   "id": "e4801506-77ab-483a-9d12-0568412cfcc6",
   "metadata": {},
   "outputs": [],
   "source": [
    "val_dataset = ArgoverseDataset('austin', 'val')"
   ]
  },
  {
   "cell_type": "code",
   "execution_count": 305,
   "id": "a49b0372-8566-43da-b20e-bd1b3c7a434c",
   "metadata": {},
   "outputs": [
    {
     "data": {
      "text/plain": [
       "tensor(50.9260)"
      ]
     },
     "execution_count": 305,
     "metadata": {},
     "output_type": "execute_result"
    }
   ],
   "source": [
    "nn1.eval()\n",
    "nn2.eval()\n",
    "\n",
    "total_loss = 0\n",
    "for n in range(val_dataset.__len__()):\n",
    "    nn1_nth_input, nn1_nth_output, nn2_nth_input, nn2_nth_output, _, _, _, nth_output_centered = val_dataset.__getitem__(n)\n",
    "    init_pos = torch.Tensor(nn1.predict(nn1_nth_input, 1))\n",
    "    deltas = torch.Tensor(nn2.predict(nn2_nth_input, 59))\n",
    "    total_loss += ((torch.cumsum(torch.cat((init_pos, deltas)), dim=0) - nth_output_centered) ** 2).mean()\n",
    "    \n",
    "total_loss / val_dataset.__len__()"
   ]
  },
  {
   "cell_type": "code",
   "execution_count": null,
   "id": "66be9f4c-8e08-46b4-b37c-595b3d4b4713",
   "metadata": {},
   "outputs": [],
   "source": []
  },
  {
   "cell_type": "code",
   "execution_count": 13,
   "id": "60883c33-4472-493d-9b43-ea06915e280f",
   "metadata": {
    "tags": []
   },
   "outputs": [
    {
     "name": "stdout",
     "output_type": "stream",
     "text": [
      "Training austin\n",
      "test\n"
     ]
    },
    {
     "name": "stderr",
     "output_type": "stream",
     "text": [
      "  0%|                                                                                                  | 0/200 [00:02<?, ?it/s]\n"
     ]
    },
    {
     "ename": "KeyboardInterrupt",
     "evalue": "",
     "output_type": "error",
     "traceback": [
      "\u001b[0;31m---------------------------------------------------------------------------\u001b[0m",
      "\u001b[0;31mKeyboardInterrupt\u001b[0m                         Traceback (most recent call last)",
      "\u001b[0;32m/var/folders/xr/76k72jyn51q2__qqhbt5361c0000gn/T/ipykernel_33035/379623146.py\u001b[0m in \u001b[0;36m<module>\u001b[0;34m\u001b[0m\n\u001b[1;32m     29\u001b[0m     \u001b[0mX_train\u001b[0m \u001b[0;34m=\u001b[0m \u001b[0mtrain_dataset\u001b[0m\u001b[0;34m.\u001b[0m\u001b[0minput_positions\u001b[0m\u001b[0;34m\u001b[0m\u001b[0;34m\u001b[0m\u001b[0m\n\u001b[1;32m     30\u001b[0m     \u001b[0my_train\u001b[0m \u001b[0;34m=\u001b[0m \u001b[0mtrain_dataset\u001b[0m\u001b[0;34m.\u001b[0m\u001b[0moutput_positions\u001b[0m\u001b[0;34m\u001b[0m\u001b[0;34m\u001b[0m\u001b[0m\n\u001b[0;32m---> 31\u001b[0;31m     loss2 = nn2.train_model(\n\u001b[0m\u001b[1;32m     32\u001b[0m         \u001b[0mX_train_nn2\u001b[0m\u001b[0;34m,\u001b[0m\u001b[0;34m\u001b[0m\u001b[0;34m\u001b[0m\u001b[0m\n\u001b[1;32m     33\u001b[0m         \u001b[0my_train_nn2\u001b[0m\u001b[0;34m,\u001b[0m\u001b[0;34m\u001b[0m\u001b[0;34m\u001b[0m\u001b[0m\n",
      "\u001b[0;32m~/Documents/course_materials/current_tasks/cse151b_kaggle/lstm_seq2seq/code/lstm_encoder_decoder2.py\u001b[0m in \u001b[0;36mtrain_model\u001b[0;34m(self, input_tensor, target_tensor, n_epochs, target_len, batch_size, training_prediction, teacher_forcing_ratio, learning_rate, dynamic_tf)\u001b[0m\n\u001b[1;32m    137\u001b[0m \u001b[0;34m\u001b[0m\u001b[0m\n\u001b[1;32m    138\u001b[0m                     \u001b[0;31m# backpropagation\u001b[0m\u001b[0;34m\u001b[0m\u001b[0;34m\u001b[0m\u001b[0;34m\u001b[0m\u001b[0m\n\u001b[0;32m--> 139\u001b[0;31m                     \u001b[0mloss\u001b[0m\u001b[0;34m.\u001b[0m\u001b[0mbackward\u001b[0m\u001b[0;34m(\u001b[0m\u001b[0;34m)\u001b[0m\u001b[0;34m\u001b[0m\u001b[0;34m\u001b[0m\u001b[0m\n\u001b[0m\u001b[1;32m    140\u001b[0m                     \u001b[0moptimizer\u001b[0m\u001b[0;34m.\u001b[0m\u001b[0mstep\u001b[0m\u001b[0;34m(\u001b[0m\u001b[0;34m)\u001b[0m\u001b[0;34m\u001b[0m\u001b[0;34m\u001b[0m\u001b[0m\n\u001b[1;32m    141\u001b[0m \u001b[0;34m\u001b[0m\u001b[0m\n",
      "\u001b[0;32m~/miniforge3/lib/python3.9/site-packages/torch/tensor.py\u001b[0m in \u001b[0;36mbackward\u001b[0;34m(self, gradient, retain_graph, create_graph, inputs)\u001b[0m\n\u001b[1;32m    243\u001b[0m                 \u001b[0mcreate_graph\u001b[0m\u001b[0;34m=\u001b[0m\u001b[0mcreate_graph\u001b[0m\u001b[0;34m,\u001b[0m\u001b[0;34m\u001b[0m\u001b[0;34m\u001b[0m\u001b[0m\n\u001b[1;32m    244\u001b[0m                 inputs=inputs)\n\u001b[0;32m--> 245\u001b[0;31m         \u001b[0mtorch\u001b[0m\u001b[0;34m.\u001b[0m\u001b[0mautograd\u001b[0m\u001b[0;34m.\u001b[0m\u001b[0mbackward\u001b[0m\u001b[0;34m(\u001b[0m\u001b[0mself\u001b[0m\u001b[0;34m,\u001b[0m \u001b[0mgradient\u001b[0m\u001b[0;34m,\u001b[0m \u001b[0mretain_graph\u001b[0m\u001b[0;34m,\u001b[0m \u001b[0mcreate_graph\u001b[0m\u001b[0;34m,\u001b[0m \u001b[0minputs\u001b[0m\u001b[0;34m=\u001b[0m\u001b[0minputs\u001b[0m\u001b[0;34m)\u001b[0m\u001b[0;34m\u001b[0m\u001b[0;34m\u001b[0m\u001b[0m\n\u001b[0m\u001b[1;32m    246\u001b[0m \u001b[0;34m\u001b[0m\u001b[0m\n\u001b[1;32m    247\u001b[0m     \u001b[0;32mdef\u001b[0m \u001b[0mregister_hook\u001b[0m\u001b[0;34m(\u001b[0m\u001b[0mself\u001b[0m\u001b[0;34m,\u001b[0m \u001b[0mhook\u001b[0m\u001b[0;34m)\u001b[0m\u001b[0;34m:\u001b[0m\u001b[0;34m\u001b[0m\u001b[0;34m\u001b[0m\u001b[0m\n",
      "\u001b[0;32m~/miniforge3/lib/python3.9/site-packages/torch/autograd/__init__.py\u001b[0m in \u001b[0;36mbackward\u001b[0;34m(tensors, grad_tensors, retain_graph, create_graph, grad_variables, inputs)\u001b[0m\n\u001b[1;32m    143\u001b[0m         \u001b[0mretain_graph\u001b[0m \u001b[0;34m=\u001b[0m \u001b[0mcreate_graph\u001b[0m\u001b[0;34m\u001b[0m\u001b[0;34m\u001b[0m\u001b[0m\n\u001b[1;32m    144\u001b[0m \u001b[0;34m\u001b[0m\u001b[0m\n\u001b[0;32m--> 145\u001b[0;31m     Variable._execution_engine.run_backward(\n\u001b[0m\u001b[1;32m    146\u001b[0m         \u001b[0mtensors\u001b[0m\u001b[0;34m,\u001b[0m \u001b[0mgrad_tensors_\u001b[0m\u001b[0;34m,\u001b[0m \u001b[0mretain_graph\u001b[0m\u001b[0;34m,\u001b[0m \u001b[0mcreate_graph\u001b[0m\u001b[0;34m,\u001b[0m \u001b[0minputs\u001b[0m\u001b[0;34m,\u001b[0m\u001b[0;34m\u001b[0m\u001b[0;34m\u001b[0m\u001b[0m\n\u001b[1;32m    147\u001b[0m         allow_unreachable=True, accumulate_grad=True)  # allow_unreachable flag\n",
      "\u001b[0;31mKeyboardInterrupt\u001b[0m: "
     ]
    }
   ],
   "source": [
    "nn1 = lstm_encoder_decoder2.lstm_seq2seq(\n",
    "    input_size = 2, \n",
    "    hidden_size = 15,\n",
    "    num_layers = 2,\n",
    "    dropout = 0.3\n",
    ")\n",
    "\n",
    "nn2 = lstm_encoder_decoder2.lstm_seq2seq(\n",
    "    input_size = 2, \n",
    "    hidden_size = 25,\n",
    "    num_layers = 2,\n",
    "    dropout = 0.3\n",
    ")\n",
    "\n",
    "nn1.train()\n",
    "nn2.train()\n",
    "\n",
    "# device = \"gpu:0\"\n",
    "# input = input.to(device)\n",
    "# model = model.to(device)\n",
    "\n",
    "for city in cities:\n",
    "    print('Training ' + str(city))\n",
    "    train_dataset = ArgoverseDataset(city=city, split='train')\n",
    "    X_train_nn1 = train_dataset.nn1_inputs\n",
    "    y_train_nn1 = train_dataset.nn1_outputs\n",
    "    X_train_nn2 = train_dataset.nn2_inputs\n",
    "    y_train_nn2 = train_dataset.nn2_outputs\n",
    "    X_train = train_dataset.input_positions\n",
    "    y_train = train_dataset.output_positions\n",
    "    loss2 = nn2.train_model(\n",
    "        X_train_nn2, \n",
    "        y_train_nn2, \n",
    "        n_epochs = 200,\n",
    "        target_len = 59,\n",
    "        batch_size = 100, \n",
    "        training_prediction = 'mixed_teacher_forcing', \n",
    "        teacher_forcing_ratio = 0.6, \n",
    "        learning_rate = 0.0001, \n",
    "        dynamic_tf = False\n",
    "    )\n",
    "    loss1 = nn1.train_model(\n",
    "        X_train_nn1, \n",
    "        y_train_nn1, \n",
    "        n_epochs = 200,\n",
    "        target_len = 1, \n",
    "        batch_size = 100, \n",
    "        training_prediction = 'mixed_teacher_forcing', \n",
    "        teacher_forcing_ratio = 0.6, \n",
    "        learning_rate = 0.001, \n",
    "        dynamic_tf = False\n",
    "    )"
   ]
  },
  {
   "cell_type": "code",
   "execution_count": null,
   "id": "442bd2b4-e89d-4903-a405-029d9d55f335",
   "metadata": {},
   "outputs": [],
   "source": []
  },
  {
   "cell_type": "code",
   "execution_count": null,
   "id": "0b0015cb-6946-41b0-af83-cb9a74d1fd5f",
   "metadata": {},
   "outputs": [],
   "source": []
  },
  {
   "cell_type": "code",
   "execution_count": null,
   "id": "1ecd9fd7-c519-4158-b22e-c6caa84b31c5",
   "metadata": {},
   "outputs": [],
   "source": []
  },
  {
   "cell_type": "code",
   "execution_count": null,
   "id": "8f8f24dd-e651-478d-aa84-a53a7b2e7acf",
   "metadata": {},
   "outputs": [],
   "source": []
  },
  {
   "cell_type": "code",
   "execution_count": 354,
   "id": "9bfa45f5-9995-4767-83a4-41ae9ffa1e04",
   "metadata": {},
   "outputs": [
    {
     "name": "stdout",
     "output_type": "stream",
     "text": [
      "0 predictions for austin completed.\n",
      "1000 predictions for austin completed.\n",
      "2000 predictions for austin completed.\n",
      "3000 predictions for austin completed.\n",
      "4000 predictions for austin completed.\n",
      "5000 predictions for austin completed.\n",
      "6000 predictions for austin completed.\n",
      "0 predictions for miami completed.\n",
      "1000 predictions for miami completed.\n",
      "2000 predictions for miami completed.\n",
      "3000 predictions for miami completed.\n",
      "4000 predictions for miami completed.\n",
      "5000 predictions for miami completed.\n",
      "6000 predictions for miami completed.\n",
      "7000 predictions for miami completed.\n",
      "0 predictions for pittsburgh completed.\n",
      "1000 predictions for pittsburgh completed.\n",
      "2000 predictions for pittsburgh completed.\n",
      "3000 predictions for pittsburgh completed.\n",
      "4000 predictions for pittsburgh completed.\n",
      "5000 predictions for pittsburgh completed.\n",
      "6000 predictions for pittsburgh completed.\n",
      "0 predictions for dearborn completed.\n",
      "1000 predictions for dearborn completed.\n",
      "2000 predictions for dearborn completed.\n",
      "3000 predictions for dearborn completed.\n",
      "0 predictions for washington-dc completed.\n",
      "1000 predictions for washington-dc completed.\n",
      "2000 predictions for washington-dc completed.\n",
      "3000 predictions for washington-dc completed.\n",
      "0 predictions for palo-alto completed.\n",
      "1000 predictions for palo-alto completed.\n"
     ]
    }
   ],
   "source": [
    "nn1.eval()\n",
    "nn2.eval()\n",
    "\n",
    "all_preds = []\n",
    "for city in cities:\n",
    "    test_dataset = ArgoverseDataset(city=city, split='test')\n",
    "    rows = []\n",
    "    for n in range(test_dataset.__len__()):\n",
    "        if n % 1_000 == 0 and n > 0: \n",
    "            print(str(n) + ' predictions for ' + str(city) + ' completed.')\n",
    "        nn1_nth_input, nn2_nth_input, center_input = test_dataset.__getitem__(n)\n",
    "        init_pos = torch.Tensor(nn1.predict(nn1_nth_input, 1))\n",
    "        deltas = torch.Tensor(nn2.predict(nn2_nth_input, 59))\n",
    "        pred = (torch.cumsum(torch.cat((init_pos, deltas)), dim=0).flatten() + center_input).numpy()\n",
    "        rows.append(pred)\n",
    "    ids = np.array([str(i) + '_' + city for i in range(len(rows))])\n",
    "    cols = np.array(['v' + str(i) for i in range(120)])\n",
    "    predictions = pd.DataFrame(rows, columns=cols)\n",
    "    predictions.insert(0, 'ID', ids)\n",
    "    all_preds.append(predictions)\n",
    "all_predictions = pd.concat(all_preds, ignore_index=True)"
   ]
  },
  {
   "cell_type": "code",
   "execution_count": 355,
   "id": "2c7cb88e-5a41-46ee-81fb-d5ed7b79c2c1",
   "metadata": {},
   "outputs": [],
   "source": [
    "all_predictions.to_csv('two_lstm_enc_dec_out.csv', index=False)"
   ]
  },
  {
   "cell_type": "code",
   "execution_count": null,
   "id": "f06e0ca7-6c3f-4163-be3d-19f7f025bcf3",
   "metadata": {},
   "outputs": [],
   "source": []
  },
  {
   "cell_type": "code",
   "execution_count": null,
   "id": "f59cab5f-319c-4e03-8c77-c17d521e414c",
   "metadata": {},
   "outputs": [],
   "source": []
  }
 ],
 "metadata": {
  "kernelspec": {
   "display_name": "Python 3 (ipykernel)",
   "language": "python",
   "name": "python3"
  },
  "language_info": {
   "codemirror_mode": {
    "name": "ipython",
    "version": 3
   },
   "file_extension": ".py",
   "mimetype": "text/x-python",
   "name": "python",
   "nbconvert_exporter": "python",
   "pygments_lexer": "ipython3",
   "version": "3.9.5"
  }
 },
 "nbformat": 4,
 "nbformat_minor": 5
}
