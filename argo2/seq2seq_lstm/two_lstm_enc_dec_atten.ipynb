{
 "cells": [
  {
   "cell_type": "markdown",
   "id": "498e98a2-a15a-4be3-842c-25ed40af9e65",
   "metadata": {},
   "source": [
    "## Install the package dependencies before running this notebook"
   ]
  },
  {
   "cell_type": "code",
   "execution_count": 1,
   "id": "2f010662-209a-42ad-aa09-91a6c45e332c",
   "metadata": {},
   "outputs": [],
   "source": [
    "%load_ext autoreload\n",
    "%autoreload 2"
   ]
  },
  {
   "cell_type": "code",
   "execution_count": 2,
   "id": "2b6af88b-26f7-4373-9bb8-cd0990d9d091",
   "metadata": {},
   "outputs": [],
   "source": [
    "import lstm_encoder_decoder2"
   ]
  },
  {
   "cell_type": "code",
   "execution_count": 3,
   "id": "a277321d-a237-4ee9-a1fe-38364e46038d",
   "metadata": {},
   "outputs": [
    {
     "data": {
      "text/plain": [
       "'\\n    number of trajectories in each city\\n    # austin --  train: 43041 test: 6325 \\n    # miami -- train: 55029 test:7971\\n    # pittsburgh -- train: 43544 test: 6361\\n    # dearborn -- train: 24465 test: 3671\\n    # washington-dc -- train: 25744 test: 3829\\n    # palo-alto -- train:  11993 test:1686\\n\\n    trajectories sampled at 10HZ rate, input 5 seconds, output 6 seconds\\n    \\n'"
      ]
     },
     "execution_count": 3,
     "metadata": {},
     "output_type": "execute_result"
    }
   ],
   "source": [
    "import torch\n",
    "from torch.utils.data import Dataset, DataLoader\n",
    "import os, os.path \n",
    "import numpy \n",
    "import pickle\n",
    "from glob import glob\n",
    "import matplotlib.pyplot as plt\n",
    "import pandas as pd\n",
    "import torch.nn as nn\n",
    "\n",
    "\"\"\"\n",
    "    number of trajectories in each city\n",
    "    # austin --  train: 43041 test: 6325 \n",
    "    # miami -- train: 55029 test:7971\n",
    "    # pittsburgh -- train: 43544 test: 6361\n",
    "    # dearborn -- train: 24465 test: 3671\n",
    "    # washington-dc -- train: 25744 test: 3829\n",
    "    # palo-alto -- train:  11993 test:1686\n",
    "\n",
    "    trajectories sampled at 10HZ rate, input 5 seconds, output 6 seconds\n",
    "    \n",
    "\"\"\""
   ]
  },
  {
   "cell_type": "markdown",
   "id": "e0dc7736-a560-49c2-bb67-ca94d797d47f",
   "metadata": {},
   "source": [
    "## Create a Torch.Dataset class for the training dataset"
   ]
  },
  {
   "cell_type": "code",
   "execution_count": 4,
   "id": "59577b66-7d8c-4033-a47a-4a43a4fa4a87",
   "metadata": {},
   "outputs": [],
   "source": [
    "from glob import glob\n",
    "import pickle\n",
    "import numpy as np\n",
    "\n",
    "ROOT_PATH = \"../../argo2/\"\n",
    "\n",
    "cities = [\"austin\", \"miami\", \"pittsburgh\", \"dearborn\", \"washington-dc\", \"palo-alto\"]\n",
    "splits = [\"train\", \"val\", \"test\"]\n",
    "\n",
    "def get_city_trajectories(city=\"palo-alto\", split=\"train\", normalized=False):\n",
    "    outputs = None\n",
    "    \n",
    "    if split == \"train\":\n",
    "        f_in = ROOT_PATH + split + \"/\" + city + \"_inputs\"\n",
    "        inputs = pickle.load(open(f_in, \"rb\"))\n",
    "        n = len(inputs)\n",
    "        inputs = np.asarray(inputs)[:int(n * 0.8)]\n",
    "        \n",
    "        f_out = ROOT_PATH + split + \"/\" + city + \"_outputs\"\n",
    "        outputs = pickle.load(open(f_out, \"rb\"))\n",
    "        outputs = np.asarray(outputs)[:int(n * 0.8)]\n",
    "        \n",
    "    elif split == 'val':\n",
    "        f_in = ROOT_PATH + 'train' + \"/\" + city + \"_inputs\"\n",
    "        inputs = pickle.load(open(f_in, \"rb\"))\n",
    "        n = len(inputs)\n",
    "        inputs = np.asarray(inputs)[int(n * 0.8):]\n",
    "        \n",
    "        f_out = ROOT_PATH + 'train' + \"/\" + city + \"_outputs\"\n",
    "        outputs = pickle.load(open(f_out, \"rb\"))\n",
    "        outputs = np.asarray(outputs)[int(n * 0.8):]\n",
    "    \n",
    "    elif split == 'test':\n",
    "        f_in = ROOT_PATH + split + \"/\" + city + \"_inputs\"\n",
    "        inputs = pickle.load(open(f_in, \"rb\"))\n",
    "        n = len(inputs)\n",
    "        inputs = np.asarray(inputs)\n",
    "        \n",
    "    else:\n",
    "        print('\\\"split\\\" should be train, val, or test.')\n",
    "        inputs = None\n",
    "\n",
    "    return inputs, outputs\n",
    "\n",
    "class ArgoverseDataset(Dataset):\n",
    "    def __init__(self, city: str, split:str, transform=None):\n",
    "        super(ArgoverseDataset, self).__init__()\n",
    "        self.split = split\n",
    "        self.input_positions, self.output_positions = get_city_trajectories(city=city, split=split, normalized=False)\n",
    "        \n",
    "        self.input_positions = torch.Tensor(self.input_positions)\n",
    "        num_inputs, input_seq_len = self.input_positions.shape[:2]\n",
    "        self.center_input = (\n",
    "            np.repeat(self.input_positions[:, 0, :], input_seq_len, axis=0)\n",
    "            .reshape(num_inputs, input_seq_len, 2)\n",
    "        )\n",
    "        self.center = (\n",
    "            np.repeat(self.input_positions[:, 0, :], 60, axis=0)\n",
    "            .reshape(num_inputs, 120)\n",
    "        )\n",
    "        \n",
    "        self.input_positions_centered = torch.Tensor(self.input_positions - self.center_input)\n",
    "        self.input_velocities = torch.Tensor(np.diff(self.input_positions, axis=1))\n",
    "        \n",
    "        self.nn1_inputs = self.input_positions_centered\n",
    "        self.nn2_inputs = self.input_velocities\n",
    "        \n",
    "        if split != 'test': \n",
    "            self.output_positions = torch.Tensor(self.output_positions)\n",
    "            num_outputs, output_seq_len = self.output_positions.shape[:2]\n",
    "            center_output = (\n",
    "                np.repeat(self.input_positions[:, 0, :], output_seq_len, axis=0)\n",
    "                .reshape(num_outputs, output_seq_len, 2)\n",
    "            )\n",
    "            self.output_positions_centered = torch.Tensor(self.output_positions - center_output)\n",
    "            self.output_velocities = torch.Tensor(np.diff(self.output_positions, axis=1))\n",
    "                    \n",
    "            self.nn1_outputs = self.output_positions_centered[:, 0, :].unsqueeze(1)\n",
    "            self.nn2_outputs = self.output_velocities\n",
    "\n",
    "    def __len__(self):\n",
    "        return len(self.nn1_inputs)\n",
    "\n",
    "    def __getitem__(self, idx):\n",
    "        if self.split != 'test':\n",
    "            data = (\n",
    "                self.nn1_inputs[idx], \n",
    "                self.nn1_outputs[idx], \n",
    "                self.nn2_inputs[idx], \n",
    "                self.nn2_outputs[idx],\n",
    "                self.input_positions[idx],\n",
    "                self.output_positions[idx],\n",
    "                self.input_positions_centered[idx],\n",
    "                self.output_positions_centered[idx]\n",
    "            )\n",
    "        else:\n",
    "            data = data = (\n",
    "                self.nn1_inputs[idx], \n",
    "                self.nn2_inputs[idx], \n",
    "                self.center[idx]\n",
    "            )\n",
    "        return data"
   ]
  },
  {
   "cell_type": "code",
   "execution_count": 5,
   "id": "cb4e942a-7c3d-4ebe-9766-ab5b44f1987a",
   "metadata": {},
   "outputs": [],
   "source": [
    "train_dataset = ArgoverseDataset('austin', 'train')\n",
    "val_dataset = ArgoverseDataset('austin', 'train')\n",
    "test_dataset = ArgoverseDataset('austin', 'test')"
   ]
  },
  {
   "cell_type": "code",
   "execution_count": 6,
   "id": "e5136266-2979-4f76-84c3-ba0318033283",
   "metadata": {},
   "outputs": [
    {
     "name": "stdout",
     "output_type": "stream",
     "text": [
      "X_train_nn1: torch.Size([34432, 50, 2])\n",
      "y_train_nn1: torch.Size([34432, 1, 2])\n",
      "X_train_nn2: torch.Size([34432, 49, 2])\n",
      "y_train_nn2: torch.Size([34432, 59, 2])\n",
      "X_train: torch.Size([34432, 50, 2])\n",
      "y_train: torch.Size([34432, 60, 2])\n"
     ]
    }
   ],
   "source": [
    "X_train_nn1 = train_dataset.nn1_inputs\n",
    "print('X_train_nn1:', X_train_nn1.shape)\n",
    "y_train_nn1 = train_dataset.nn1_outputs\n",
    "print('y_train_nn1:', y_train_nn1.shape)\n",
    "X_train_nn2 = train_dataset.nn2_inputs\n",
    "print('X_train_nn2:', X_train_nn2.shape)\n",
    "y_train_nn2 = train_dataset.nn2_outputs\n",
    "print('y_train_nn2:', y_train_nn2.shape)\n",
    "X_train = train_dataset.input_positions\n",
    "print('X_train:', X_train.shape)\n",
    "y_train = train_dataset.output_positions\n",
    "print('y_train:', y_train.shape)"
   ]
  },
  {
   "cell_type": "markdown",
   "id": "172de39a-98cc-47f6-9845-ac91da60113f",
   "metadata": {
    "tags": []
   },
   "source": [
    "## Train NN1"
   ]
  },
  {
   "cell_type": "code",
   "execution_count": 45,
   "id": "61b2be80-0c67-482c-9784-8502d5e1654c",
   "metadata": {
    "tags": []
   },
   "outputs": [],
   "source": [
    "nn1 = lstm_encoder_decoder2.lstm_seq2seq(\n",
    "    input_size = 2, \n",
    "    input_len = 50,\n",
    "    hidden_size = 16,\n",
    "    output_size = 2,\n",
    "    num_layers = 1,\n",
    "    dropout = 0.3\n",
    ")"
   ]
  },
  {
   "cell_type": "markdown",
   "id": "ee740ed0-cf30-409c-b0cb-fc470247831d",
   "metadata": {
    "tags": []
   },
   "source": [
    "### Keep track of number of times that `scheduler` decreases learning rate, and multiply `threshold` and `learning_rate` by $0.1$ by that number of times."
   ]
  },
  {
   "cell_type": "code",
   "execution_count": 49,
   "id": "653ad646-fc7e-45f4-877b-7c658a575a78",
   "metadata": {
    "tags": []
   },
   "outputs": [
    {
     "name": "stdout",
     "output_type": "stream",
     "text": [
      "Training on Austin\n",
      "Epoch 0 train loss, validation loss, time: 44.18556, 28.23833, 4.93261\n",
      "Epoch 3 train loss, validation loss, time: 5.06243, 4.96641, 4.51924\n",
      "Epoch 6 train loss, validation loss, time: 1.37798, 2.50491, 4.78983\n",
      "Epoch 9 train loss, validation loss, time: 0.71197, 1.91653, 4.40088\n",
      "Epoch 12 train loss, validation loss, time: 0.45217, 1.47672, 4.41925\n",
      "Epoch 15 train loss, validation loss, time: 0.34599, 1.46722, 4.40181\n",
      "Epoch 18 train loss, validation loss, time: 0.29399, 1.38274, 4.42458\n",
      "Epoch 21 train loss, validation loss, time: 0.26094, 1.14020, 4.39667\n",
      "Epoch 24 train loss, validation loss, time: 0.22821, 1.12254, 4.39086\n",
      "Epoch 27 train loss, validation loss, time: 0.23122, 0.99223, 4.53166\n"
     ]
    },
    {
     "data": {
      "text/plain": [
       "[<matplotlib.lines.Line2D at 0x1680ba610>]"
      ]
     },
     "execution_count": 49,
     "metadata": {},
     "output_type": "execute_result"
    },
    {
     "data": {
      "image/png": "[encoded data removed]",
      "text/plain": [
       "<Figure size 432x288 with 1 Axes>"
      ]
     },
     "metadata": {
      "needs_background": "light"
     },
     "output_type": "display_data"
    }
   ],
   "source": [
    "print('Training on Austin')\n",
    "train_dataset = ArgoverseDataset(city='austin', split='train')\n",
    "val_dataset = ArgoverseDataset(city='austin', split='val')\n",
    "X_train_nn1 = train_dataset.nn1_inputs\n",
    "y_train_nn1 = train_dataset.nn1_outputs\n",
    "X_val_nn1 = val_dataset.nn1_inputs\n",
    "y_val_nn1 = val_dataset.nn1_outputs\n",
    "loss1 = nn1.train_model(\n",
    "    X_train_nn1, \n",
    "    y_train_nn1, \n",
    "    X_val_nn1,\n",
    "    y_val_nn1,\n",
    "    n_epochs = 30, \n",
    "    target_len = 1, \n",
    "    batch_size = 32, \n",
    "    patience = 10,\n",
    "    threshold = 1e-3,\n",
    "    training_prediction = 'recursive', \n",
    "    learning_rate = 1e-3\n",
    ")\n",
    "plt.plot(loss1)"
   ]
  },
  {
   "cell_type": "code",
   "execution_count": 192,
   "id": "4c8a335e-2ed5-4a3e-92f7-f9385bbeb143",
   "metadata": {},
   "outputs": [
    {
     "name": "stdout",
     "output_type": "stream",
     "text": [
      "Training on Miami\n",
      "Epoch 0 train loss, validation loss, time: 179.02432, 0.88285, 13.35955\n",
      "Epoch 3 train loss, validation loss, time: 111.34392, 0.82648, 12.69744\n",
      "Epoch 6 train loss, validation loss, time: 95.45717, 0.74283, 13.56006\n",
      "Epoch 9 train loss, validation loss, time: 94.75955, 0.70263, 12.92240\n",
      "Epoch 12 train loss, validation loss, time: 93.99613, 0.68801, 13.27664\n",
      "Epoch 15 train loss, validation loss, time: 86.42304, 0.66411, 15.85282\n",
      "Epoch 18 train loss, validation loss, time: 75.86799, 0.63188, 13.23280\n",
      "Epoch 21 train loss, validation loss, time: 61.83117, 0.59810, 13.27137\n",
      "Epoch 24 train loss, validation loss, time: 47.03385, 0.66157, 19.31397\n",
      "Epoch 27 train loss, validation loss, time: 42.93984, 0.63315, 13.70387\n"
     ]
    },
    {
     "data": {
      "text/plain": [
       "[<matplotlib.lines.Line2D at 0x28b39f700>]"
      ]
     },
     "execution_count": 192,
     "metadata": {},
     "output_type": "execute_result"
    },
    {
     "data": {
      "image/png": "[encoded data removed]",
      "text/plain": [
       "<Figure size 432x288 with 1 Axes>"
      ]
     },
     "metadata": {
      "needs_background": "light"
     },
     "output_type": "display_data"
    }
   ],
   "source": [
    "print('Training on Miami')\n",
    "train_dataset = ArgoverseDataset(city='miami', split='train')\n",
    "val_dataset = ArgoverseDataset(city='miami', split='val')\n",
    "X_train_nn1 = train_dataset.nn1_inputs\n",
    "y_train_nn1 = train_dataset.nn1_outputs\n",
    "X_val_nn1 = val_dataset.nn1_inputs\n",
    "y_val_nn1 = val_dataset.nn1_outputs\n",
    "loss1 = nn1.train_model(\n",
    "    X_train_nn1, \n",
    "    y_train_nn1, \n",
    "    X_val_nn1,\n",
    "    y_val_nn1,\n",
    "    n_epochs = 30, \n",
    "    target_len = 1, \n",
    "    batch_size = 32, \n",
    "    patience = 8,\n",
    "    threshold = 1e-4,\n",
    "    training_prediction = 'recursive', \n",
    "    learning_rate = 1e-4\n",
    ")\n",
    "plt.plot(loss1)"
   ]
  },
  {
   "cell_type": "code",
   "execution_count": 194,
   "id": "0707d666-ea21-4a40-ae81-3e7979f5ef12",
   "metadata": {},
   "outputs": [
    {
     "name": "stdout",
     "output_type": "stream",
     "text": [
      "Training on Pittsburgh\n",
      "Epoch 0 train loss, validation loss, time: 0.43115, 0.84263, 9.86024\n",
      "Epoch 3 train loss, validation loss, time: 0.17016, 0.63363, 9.40656\n",
      "Epoch 6 train loss, validation loss, time: 0.11335, 0.51353, 10.24342\n",
      "Epoch 9 train loss, validation loss, time: 0.08315, 0.50303, 9.97556\n",
      "Epoch 12 train loss, validation loss, time: 0.06540, 0.43314, 10.30843\n",
      "Epoch 15 train loss, validation loss, time: 0.05400, 0.38381, 14.29748\n",
      "Epoch 18 train loss, validation loss, time: 0.04757, 0.35453, 11.38427\n",
      "Epoch 21 train loss, validation loss, time: 0.04060, 0.31302, 11.81986\n",
      "Epoch 24 train loss, validation loss, time: 0.03416, 0.29718, 12.23002\n",
      "Epoch 27 train loss, validation loss, time: 0.02831, 0.28591, 12.26419\n"
     ]
    },
    {
     "data": {
      "text/plain": [
       "[<matplotlib.lines.Line2D at 0x16bc9bd60>]"
      ]
     },
     "execution_count": 194,
     "metadata": {},
     "output_type": "execute_result"
    },
    {
     "data": {
      "image/png": "[encoded data removed]",
      "text/plain": [
       "<Figure size 432x288 with 1 Axes>"
      ]
     },
     "metadata": {
      "needs_background": "light"
     },
     "output_type": "display_data"
    }
   ],
   "source": [
    "print('Training on Pittsburgh')\n",
    "train_dataset = ArgoverseDataset(city='pittsburgh', split='train')\n",
    "val_dataset = ArgoverseDataset(city='pittsburgh', split='val')\n",
    "X_train_nn1 = train_dataset.nn1_inputs\n",
    "y_train_nn1 = train_dataset.nn1_outputs\n",
    "X_val_nn1 = val_dataset.nn1_inputs\n",
    "y_val_nn1 = val_dataset.nn1_outputs\n",
    "loss1 = nn1.train_model(\n",
    "    X_train_nn1, \n",
    "    y_train_nn1, \n",
    "    X_val_nn1,\n",
    "    y_val_nn1,\n",
    "    n_epochs = 30, \n",
    "    target_len = 1, \n",
    "    batch_size = 32, \n",
    "    patience = 8,\n",
    "    threshold = 1e-4,\n",
    "    training_prediction = 'recursive', \n",
    "    learning_rate = 1e-4\n",
    ")\n",
    "plt.plot(loss1)"
   ]
  },
  {
   "cell_type": "code",
   "execution_count": 195,
   "id": "2fcf2a76-6070-41aa-8653-c28b4caa90fe",
   "metadata": {},
   "outputs": [
    {
     "name": "stdout",
     "output_type": "stream",
     "text": [
      "Training on Miami\n",
      "Epoch 0 train loss, validation loss, time: 0.02111, 0.16370, 17.82272\n",
      "Epoch 3 train loss, validation loss, time: 0.00674, 0.13820, 16.02021\n",
      "Epoch 6 train loss, validation loss, time: 0.00591, 0.14106, 13.09620\n",
      "Epoch 9 train loss, validation loss, time: 0.00545, 0.13718, 13.32007\n",
      "Epoch 12 train loss, validation loss, time: 0.00515, 0.14188, 14.65663\n",
      "Epoch 15 train loss, validation loss, time: 0.00492, 0.14236, 14.78997\n",
      "Epoch 00017: reducing learning rate of group 0 to 1.0000e-05.\n",
      "Epoch 18 train loss, validation loss, time: 0.00380, 0.13822, 19.49403\n",
      "Epoch 21 train loss, validation loss, time: 0.00350, 0.14038, 15.51474\n",
      "Epoch 24 train loss, validation loss, time: 0.00337, 0.14240, 17.34413\n",
      "Epoch 00026: reducing learning rate of group 0 to 1.0000e-06.\n",
      "Epoch 27 train loss, validation loss, time: 0.00756, 0.13528, 15.96336\n"
     ]
    },
    {
     "data": {
      "text/plain": [
       "[<matplotlib.lines.Line2D at 0x16bcb6970>]"
      ]
     },
     "execution_count": 195,
     "metadata": {},
     "output_type": "execute_result"
    },
    {
     "data": {
      "image/png": "[encoded data removed]",
      "text/plain": [
       "<Figure size 432x288 with 1 Axes>"
      ]
     },
     "metadata": {
      "needs_background": "light"
     },
     "output_type": "display_data"
    }
   ],
   "source": [
    "print('Training on Miami')\n",
    "train_dataset = ArgoverseDataset(city='miami', split='train')\n",
    "val_dataset = ArgoverseDataset(city='miami', split='val')\n",
    "X_train_nn1 = train_dataset.nn1_inputs\n",
    "y_train_nn1 = train_dataset.nn1_outputs\n",
    "X_val_nn1 = val_dataset.nn1_inputs\n",
    "y_val_nn1 = val_dataset.nn1_outputs\n",
    "loss1 = nn1.train_model(\n",
    "    X_train_nn1, \n",
    "    y_train_nn1, \n",
    "    X_val_nn1,\n",
    "    y_val_nn1,\n",
    "    n_epochs = 30, \n",
    "    target_len = 1, \n",
    "    batch_size = 32, \n",
    "    patience = 8,\n",
    "    threshold = 1e-4,\n",
    "    training_prediction = 'recursive', \n",
    "    learning_rate = 1e-4\n",
    ")\n",
    "plt.plot(loss1)"
   ]
  },
  {
   "cell_type": "code",
   "execution_count": 196,
   "id": "0da9f0cd-e7a1-4817-8759-821f829ff61c",
   "metadata": {},
   "outputs": [
    {
     "name": "stdout",
     "output_type": "stream",
     "text": [
      "Training on Washington DC\n",
      "Epoch 0 train loss, validation loss, time: 1.20934, 1.11262, 8.38050\n",
      "Epoch 3 train loss, validation loss, time: 0.91007, 0.88009, 6.02870\n",
      "Epoch 6 train loss, validation loss, time: 0.73017, 0.75935, 6.26335\n",
      "Epoch 9 train loss, validation loss, time: 0.61152, 0.68582, 6.84749\n",
      "Epoch 12 train loss, validation loss, time: 0.53244, 0.63351, 6.93760\n",
      "Epoch 15 train loss, validation loss, time: 0.47669, 0.59272, 6.38100\n",
      "Epoch 18 train loss, validation loss, time: 0.43515, 0.55981, 7.67511\n",
      "Epoch 21 train loss, validation loss, time: 0.40293, 0.53280, 6.30261\n",
      "Epoch 24 train loss, validation loss, time: 0.37711, 0.51036, 7.62183\n",
      "Epoch 27 train loss, validation loss, time: 0.35583, 0.49151, 7.19408\n"
     ]
    },
    {
     "data": {
      "text/plain": [
       "[<matplotlib.lines.Line2D at 0x2873825b0>]"
      ]
     },
     "execution_count": 196,
     "metadata": {},
     "output_type": "execute_result"
    },
    {
     "data": {
      "image/png": "[encoded data removed]",
      "text/plain": [
       "<Figure size 432x288 with 1 Axes>"
      ]
     },
     "metadata": {
      "needs_background": "light"
     },
     "output_type": "display_data"
    }
   ],
   "source": [
    "print('Training on Washington DC')\n",
    "train_dataset = ArgoverseDataset(city='washington-dc', split='train')\n",
    "val_dataset = ArgoverseDataset(city='washington-dc', split='val')\n",
    "X_train_nn1 = train_dataset.nn1_inputs\n",
    "y_train_nn1 = train_dataset.nn1_outputs\n",
    "X_val_nn1 = val_dataset.nn1_inputs\n",
    "y_val_nn1 = val_dataset.nn1_outputs\n",
    "loss1 = nn1.train_model(\n",
    "    X_train_nn1, \n",
    "    y_train_nn1, \n",
    "    X_val_nn1,\n",
    "    y_val_nn1,\n",
    "    n_epochs = 30, \n",
    "    target_len = 1, \n",
    "    batch_size = 32, \n",
    "    patience = 8,\n",
    "    threshold = 1e-6,\n",
    "    training_prediction = 'recursive', \n",
    "    learning_rate = 1e-6\n",
    ")\n",
    "plt.plot(loss1)"
   ]
  },
  {
   "cell_type": "code",
   "execution_count": 197,
   "id": "b885c2e7-d1c0-4897-aa64-81b03bdc6e87",
   "metadata": {},
   "outputs": [
    {
     "name": "stdout",
     "output_type": "stream",
     "text": [
      "Training on Palo Alto\n",
      "Epoch 0 train loss, validation loss, time: 5.29523, 4.20523, 3.65518\n",
      "Epoch 3 train loss, validation loss, time: 4.47971, 3.65378, 2.82917\n",
      "Epoch 6 train loss, validation loss, time: 3.95822, 3.22200, 2.64543\n",
      "Epoch 9 train loss, validation loss, time: 3.56010, 2.84874, 4.42544\n",
      "Epoch 12 train loss, validation loss, time: 3.21639, 2.54389, 3.01115\n",
      "Epoch 15 train loss, validation loss, time: 2.89869, 2.30817, 2.93870\n",
      "Epoch 18 train loss, validation loss, time: 2.57394, 2.12097, 3.53919\n",
      "Epoch 21 train loss, validation loss, time: 2.25637, 1.96492, 3.37176\n",
      "Epoch 24 train loss, validation loss, time: 2.04087, 1.84369, 5.10487\n",
      "Epoch 27 train loss, validation loss, time: 1.86599, 1.75995, 3.43042\n"
     ]
    },
    {
     "data": {
      "text/plain": [
       "[<matplotlib.lines.Line2D at 0x16ab02550>]"
      ]
     },
     "execution_count": 197,
     "metadata": {},
     "output_type": "execute_result"
    },
    {
     "data": {
      "image/png": "[encoded data removed]",
      "text/plain": [
       "<Figure size 432x288 with 1 Axes>"
      ]
     },
     "metadata": {
      "needs_background": "light"
     },
     "output_type": "display_data"
    }
   ],
   "source": [
    "print('Training on Palo Alto')\n",
    "train_dataset = ArgoverseDataset(city='palo-alto', split='train')\n",
    "val_dataset = ArgoverseDataset(city='palo-alto', split='val')\n",
    "X_train_nn1 = train_dataset.nn1_inputs\n",
    "y_train_nn1 = train_dataset.nn1_outputs\n",
    "X_val_nn1 = val_dataset.nn1_inputs\n",
    "y_val_nn1 = val_dataset.nn1_outputs\n",
    "loss1 = nn1.train_model(\n",
    "    X_train_nn1, \n",
    "    y_train_nn1, \n",
    "    X_val_nn1,\n",
    "    y_val_nn1,\n",
    "    n_epochs = 30, \n",
    "    target_len = 1, \n",
    "    batch_size = 32, \n",
    "    patience = 8,\n",
    "    threshold = 1e-6,\n",
    "    training_prediction = 'recursive', \n",
    "    learning_rate = 1e-6\n",
    ")\n",
    "plt.plot(loss1)"
   ]
  },
  {
   "cell_type": "markdown",
   "id": "45b0fbd3-2120-4e1a-8edd-0a2d9d1a678c",
   "metadata": {},
   "source": [
    "## Train NN2"
   ]
  },
  {
   "cell_type": "code",
   "execution_count": 71,
   "id": "6c7aaeb3-84c9-46da-8f2e-8dff4ba4806b",
   "metadata": {
    "tags": []
   },
   "outputs": [],
   "source": [
    "# 10 epochs over each city instead?\n",
    "nn2 = lstm_encoder_decoder2.lstm_seq2seq(\n",
    "    input_size = 2, \n",
    "    input_len = 49,\n",
    "    hidden_size = 64,\n",
    "    output_size = 2,\n",
    "    num_layers = 1,\n",
    "    dropout = 0.3\n",
    ")"
   ]
  },
  {
   "cell_type": "code",
   "execution_count": 78,
   "id": "b869bab9-65e6-4474-818e-7af228400c68",
   "metadata": {
    "collapsed": true,
    "jupyter": {
     "outputs_hidden": true
    },
    "tags": []
   },
   "outputs": [
    {
     "name": "stdout",
     "output_type": "stream",
     "text": [
      "Training on Austin\n",
      "Epoch 0 train loss, validation loss, time: 0.01866, 0.06793, 99.56687\n",
      "Epoch 2 train loss, validation loss, time: 0.00418, 0.29134, 80.34905\n",
      "Epoch 4 train loss, validation loss, time: 0.00339, 0.07368, 81.37248\n",
      "Epoch 00006: reducing learning rate of group 0 to 1.0000e-05.\n",
      "Epoch 6 train loss, validation loss, time: 0.00275, 0.06412, 82.58676\n",
      "Epoch 8 train loss, validation loss, time: 0.00291, 0.05104, 80.52936\n"
     ]
    },
    {
     "ename": "KeyboardInterrupt",
     "evalue": "",
     "output_type": "error",
     "traceback": [
      "\u001b[0;31m---------------------------------------------------------------------------\u001b[0m",
      "\u001b[0;31mKeyboardInterrupt\u001b[0m                         Traceback (most recent call last)",
      "Input \u001b[0;32mIn [78]\u001b[0m, in \u001b[0;36m<cell line: 9>\u001b[0;34m()\u001b[0m\n\u001b[1;32m      7\u001b[0m X_val_nn2 \u001b[38;5;241m=\u001b[39m val_dataset\u001b[38;5;241m.\u001b[39mnn2_inputs\n\u001b[1;32m      8\u001b[0m y_val_nn2 \u001b[38;5;241m=\u001b[39m val_dataset\u001b[38;5;241m.\u001b[39mnn2_outputs\n\u001b[0;32m----> 9\u001b[0m loss2 \u001b[38;5;241m=\u001b[39m \u001b[43mnn2\u001b[49m\u001b[38;5;241;43m.\u001b[39;49m\u001b[43mtrain_model\u001b[49m\u001b[43m(\u001b[49m\n\u001b[1;32m     10\u001b[0m \u001b[43m    \u001b[49m\u001b[43mX_train_nn2\u001b[49m\u001b[43m,\u001b[49m\u001b[43m \u001b[49m\n\u001b[1;32m     11\u001b[0m \u001b[43m    \u001b[49m\u001b[43my_train_nn2\u001b[49m\u001b[43m,\u001b[49m\u001b[43m \u001b[49m\n\u001b[1;32m     12\u001b[0m \u001b[43m    \u001b[49m\u001b[43mX_val_nn2\u001b[49m\u001b[43m,\u001b[49m\n\u001b[1;32m     13\u001b[0m \u001b[43m    \u001b[49m\u001b[43my_val_nn2\u001b[49m\u001b[43m,\u001b[49m\n\u001b[1;32m     14\u001b[0m \u001b[43m    \u001b[49m\u001b[43mn_epochs\u001b[49m\u001b[43m \u001b[49m\u001b[38;5;241;43m=\u001b[39;49m\u001b[43m \u001b[49m\u001b[38;5;241;43m20\u001b[39;49m\u001b[43m,\u001b[49m\u001b[43m \u001b[49m\n\u001b[1;32m     15\u001b[0m \u001b[43m    \u001b[49m\u001b[43mtarget_len\u001b[49m\u001b[43m \u001b[49m\u001b[38;5;241;43m=\u001b[39;49m\u001b[43m \u001b[49m\u001b[38;5;241;43m59\u001b[39;49m\u001b[43m,\u001b[49m\u001b[43m \u001b[49m\n\u001b[1;32m     16\u001b[0m \u001b[43m    \u001b[49m\u001b[43mbatch_size\u001b[49m\u001b[43m \u001b[49m\u001b[38;5;241;43m=\u001b[39;49m\u001b[43m \u001b[49m\u001b[38;5;241;43m32\u001b[39;49m\u001b[43m,\u001b[49m\u001b[43m \u001b[49m\n\u001b[1;32m     17\u001b[0m \u001b[43m    \u001b[49m\u001b[43mpatience\u001b[49m\u001b[43m \u001b[49m\u001b[38;5;241;43m=\u001b[39;49m\u001b[43m \u001b[49m\u001b[38;5;241;43m3\u001b[39;49m\u001b[43m,\u001b[49m\n\u001b[1;32m     18\u001b[0m \u001b[43m    \u001b[49m\u001b[43mthreshold\u001b[49m\u001b[43m \u001b[49m\u001b[38;5;241;43m=\u001b[39;49m\u001b[43m \u001b[49m\u001b[38;5;241;43m1e-1\u001b[39;49m\u001b[43m,\u001b[49m\n\u001b[1;32m     19\u001b[0m \u001b[43m    \u001b[49m\u001b[43mtraining_prediction\u001b[49m\u001b[43m \u001b[49m\u001b[38;5;241;43m=\u001b[39;49m\u001b[43m \u001b[49m\u001b[38;5;124;43m'\u001b[39;49m\u001b[38;5;124;43mmixed_teacher_forcing\u001b[39;49m\u001b[38;5;124;43m'\u001b[39;49m\u001b[43m,\u001b[49m\u001b[43m \u001b[49m\n\u001b[1;32m     20\u001b[0m \u001b[43m    \u001b[49m\u001b[43mteacher_forcing_ratio\u001b[49m\u001b[43m \u001b[49m\u001b[38;5;241;43m=\u001b[39;49m\u001b[43m \u001b[49m\u001b[38;5;241;43m0.6\u001b[39;49m\u001b[43m,\u001b[49m\u001b[43m \u001b[49m\n\u001b[1;32m     21\u001b[0m \u001b[43m    \u001b[49m\u001b[43mlearning_rate\u001b[49m\u001b[43m \u001b[49m\u001b[38;5;241;43m=\u001b[39;49m\u001b[43m \u001b[49m\u001b[38;5;241;43m0.0001\u001b[39;49m\u001b[43m,\u001b[49m\u001b[43m \u001b[49m\n\u001b[1;32m     22\u001b[0m \u001b[43m    \u001b[49m\u001b[43mdynamic_tf\u001b[49m\u001b[43m \u001b[49m\u001b[38;5;241;43m=\u001b[39;49m\u001b[43m \u001b[49m\u001b[38;5;28;43;01mTrue\u001b[39;49;00m\n\u001b[1;32m     23\u001b[0m \u001b[43m)\u001b[49m\n\u001b[1;32m     24\u001b[0m plt\u001b[38;5;241m.\u001b[39mplot(loss2)\n",
      "File \u001b[0;32m~/Documents/course_materials/current_tasks/cse151b_kaggle/lstm_seq2seq/code/lstm_encoder_decoder2.py:167\u001b[0m, in \u001b[0;36mlstm_seq2seq.train_model\u001b[0;34m(self, input_tensor, target_tensor, val_input_tensor, val_target_tensor, n_epochs, target_len, batch_size, patience, threshold, training_prediction, teacher_forcing_ratio, learning_rate, dynamic_tf)\u001b[0m\n\u001b[1;32m    164\u001b[0m decoder_hidden \u001b[38;5;241m=\u001b[39m (decoder_hidden[\u001b[38;5;241m0\u001b[39m]\u001b[38;5;241m.\u001b[39msqueeze(\u001b[38;5;241m0\u001b[39m), decoder_hidden[\u001b[38;5;241m1\u001b[39m]\u001b[38;5;241m.\u001b[39msqueeze(\u001b[38;5;241m0\u001b[39m))\n\u001b[1;32m    165\u001b[0m \u001b[38;5;66;03m# print(decoder_input.squeeze().shape)\u001b[39;00m\n\u001b[1;32m    166\u001b[0m \u001b[38;5;66;03m# print(decoder_hidden[0].shape)\u001b[39;00m\n\u001b[0;32m--> 167\u001b[0m decoder_output, decoder_hidden \u001b[38;5;241m=\u001b[39m \u001b[38;5;28;43mself\u001b[39;49m\u001b[38;5;241;43m.\u001b[39;49m\u001b[43mattn_decoder\u001b[49m\u001b[43m(\u001b[49m\u001b[43mdecoder_input\u001b[49m\u001b[38;5;241;43m.\u001b[39;49m\u001b[43msqueeze\u001b[49m\u001b[43m(\u001b[49m\u001b[43m)\u001b[49m\u001b[43m,\u001b[49m\u001b[43m \u001b[49m\u001b[43mdecoder_hidden\u001b[49m\u001b[43m,\u001b[49m\u001b[43m \u001b[49m\u001b[43mencoder_output\u001b[49m\u001b[43m)\u001b[49m\n\u001b[1;32m    168\u001b[0m outputs[:, t, :] \u001b[38;5;241m=\u001b[39m decoder_output\n\u001b[1;32m    170\u001b[0m \u001b[38;5;28;01mif\u001b[39;00m random\u001b[38;5;241m.\u001b[39mrandom() \u001b[38;5;241m<\u001b[39m teacher_forcing_ratio: \n",
      "File \u001b[0;32m~/miniforge3/envs/pytorch_m1/lib/python3.8/site-packages/torch/nn/modules/module.py:1110\u001b[0m, in \u001b[0;36mModule._call_impl\u001b[0;34m(self, *input, **kwargs)\u001b[0m\n\u001b[1;32m   1106\u001b[0m \u001b[38;5;66;03m# If we don't have any hooks, we want to skip the rest of the logic in\u001b[39;00m\n\u001b[1;32m   1107\u001b[0m \u001b[38;5;66;03m# this function, and just call forward.\u001b[39;00m\n\u001b[1;32m   1108\u001b[0m \u001b[38;5;28;01mif\u001b[39;00m \u001b[38;5;129;01mnot\u001b[39;00m (\u001b[38;5;28mself\u001b[39m\u001b[38;5;241m.\u001b[39m_backward_hooks \u001b[38;5;129;01mor\u001b[39;00m \u001b[38;5;28mself\u001b[39m\u001b[38;5;241m.\u001b[39m_forward_hooks \u001b[38;5;129;01mor\u001b[39;00m \u001b[38;5;28mself\u001b[39m\u001b[38;5;241m.\u001b[39m_forward_pre_hooks \u001b[38;5;129;01mor\u001b[39;00m _global_backward_hooks\n\u001b[1;32m   1109\u001b[0m         \u001b[38;5;129;01mor\u001b[39;00m _global_forward_hooks \u001b[38;5;129;01mor\u001b[39;00m _global_forward_pre_hooks):\n\u001b[0;32m-> 1110\u001b[0m     \u001b[38;5;28;01mreturn\u001b[39;00m \u001b[43mforward_call\u001b[49m\u001b[43m(\u001b[49m\u001b[38;5;241;43m*\u001b[39;49m\u001b[38;5;28;43minput\u001b[39;49m\u001b[43m,\u001b[49m\u001b[43m \u001b[49m\u001b[38;5;241;43m*\u001b[39;49m\u001b[38;5;241;43m*\u001b[39;49m\u001b[43mkwargs\u001b[49m\u001b[43m)\u001b[49m\n\u001b[1;32m   1111\u001b[0m \u001b[38;5;66;03m# Do not call functions when jit is used\u001b[39;00m\n\u001b[1;32m   1112\u001b[0m full_backward_hooks, non_full_backward_hooks \u001b[38;5;241m=\u001b[39m [], []\n",
      "File \u001b[0;32m~/Documents/course_materials/current_tasks/cse151b_kaggle/lstm_seq2seq/code/lstm_encoder_decoder2.py:55\u001b[0m, in \u001b[0;36mAttentionDecoder.forward\u001b[0;34m(self, x, hidden, encoder_outputs)\u001b[0m\n\u001b[1;32m     52\u001b[0m x \u001b[38;5;241m=\u001b[39m F\u001b[38;5;241m.\u001b[39mrelu(x)\n\u001b[1;32m     54\u001b[0m hidden \u001b[38;5;241m=\u001b[39m (hidden[\u001b[38;5;241m0\u001b[39m]\u001b[38;5;241m.\u001b[39munsqueeze(\u001b[38;5;241m0\u001b[39m), hidden[\u001b[38;5;241m1\u001b[39m]\u001b[38;5;241m.\u001b[39munsqueeze(\u001b[38;5;241m0\u001b[39m))\n\u001b[0;32m---> 55\u001b[0m output, decoder_hidden \u001b[38;5;241m=\u001b[39m \u001b[38;5;28;43mself\u001b[39;49m\u001b[38;5;241;43m.\u001b[39;49m\u001b[43mlstm\u001b[49m\u001b[43m(\u001b[49m\u001b[43mx\u001b[49m\u001b[43m,\u001b[49m\u001b[43m \u001b[49m\u001b[43mhidden\u001b[49m\u001b[43m)\u001b[49m  \n\u001b[1;32m     56\u001b[0m prediction \u001b[38;5;241m=\u001b[39m \u001b[38;5;28mself\u001b[39m\u001b[38;5;241m.\u001b[39moutput_layer(output\u001b[38;5;241m.\u001b[39mfloat())\n\u001b[1;32m     58\u001b[0m \u001b[38;5;28;01mreturn\u001b[39;00m prediction\u001b[38;5;241m.\u001b[39msqueeze(\u001b[38;5;241m1\u001b[39m), decoder_hidden\n",
      "File \u001b[0;32m~/miniforge3/envs/pytorch_m1/lib/python3.8/site-packages/torch/nn/modules/module.py:1110\u001b[0m, in \u001b[0;36mModule._call_impl\u001b[0;34m(self, *input, **kwargs)\u001b[0m\n\u001b[1;32m   1106\u001b[0m \u001b[38;5;66;03m# If we don't have any hooks, we want to skip the rest of the logic in\u001b[39;00m\n\u001b[1;32m   1107\u001b[0m \u001b[38;5;66;03m# this function, and just call forward.\u001b[39;00m\n\u001b[1;32m   1108\u001b[0m \u001b[38;5;28;01mif\u001b[39;00m \u001b[38;5;129;01mnot\u001b[39;00m (\u001b[38;5;28mself\u001b[39m\u001b[38;5;241m.\u001b[39m_backward_hooks \u001b[38;5;129;01mor\u001b[39;00m \u001b[38;5;28mself\u001b[39m\u001b[38;5;241m.\u001b[39m_forward_hooks \u001b[38;5;129;01mor\u001b[39;00m \u001b[38;5;28mself\u001b[39m\u001b[38;5;241m.\u001b[39m_forward_pre_hooks \u001b[38;5;129;01mor\u001b[39;00m _global_backward_hooks\n\u001b[1;32m   1109\u001b[0m         \u001b[38;5;129;01mor\u001b[39;00m _global_forward_hooks \u001b[38;5;129;01mor\u001b[39;00m _global_forward_pre_hooks):\n\u001b[0;32m-> 1110\u001b[0m     \u001b[38;5;28;01mreturn\u001b[39;00m \u001b[43mforward_call\u001b[49m\u001b[43m(\u001b[49m\u001b[38;5;241;43m*\u001b[39;49m\u001b[38;5;28;43minput\u001b[39;49m\u001b[43m,\u001b[49m\u001b[43m \u001b[49m\u001b[38;5;241;43m*\u001b[39;49m\u001b[38;5;241;43m*\u001b[39;49m\u001b[43mkwargs\u001b[49m\u001b[43m)\u001b[49m\n\u001b[1;32m   1111\u001b[0m \u001b[38;5;66;03m# Do not call functions when jit is used\u001b[39;00m\n\u001b[1;32m   1112\u001b[0m full_backward_hooks, non_full_backward_hooks \u001b[38;5;241m=\u001b[39m [], []\n",
      "File \u001b[0;32m~/miniforge3/envs/pytorch_m1/lib/python3.8/site-packages/torch/nn/modules/rnn.py:761\u001b[0m, in \u001b[0;36mLSTM.forward\u001b[0;34m(self, input, hx)\u001b[0m\n\u001b[1;32m    759\u001b[0m \u001b[38;5;28mself\u001b[39m\u001b[38;5;241m.\u001b[39mcheck_forward_args(\u001b[38;5;28minput\u001b[39m, hx, batch_sizes)\n\u001b[1;32m    760\u001b[0m \u001b[38;5;28;01mif\u001b[39;00m batch_sizes \u001b[38;5;129;01mis\u001b[39;00m \u001b[38;5;28;01mNone\u001b[39;00m:\n\u001b[0;32m--> 761\u001b[0m     result \u001b[38;5;241m=\u001b[39m \u001b[43m_VF\u001b[49m\u001b[38;5;241;43m.\u001b[39;49m\u001b[43mlstm\u001b[49m\u001b[43m(\u001b[49m\u001b[38;5;28;43minput\u001b[39;49m\u001b[43m,\u001b[49m\u001b[43m \u001b[49m\u001b[43mhx\u001b[49m\u001b[43m,\u001b[49m\u001b[43m \u001b[49m\u001b[38;5;28;43mself\u001b[39;49m\u001b[38;5;241;43m.\u001b[39;49m\u001b[43m_flat_weights\u001b[49m\u001b[43m,\u001b[49m\u001b[43m \u001b[49m\u001b[38;5;28;43mself\u001b[39;49m\u001b[38;5;241;43m.\u001b[39;49m\u001b[43mbias\u001b[49m\u001b[43m,\u001b[49m\u001b[43m \u001b[49m\u001b[38;5;28;43mself\u001b[39;49m\u001b[38;5;241;43m.\u001b[39;49m\u001b[43mnum_layers\u001b[49m\u001b[43m,\u001b[49m\n\u001b[1;32m    762\u001b[0m \u001b[43m                      \u001b[49m\u001b[38;5;28;43mself\u001b[39;49m\u001b[38;5;241;43m.\u001b[39;49m\u001b[43mdropout\u001b[49m\u001b[43m,\u001b[49m\u001b[43m \u001b[49m\u001b[38;5;28;43mself\u001b[39;49m\u001b[38;5;241;43m.\u001b[39;49m\u001b[43mtraining\u001b[49m\u001b[43m,\u001b[49m\u001b[43m \u001b[49m\u001b[38;5;28;43mself\u001b[39;49m\u001b[38;5;241;43m.\u001b[39;49m\u001b[43mbidirectional\u001b[49m\u001b[43m,\u001b[49m\u001b[43m \u001b[49m\u001b[38;5;28;43mself\u001b[39;49m\u001b[38;5;241;43m.\u001b[39;49m\u001b[43mbatch_first\u001b[49m\u001b[43m)\u001b[49m\n\u001b[1;32m    763\u001b[0m \u001b[38;5;28;01melse\u001b[39;00m:\n\u001b[1;32m    764\u001b[0m     result \u001b[38;5;241m=\u001b[39m _VF\u001b[38;5;241m.\u001b[39mlstm(\u001b[38;5;28minput\u001b[39m, batch_sizes, hx, \u001b[38;5;28mself\u001b[39m\u001b[38;5;241m.\u001b[39m_flat_weights, \u001b[38;5;28mself\u001b[39m\u001b[38;5;241m.\u001b[39mbias,\n\u001b[1;32m    765\u001b[0m                       \u001b[38;5;28mself\u001b[39m\u001b[38;5;241m.\u001b[39mnum_layers, \u001b[38;5;28mself\u001b[39m\u001b[38;5;241m.\u001b[39mdropout, \u001b[38;5;28mself\u001b[39m\u001b[38;5;241m.\u001b[39mtraining, \u001b[38;5;28mself\u001b[39m\u001b[38;5;241m.\u001b[39mbidirectional)\n",
      "\u001b[0;31mKeyboardInterrupt\u001b[0m: "
     ]
    }
   ],
   "source": [
    "nn2.train()\n",
    "print('Training on Austin')\n",
    "train_dataset = ArgoverseDataset(city='austin', split='train')\n",
    "val_dataset = ArgoverseDataset(city='austin', split='val')\n",
    "X_train_nn2 = train_dataset.nn2_inputs\n",
    "y_train_nn2 = train_dataset.nn2_outputs\n",
    "X_val_nn2 = val_dataset.nn2_inputs\n",
    "y_val_nn2 = val_dataset.nn2_outputs\n",
    "loss2 = nn2.train_model(\n",
    "    X_train_nn2, \n",
    "    y_train_nn2, \n",
    "    X_val_nn2,\n",
    "    y_val_nn2,\n",
    "    n_epochs = 20, \n",
    "    target_len = 59, \n",
    "    batch_size = 32, \n",
    "    patience = 3,\n",
    "    threshold = 1e-1,\n",
    "    training_prediction = 'mixed_teacher_forcing', \n",
    "    teacher_forcing_ratio = 0.6, \n",
    "    learning_rate = 0.0001,\n",
    "    dynamic_tf = True\n",
    ")\n",
    "plt.plot(loss2)"
   ]
  },
  {
   "cell_type": "code",
   "execution_count": 164,
   "id": "7240a951-206a-4be5-9b52-c69a2fc33dd1",
   "metadata": {
    "collapsed": true,
    "jupyter": {
     "outputs_hidden": true
    },
    "tags": []
   },
   "outputs": [
    {
     "name": "stdout",
     "output_type": "stream",
     "text": [
      "Epoch 0 loss, time: 0.00716, 57.02797\n",
      "Epoch 2 loss, time: 0.00673, 53.98833\n",
      "Epoch 4 loss, time: 0.00672, 59.37870\n",
      "Epoch 6 loss, time: 0.00671, 47.98922\n",
      "Epoch 8 loss, time: 0.00690, 51.71577\n"
     ]
    },
    {
     "ename": "KeyboardInterrupt",
     "evalue": "",
     "output_type": "error",
     "traceback": [
      "\u001b[0;31m---------------------------------------------------------------------------\u001b[0m",
      "\u001b[0;31mKeyboardInterrupt\u001b[0m                         Traceback (most recent call last)",
      "Input \u001b[0;32mIn [164]\u001b[0m, in \u001b[0;36m<cell line: 5>\u001b[0;34m()\u001b[0m\n\u001b[1;32m      3\u001b[0m X_train_nn2 \u001b[38;5;241m=\u001b[39m train_dataset\u001b[38;5;241m.\u001b[39mnn2_inputs\n\u001b[1;32m      4\u001b[0m y_train_nn2 \u001b[38;5;241m=\u001b[39m train_dataset\u001b[38;5;241m.\u001b[39mnn2_outputs\n\u001b[0;32m----> 5\u001b[0m loss2 \u001b[38;5;241m=\u001b[39m \u001b[43mnn2\u001b[49m\u001b[38;5;241;43m.\u001b[39;49m\u001b[43mtrain_model\u001b[49m\u001b[43m(\u001b[49m\n\u001b[1;32m      6\u001b[0m \u001b[43m    \u001b[49m\u001b[43mX_train_nn2\u001b[49m\u001b[43m,\u001b[49m\u001b[43m \u001b[49m\n\u001b[1;32m      7\u001b[0m \u001b[43m    \u001b[49m\u001b[43my_train_nn2\u001b[49m\u001b[43m,\u001b[49m\u001b[43m \u001b[49m\n\u001b[1;32m      8\u001b[0m \u001b[43m    \u001b[49m\u001b[43mn_epochs\u001b[49m\u001b[43m \u001b[49m\u001b[38;5;241;43m=\u001b[39;49m\u001b[43m \u001b[49m\u001b[38;5;241;43m20\u001b[39;49m\u001b[43m,\u001b[49m\u001b[43m \u001b[49m\n\u001b[1;32m      9\u001b[0m \u001b[43m    \u001b[49m\u001b[43mtarget_len\u001b[49m\u001b[43m \u001b[49m\u001b[38;5;241;43m=\u001b[39;49m\u001b[43m \u001b[49m\u001b[38;5;241;43m59\u001b[39;49m\u001b[43m,\u001b[49m\u001b[43m \u001b[49m\n\u001b[1;32m     10\u001b[0m \u001b[43m    \u001b[49m\u001b[43mbatch_size\u001b[49m\u001b[43m \u001b[49m\u001b[38;5;241;43m=\u001b[39;49m\u001b[43m \u001b[49m\u001b[38;5;241;43m100\u001b[39;49m\u001b[43m,\u001b[49m\u001b[43m \u001b[49m\n\u001b[1;32m     11\u001b[0m \u001b[43m    \u001b[49m\u001b[43mtraining_prediction\u001b[49m\u001b[43m \u001b[49m\u001b[38;5;241;43m=\u001b[39;49m\u001b[43m \u001b[49m\u001b[38;5;124;43m'\u001b[39;49m\u001b[38;5;124;43mmixed_teacher_forcing\u001b[39;49m\u001b[38;5;124;43m'\u001b[39;49m\u001b[43m,\u001b[49m\u001b[43m \u001b[49m\n\u001b[1;32m     12\u001b[0m \u001b[43m    \u001b[49m\u001b[43mteacher_forcing_ratio\u001b[49m\u001b[43m \u001b[49m\u001b[38;5;241;43m=\u001b[39;49m\u001b[43m \u001b[49m\u001b[38;5;241;43m0.6\u001b[39;49m\u001b[43m,\u001b[49m\u001b[43m \u001b[49m\n\u001b[1;32m     13\u001b[0m \u001b[43m    \u001b[49m\u001b[43mlearning_rate\u001b[49m\u001b[43m \u001b[49m\u001b[38;5;241;43m=\u001b[39;49m\u001b[43m \u001b[49m\u001b[38;5;241;43m0.0001\u001b[39;49m\u001b[43m,\u001b[49m\u001b[43m \u001b[49m\n\u001b[1;32m     14\u001b[0m \u001b[43m    \u001b[49m\u001b[43mdynamic_tf\u001b[49m\u001b[43m \u001b[49m\u001b[38;5;241;43m=\u001b[39;49m\u001b[43m \u001b[49m\u001b[38;5;28;43;01mTrue\u001b[39;49;00m\n\u001b[1;32m     15\u001b[0m \u001b[43m)\u001b[49m\n\u001b[1;32m     16\u001b[0m plt\u001b[38;5;241m.\u001b[39mplot(loss2)\n",
      "File \u001b[0;32m~/Documents/course_materials/current_tasks/cse151b_kaggle/lstm_seq2seq/code/lstm_encoder_decoder2.py:111\u001b[0m, in \u001b[0;36mlstm_seq2seq.train_model\u001b[0;34m(self, input_tensor, target_tensor, n_epochs, target_len, batch_size, training_prediction, teacher_forcing_ratio, learning_rate, dynamic_tf)\u001b[0m\n\u001b[1;32m    108\u001b[0m outputs \u001b[38;5;241m=\u001b[39m torch\u001b[38;5;241m.\u001b[39mzeros(batch_size, target_len, input_batch\u001b[38;5;241m.\u001b[39mshape[\u001b[38;5;241m2\u001b[39m])\n\u001b[1;32m    109\u001b[0m optimizer\u001b[38;5;241m.\u001b[39mzero_grad()\n\u001b[0;32m--> 111\u001b[0m _, encoder_hidden \u001b[38;5;241m=\u001b[39m \u001b[38;5;28;43mself\u001b[39;49m\u001b[38;5;241;43m.\u001b[39;49m\u001b[43mencoder\u001b[49m\u001b[43m(\u001b[49m\u001b[43minput_batch\u001b[49m\u001b[43m)\u001b[49m\n\u001b[1;32m    113\u001b[0m decoder_input \u001b[38;5;241m=\u001b[39m input_batch[:, \u001b[38;5;241m-\u001b[39m\u001b[38;5;241m1\u001b[39m, :]   \u001b[38;5;66;03m# shape: (batch_size, input_size)\u001b[39;00m\n\u001b[1;32m    114\u001b[0m decoder_hidden \u001b[38;5;241m=\u001b[39m encoder_hidden\n",
      "File \u001b[0;32m~/miniforge3/envs/pytorch_m1/lib/python3.8/site-packages/torch/nn/modules/module.py:1110\u001b[0m, in \u001b[0;36mModule._call_impl\u001b[0;34m(self, *input, **kwargs)\u001b[0m\n\u001b[1;32m   1106\u001b[0m \u001b[38;5;66;03m# If we don't have any hooks, we want to skip the rest of the logic in\u001b[39;00m\n\u001b[1;32m   1107\u001b[0m \u001b[38;5;66;03m# this function, and just call forward.\u001b[39;00m\n\u001b[1;32m   1108\u001b[0m \u001b[38;5;28;01mif\u001b[39;00m \u001b[38;5;129;01mnot\u001b[39;00m (\u001b[38;5;28mself\u001b[39m\u001b[38;5;241m.\u001b[39m_backward_hooks \u001b[38;5;129;01mor\u001b[39;00m \u001b[38;5;28mself\u001b[39m\u001b[38;5;241m.\u001b[39m_forward_hooks \u001b[38;5;129;01mor\u001b[39;00m \u001b[38;5;28mself\u001b[39m\u001b[38;5;241m.\u001b[39m_forward_pre_hooks \u001b[38;5;129;01mor\u001b[39;00m _global_backward_hooks\n\u001b[1;32m   1109\u001b[0m         \u001b[38;5;129;01mor\u001b[39;00m _global_forward_hooks \u001b[38;5;129;01mor\u001b[39;00m _global_forward_pre_hooks):\n\u001b[0;32m-> 1110\u001b[0m     \u001b[38;5;28;01mreturn\u001b[39;00m \u001b[43mforward_call\u001b[49m\u001b[43m(\u001b[49m\u001b[38;5;241;43m*\u001b[39;49m\u001b[38;5;28;43minput\u001b[39;49m\u001b[43m,\u001b[49m\u001b[43m \u001b[49m\u001b[38;5;241;43m*\u001b[39;49m\u001b[38;5;241;43m*\u001b[39;49m\u001b[43mkwargs\u001b[49m\u001b[43m)\u001b[49m\n\u001b[1;32m   1111\u001b[0m \u001b[38;5;66;03m# Do not call functions when jit is used\u001b[39;00m\n\u001b[1;32m   1112\u001b[0m full_backward_hooks, non_full_backward_hooks \u001b[38;5;241m=\u001b[39m [], []\n",
      "File \u001b[0;32m~/miniforge3/envs/pytorch_m1/lib/python3.8/site-packages/torch/nn/modules/rnn.py:761\u001b[0m, in \u001b[0;36mLSTM.forward\u001b[0;34m(self, input, hx)\u001b[0m\n\u001b[1;32m    759\u001b[0m \u001b[38;5;28mself\u001b[39m\u001b[38;5;241m.\u001b[39mcheck_forward_args(\u001b[38;5;28minput\u001b[39m, hx, batch_sizes)\n\u001b[1;32m    760\u001b[0m \u001b[38;5;28;01mif\u001b[39;00m batch_sizes \u001b[38;5;129;01mis\u001b[39;00m \u001b[38;5;28;01mNone\u001b[39;00m:\n\u001b[0;32m--> 761\u001b[0m     result \u001b[38;5;241m=\u001b[39m \u001b[43m_VF\u001b[49m\u001b[38;5;241;43m.\u001b[39;49m\u001b[43mlstm\u001b[49m\u001b[43m(\u001b[49m\u001b[38;5;28;43minput\u001b[39;49m\u001b[43m,\u001b[49m\u001b[43m \u001b[49m\u001b[43mhx\u001b[49m\u001b[43m,\u001b[49m\u001b[43m \u001b[49m\u001b[38;5;28;43mself\u001b[39;49m\u001b[38;5;241;43m.\u001b[39;49m\u001b[43m_flat_weights\u001b[49m\u001b[43m,\u001b[49m\u001b[43m \u001b[49m\u001b[38;5;28;43mself\u001b[39;49m\u001b[38;5;241;43m.\u001b[39;49m\u001b[43mbias\u001b[49m\u001b[43m,\u001b[49m\u001b[43m \u001b[49m\u001b[38;5;28;43mself\u001b[39;49m\u001b[38;5;241;43m.\u001b[39;49m\u001b[43mnum_layers\u001b[49m\u001b[43m,\u001b[49m\n\u001b[1;32m    762\u001b[0m \u001b[43m                      \u001b[49m\u001b[38;5;28;43mself\u001b[39;49m\u001b[38;5;241;43m.\u001b[39;49m\u001b[43mdropout\u001b[49m\u001b[43m,\u001b[49m\u001b[43m \u001b[49m\u001b[38;5;28;43mself\u001b[39;49m\u001b[38;5;241;43m.\u001b[39;49m\u001b[43mtraining\u001b[49m\u001b[43m,\u001b[49m\u001b[43m \u001b[49m\u001b[38;5;28;43mself\u001b[39;49m\u001b[38;5;241;43m.\u001b[39;49m\u001b[43mbidirectional\u001b[49m\u001b[43m,\u001b[49m\u001b[43m \u001b[49m\u001b[38;5;28;43mself\u001b[39;49m\u001b[38;5;241;43m.\u001b[39;49m\u001b[43mbatch_first\u001b[49m\u001b[43m)\u001b[49m\n\u001b[1;32m    763\u001b[0m \u001b[38;5;28;01melse\u001b[39;00m:\n\u001b[1;32m    764\u001b[0m     result \u001b[38;5;241m=\u001b[39m _VF\u001b[38;5;241m.\u001b[39mlstm(\u001b[38;5;28minput\u001b[39m, batch_sizes, hx, \u001b[38;5;28mself\u001b[39m\u001b[38;5;241m.\u001b[39m_flat_weights, \u001b[38;5;28mself\u001b[39m\u001b[38;5;241m.\u001b[39mbias,\n\u001b[1;32m    765\u001b[0m                       \u001b[38;5;28mself\u001b[39m\u001b[38;5;241m.\u001b[39mnum_layers, \u001b[38;5;28mself\u001b[39m\u001b[38;5;241m.\u001b[39mdropout, \u001b[38;5;28mself\u001b[39m\u001b[38;5;241m.\u001b[39mtraining, \u001b[38;5;28mself\u001b[39m\u001b[38;5;241m.\u001b[39mbidirectional)\n",
      "\u001b[0;31mKeyboardInterrupt\u001b[0m: "
     ]
    }
   ],
   "source": [
    "nn2.train()\n",
    "print('Training on Miami')\n",
    "train_dataset = ArgoverseDataset(city='miami', split='train')\n",
    "X_train_nn2 = train_dataset.nn2_inputs\n",
    "y_train_nn2 = train_dataset.nn2_outputs\n",
    "loss2 = nn2.train_model(\n",
    "    X_train_nn2, \n",
    "    y_train_nn2, \n",
    "    n_epochs = 20, \n",
    "    target_len = 59, \n",
    "    batch_size = 32, \n",
    "    patience = 3,\n",
    "    threshold = 1e-1,\n",
    "    training_prediction = 'mixed_teacher_forcing', \n",
    "    teacher_forcing_ratio = 0.6, \n",
    "    learning_rate = 0.0001, \n",
    "    dynamic_tf = True\n",
    ")\n",
    "plt.plot(loss2)"
   ]
  },
  {
   "cell_type": "code",
   "execution_count": 165,
   "id": "26e1dc54-60ce-472c-aa9b-55f485af6482",
   "metadata": {
    "collapsed": true,
    "jupyter": {
     "outputs_hidden": true
    },
    "tags": []
   },
   "outputs": [
    {
     "name": "stdout",
     "output_type": "stream",
     "text": [
      "Epoch 0 loss, time: 0.00632, 43.25292\n",
      "Epoch 2 loss, time: 0.00585, 47.53550\n",
      "Epoch 4 loss, time: 0.00593, 35.54933\n"
     ]
    },
    {
     "ename": "KeyboardInterrupt",
     "evalue": "",
     "output_type": "error",
     "traceback": [
      "\u001b[0;31m---------------------------------------------------------------------------\u001b[0m",
      "\u001b[0;31mKeyboardInterrupt\u001b[0m                         Traceback (most recent call last)",
      "Input \u001b[0;32mIn [165]\u001b[0m, in \u001b[0;36m<cell line: 5>\u001b[0;34m()\u001b[0m\n\u001b[1;32m      3\u001b[0m X_train_nn2 \u001b[38;5;241m=\u001b[39m train_dataset\u001b[38;5;241m.\u001b[39mnn2_inputs\n\u001b[1;32m      4\u001b[0m y_train_nn2 \u001b[38;5;241m=\u001b[39m train_dataset\u001b[38;5;241m.\u001b[39mnn2_outputs\n\u001b[0;32m----> 5\u001b[0m loss2 \u001b[38;5;241m=\u001b[39m \u001b[43mnn2\u001b[49m\u001b[38;5;241;43m.\u001b[39;49m\u001b[43mtrain_model\u001b[49m\u001b[43m(\u001b[49m\n\u001b[1;32m      6\u001b[0m \u001b[43m    \u001b[49m\u001b[43mX_train_nn2\u001b[49m\u001b[43m,\u001b[49m\u001b[43m \u001b[49m\n\u001b[1;32m      7\u001b[0m \u001b[43m    \u001b[49m\u001b[43my_train_nn2\u001b[49m\u001b[43m,\u001b[49m\u001b[43m \u001b[49m\n\u001b[1;32m      8\u001b[0m \u001b[43m    \u001b[49m\u001b[43mn_epochs\u001b[49m\u001b[43m \u001b[49m\u001b[38;5;241;43m=\u001b[39;49m\u001b[43m \u001b[49m\u001b[38;5;241;43m20\u001b[39;49m\u001b[43m,\u001b[49m\u001b[43m \u001b[49m\n\u001b[1;32m      9\u001b[0m \u001b[43m    \u001b[49m\u001b[43mtarget_len\u001b[49m\u001b[43m \u001b[49m\u001b[38;5;241;43m=\u001b[39;49m\u001b[43m \u001b[49m\u001b[38;5;241;43m59\u001b[39;49m\u001b[43m,\u001b[49m\u001b[43m \u001b[49m\n\u001b[1;32m     10\u001b[0m \u001b[43m    \u001b[49m\u001b[43mbatch_size\u001b[49m\u001b[43m \u001b[49m\u001b[38;5;241;43m=\u001b[39;49m\u001b[43m \u001b[49m\u001b[38;5;241;43m100\u001b[39;49m\u001b[43m,\u001b[49m\u001b[43m \u001b[49m\n\u001b[1;32m     11\u001b[0m \u001b[43m    \u001b[49m\u001b[43mtraining_prediction\u001b[49m\u001b[43m \u001b[49m\u001b[38;5;241;43m=\u001b[39;49m\u001b[43m \u001b[49m\u001b[38;5;124;43m'\u001b[39;49m\u001b[38;5;124;43mmixed_teacher_forcing\u001b[39;49m\u001b[38;5;124;43m'\u001b[39;49m\u001b[43m,\u001b[49m\u001b[43m \u001b[49m\n\u001b[1;32m     12\u001b[0m \u001b[43m    \u001b[49m\u001b[43mteacher_forcing_ratio\u001b[49m\u001b[43m \u001b[49m\u001b[38;5;241;43m=\u001b[39;49m\u001b[43m \u001b[49m\u001b[38;5;241;43m0.6\u001b[39;49m\u001b[43m,\u001b[49m\u001b[43m \u001b[49m\n\u001b[1;32m     13\u001b[0m \u001b[43m    \u001b[49m\u001b[43mlearning_rate\u001b[49m\u001b[43m \u001b[49m\u001b[38;5;241;43m=\u001b[39;49m\u001b[43m \u001b[49m\u001b[38;5;241;43m0.0001\u001b[39;49m\u001b[43m,\u001b[49m\u001b[43m \u001b[49m\n\u001b[1;32m     14\u001b[0m \u001b[43m    \u001b[49m\u001b[43mdynamic_tf\u001b[49m\u001b[43m \u001b[49m\u001b[38;5;241;43m=\u001b[39;49m\u001b[43m \u001b[49m\u001b[38;5;28;43;01mTrue\u001b[39;49;00m\n\u001b[1;32m     15\u001b[0m \u001b[43m)\u001b[49m\n\u001b[1;32m     16\u001b[0m plt\u001b[38;5;241m.\u001b[39mplot(loss2)\n",
      "File \u001b[0;32m~/Documents/course_materials/current_tasks/cse151b_kaggle/lstm_seq2seq/code/lstm_encoder_decoder2.py:162\u001b[0m, in \u001b[0;36mlstm_seq2seq.train_model\u001b[0;34m(self, input_tensor, target_tensor, n_epochs, target_len, batch_size, training_prediction, teacher_forcing_ratio, learning_rate, dynamic_tf)\u001b[0m\n\u001b[1;32m    159\u001b[0m     batch_loss \u001b[38;5;241m+\u001b[39m\u001b[38;5;241m=\u001b[39m loss\u001b[38;5;241m.\u001b[39mitem()\n\u001b[1;32m    161\u001b[0m     \u001b[38;5;66;03m# backpropagation\u001b[39;00m\n\u001b[0;32m--> 162\u001b[0m     \u001b[43mloss\u001b[49m\u001b[38;5;241;43m.\u001b[39;49m\u001b[43mbackward\u001b[49m\u001b[43m(\u001b[49m\u001b[43m)\u001b[49m\n\u001b[1;32m    163\u001b[0m     optimizer\u001b[38;5;241m.\u001b[39mstep()\n\u001b[1;32m    165\u001b[0m \u001b[38;5;66;03m# get validation loss?\u001b[39;00m\n\u001b[1;32m    166\u001b[0m \n\u001b[1;32m    167\u001b[0m \u001b[38;5;66;03m# use scheduler\u001b[39;00m\n",
      "File \u001b[0;32m~/miniforge3/envs/pytorch_m1/lib/python3.8/site-packages/torch/_tensor.py:363\u001b[0m, in \u001b[0;36mTensor.backward\u001b[0;34m(self, gradient, retain_graph, create_graph, inputs)\u001b[0m\n\u001b[1;32m    354\u001b[0m \u001b[38;5;28;01mif\u001b[39;00m has_torch_function_unary(\u001b[38;5;28mself\u001b[39m):\n\u001b[1;32m    355\u001b[0m     \u001b[38;5;28;01mreturn\u001b[39;00m handle_torch_function(\n\u001b[1;32m    356\u001b[0m         Tensor\u001b[38;5;241m.\u001b[39mbackward,\n\u001b[1;32m    357\u001b[0m         (\u001b[38;5;28mself\u001b[39m,),\n\u001b[0;32m   (...)\u001b[0m\n\u001b[1;32m    361\u001b[0m         create_graph\u001b[38;5;241m=\u001b[39mcreate_graph,\n\u001b[1;32m    362\u001b[0m         inputs\u001b[38;5;241m=\u001b[39minputs)\n\u001b[0;32m--> 363\u001b[0m \u001b[43mtorch\u001b[49m\u001b[38;5;241;43m.\u001b[39;49m\u001b[43mautograd\u001b[49m\u001b[38;5;241;43m.\u001b[39;49m\u001b[43mbackward\u001b[49m\u001b[43m(\u001b[49m\u001b[38;5;28;43mself\u001b[39;49m\u001b[43m,\u001b[49m\u001b[43m \u001b[49m\u001b[43mgradient\u001b[49m\u001b[43m,\u001b[49m\u001b[43m \u001b[49m\u001b[43mretain_graph\u001b[49m\u001b[43m,\u001b[49m\u001b[43m \u001b[49m\u001b[43mcreate_graph\u001b[49m\u001b[43m,\u001b[49m\u001b[43m \u001b[49m\u001b[43minputs\u001b[49m\u001b[38;5;241;43m=\u001b[39;49m\u001b[43minputs\u001b[49m\u001b[43m)\u001b[49m\n",
      "File \u001b[0;32m~/miniforge3/envs/pytorch_m1/lib/python3.8/site-packages/torch/autograd/__init__.py:173\u001b[0m, in \u001b[0;36mbackward\u001b[0;34m(tensors, grad_tensors, retain_graph, create_graph, grad_variables, inputs)\u001b[0m\n\u001b[1;32m    168\u001b[0m     retain_graph \u001b[38;5;241m=\u001b[39m create_graph\n\u001b[1;32m    170\u001b[0m \u001b[38;5;66;03m# The reason we repeat same the comment below is that\u001b[39;00m\n\u001b[1;32m    171\u001b[0m \u001b[38;5;66;03m# some Python versions print out the first line of a multi-line function\u001b[39;00m\n\u001b[1;32m    172\u001b[0m \u001b[38;5;66;03m# calls in the traceback and some print out the last line\u001b[39;00m\n\u001b[0;32m--> 173\u001b[0m \u001b[43mVariable\u001b[49m\u001b[38;5;241;43m.\u001b[39;49m\u001b[43m_execution_engine\u001b[49m\u001b[38;5;241;43m.\u001b[39;49m\u001b[43mrun_backward\u001b[49m\u001b[43m(\u001b[49m\u001b[43m  \u001b[49m\u001b[38;5;66;43;03m# Calls into the C++ engine to run the backward pass\u001b[39;49;00m\n\u001b[1;32m    174\u001b[0m \u001b[43m    \u001b[49m\u001b[43mtensors\u001b[49m\u001b[43m,\u001b[49m\u001b[43m \u001b[49m\u001b[43mgrad_tensors_\u001b[49m\u001b[43m,\u001b[49m\u001b[43m \u001b[49m\u001b[43mretain_graph\u001b[49m\u001b[43m,\u001b[49m\u001b[43m \u001b[49m\u001b[43mcreate_graph\u001b[49m\u001b[43m,\u001b[49m\u001b[43m \u001b[49m\u001b[43minputs\u001b[49m\u001b[43m,\u001b[49m\n\u001b[1;32m    175\u001b[0m \u001b[43m    \u001b[49m\u001b[43mallow_unreachable\u001b[49m\u001b[38;5;241;43m=\u001b[39;49m\u001b[38;5;28;43;01mTrue\u001b[39;49;00m\u001b[43m,\u001b[49m\u001b[43m \u001b[49m\u001b[43maccumulate_grad\u001b[49m\u001b[38;5;241;43m=\u001b[39;49m\u001b[38;5;28;43;01mTrue\u001b[39;49;00m\u001b[43m)\u001b[49m\n",
      "\u001b[0;31mKeyboardInterrupt\u001b[0m: "
     ]
    }
   ],
   "source": [
    "nn2.train()\n",
    "print('Training on Pittsburgh')\n",
    "train_dataset = ArgoverseDataset(city='pittsburgh', split='train')\n",
    "X_train_nn2 = train_dataset.nn2_inputs\n",
    "y_train_nn2 = train_dataset.nn2_outputs\n",
    "loss2 = nn2.train_model(\n",
    "    X_train_nn2, \n",
    "    y_train_nn2, \n",
    "    n_epochs = 20, \n",
    "    target_len = 59, \n",
    "    batch_size = 32, \n",
    "    patience = 3,\n",
    "    threshold = 1e-1,\n",
    "    training_prediction = 'mixed_teacher_forcing', \n",
    "    teacher_forcing_ratio = 0.6, \n",
    "    learning_rate = 0.0001, \n",
    "    dynamic_tf = True\n",
    ")\n",
    "plt.plot(loss2)"
   ]
  },
  {
   "cell_type": "code",
   "execution_count": null,
   "id": "f1252cf0-6051-4c34-93ac-8132dd8de797",
   "metadata": {},
   "outputs": [],
   "source": [
    "nn2.train()\n",
    "print('Training on Dearborn')\n",
    "train_dataset = ArgoverseDataset(city='dearborn', split='train')\n",
    "X_train_nn2 = train_dataset.nn2_inputs\n",
    "y_train_nn2 = train_dataset.nn2_outputs\n",
    "loss2 = nn2.train_model(\n",
    "    X_train_nn2, \n",
    "    y_train_nn2, \n",
    "    n_epochs = 20, \n",
    "    target_len = 59, \n",
    "    batch_size = 32, \n",
    "    patience = 3,\n",
    "    threshold = 1e-1,\n",
    "    training_prediction = 'mixed_teacher_forcing', \n",
    "    teacher_forcing_ratio = 0.6, \n",
    "    learning_rate = 0.0001, \n",
    "    dynamic_tf = True\n",
    ")\n",
    "plt.plot(loss2)"
   ]
  },
  {
   "cell_type": "code",
   "execution_count": null,
   "id": "941d5c91-be29-4899-a89e-d5ceed028e92",
   "metadata": {},
   "outputs": [],
   "source": [
    "nn2.train()\n",
    "print('Training on Washington DC')\n",
    "train_dataset = ArgoverseDataset(city='washington-dc', split='train')\n",
    "X_train_nn2 = train_dataset.nn2_inputs\n",
    "y_train_nn2 = train_dataset.nn2_outputs\n",
    "loss2 = nn2.train_model(\n",
    "    X_train_nn2, \n",
    "    y_train_nn2, \n",
    "    n_epochs = 20, \n",
    "    target_len = 59, \n",
    "    batch_size = 32, \n",
    "    patience = 3,\n",
    "    threshold = 1e-1,\n",
    "    training_prediction = 'mixed_teacher_forcing', \n",
    "    teacher_forcing_ratio = 0.6, \n",
    "    learning_rate = 0.0001, \n",
    "    dynamic_tf = True\n",
    ")\n",
    "plt.plot(loss2)"
   ]
  },
  {
   "cell_type": "code",
   "execution_count": null,
   "id": "861ebffa-0fd7-41fb-a73a-041d2360d446",
   "metadata": {},
   "outputs": [],
   "source": [
    "nn2.train()\n",
    "print('Training on Palo Alto')\n",
    "train_dataset = ArgoverseDataset(city='palo-alto', split='train')\n",
    "X_train_nn2 = train_dataset.nn2_inputs\n",
    "y_train_nn2 = train_dataset.nn2_outputs\n",
    "loss2 = nn2.train_model(\n",
    "    X_train_nn2, \n",
    "    y_train_nn2, \n",
    "    n_epochs = 20, \n",
    "    target_len = 59, \n",
    "    batch_size = 32, \n",
    "    patience = 3,\n",
    "    threshold = 1e-1,\n",
    "    training_prediction = 'mixed_teacher_forcing', \n",
    "    teacher_forcing_ratio = 0.6, \n",
    "    learning_rate = 0.0001, \n",
    "    dynamic_tf = True\n",
    ")\n",
    "plt.plot(loss2)"
   ]
  },
  {
   "cell_type": "code",
   "execution_count": null,
   "id": "dcf74a64-a324-493d-87cd-6694f9c6bbf7",
   "metadata": {},
   "outputs": [],
   "source": []
  },
  {
   "cell_type": "code",
   "execution_count": null,
   "id": "0625f36c-40a0-4236-8c6d-30568005f275",
   "metadata": {},
   "outputs": [],
   "source": []
  },
  {
   "cell_type": "code",
   "execution_count": 198,
   "id": "e4801506-77ab-483a-9d12-0568412cfcc6",
   "metadata": {},
   "outputs": [],
   "source": [
    "val_dataset = ArgoverseDataset('austin', 'val')"
   ]
  },
  {
   "cell_type": "code",
   "execution_count": 199,
   "id": "a49b0372-8566-43da-b20e-bd1b3c7a434c",
   "metadata": {},
   "outputs": [
    {
     "name": "stdout",
     "output_type": "stream",
     "text": [
      "0.0% completed: 1.7466447353363037\n",
      "5.0% completed: 105.30644989013672\n",
      "10.0% completed: 40.35795593261719\n",
      "15.0% completed: 76.4268798828125\n",
      "20.0% completed: 270.22198486328125\n",
      "25.0% completed: 116.44819641113281\n",
      "30.0% completed: 3.638361930847168\n",
      "35.0% completed: 33.84343338012695\n",
      "40.0% completed: 56.04792404174805\n",
      "45.0% completed: 62.8679084777832\n",
      "50.0% completed: 37.358421325683594\n",
      "55.0% completed: 84.37673950195312\n",
      "60.0% completed: 14.306848526000977\n",
      "65.0% completed: 12.016301155090332\n",
      "70.0% completed: 237.53466796875\n",
      "75.0% completed: 0.41785576939582825\n",
      "80.0% completed: 150.93820190429688\n",
      "85.0% completed: 3.679729461669922\n",
      "90.0% completed: 40.955623626708984\n",
      "95.0% completed: 69.24708557128906\n",
      "100.0% completed: 2.943922996520996\n"
     ]
    },
    {
     "data": {
      "text/plain": [
       "44.051480861620206"
      ]
     },
     "execution_count": 199,
     "metadata": {},
     "output_type": "execute_result"
    }
   ],
   "source": [
    "%%time\n",
    "nn1.eval()\n",
    "nn2.eval()\n",
    "print_every = 20\n",
    "loss = nn.MSELoss()\n",
    "\n",
    "total_loss = 0\n",
    "c = 0\n",
    "for n in range(val_dataset.__len__()):\n",
    "    nn1_nth_input, _, nn2_nth_input, _, _, _, _, nth_output_centered = val_dataset.__getitem__(n)\n",
    "    init_pos = nn1.predict(nn1_nth_input, 1)\n",
    "    deltas = nn2.predict(nn2_nth_input, 59)\n",
    "    prediction = torch.cumsum(torch.cat((init_pos, deltas)), dim=0)\n",
    "    cur_loss = loss(prediction, nth_output_centered).item()\n",
    "    if n % int(val_dataset.__len__() / print_every) == 0: \n",
    "        print(str(100 * c / print_every) + '% completed: ' + str(cur_loss))\n",
    "        c += 1\n",
    "    total_loss += cur_loss\n",
    "    \n",
    "total_loss / val_dataset.__len__()"
   ]
  },
  {
   "cell_type": "markdown",
   "id": "2f0476b6-555d-4036-ac84-a1909182a1b5",
   "metadata": {},
   "source": [
    "## Train on all cities"
   ]
  },
  {
   "cell_type": "code",
   "execution_count": 13,
   "id": "60883c33-4472-493d-9b43-ea06915e280f",
   "metadata": {
    "collapsed": true,
    "jupyter": {
     "outputs_hidden": true,
     "source_hidden": true
    },
    "tags": []
   },
   "outputs": [
    {
     "name": "stdout",
     "output_type": "stream",
     "text": [
      "Training austin\n",
      "test\n"
     ]
    },
    {
     "name": "stderr",
     "output_type": "stream",
     "text": [
      "  0%|                                                                                                  | 0/200 [00:02<?, ?it/s]\n"
     ]
    },
    {
     "ename": "KeyboardInterrupt",
     "evalue": "",
     "output_type": "error",
     "traceback": [
      "\u001b[0;31m---------------------------------------------------------------------------\u001b[0m",
      "\u001b[0;31mKeyboardInterrupt\u001b[0m                         Traceback (most recent call last)",
      "\u001b[0;32m/var/folders/xr/76k72jyn51q2__qqhbt5361c0000gn/T/ipykernel_33035/379623146.py\u001b[0m in \u001b[0;36m<module>\u001b[0;34m\u001b[0m\n\u001b[1;32m     29\u001b[0m     \u001b[0mX_train\u001b[0m \u001b[0;34m=\u001b[0m \u001b[0mtrain_dataset\u001b[0m\u001b[0;34m.\u001b[0m\u001b[0minput_positions\u001b[0m\u001b[0;34m\u001b[0m\u001b[0;34m\u001b[0m\u001b[0m\n\u001b[1;32m     30\u001b[0m     \u001b[0my_train\u001b[0m \u001b[0;34m=\u001b[0m \u001b[0mtrain_dataset\u001b[0m\u001b[0;34m.\u001b[0m\u001b[0moutput_positions\u001b[0m\u001b[0;34m\u001b[0m\u001b[0;34m\u001b[0m\u001b[0m\n\u001b[0;32m---> 31\u001b[0;31m     loss2 = nn2.train_model(\n\u001b[0m\u001b[1;32m     32\u001b[0m         \u001b[0mX_train_nn2\u001b[0m\u001b[0;34m,\u001b[0m\u001b[0;34m\u001b[0m\u001b[0;34m\u001b[0m\u001b[0m\n\u001b[1;32m     33\u001b[0m         \u001b[0my_train_nn2\u001b[0m\u001b[0;34m,\u001b[0m\u001b[0;34m\u001b[0m\u001b[0;34m\u001b[0m\u001b[0m\n",
      "\u001b[0;32m~/Documents/course_materials/current_tasks/cse151b_kaggle/lstm_seq2seq/code/lstm_encoder_decoder2.py\u001b[0m in \u001b[0;36mtrain_model\u001b[0;34m(self, input_tensor, target_tensor, n_epochs, target_len, batch_size, training_prediction, teacher_forcing_ratio, learning_rate, dynamic_tf)\u001b[0m\n\u001b[1;32m    137\u001b[0m \u001b[0;34m\u001b[0m\u001b[0m\n\u001b[1;32m    138\u001b[0m                     \u001b[0;31m# backpropagation\u001b[0m\u001b[0;34m\u001b[0m\u001b[0;34m\u001b[0m\u001b[0;34m\u001b[0m\u001b[0m\n\u001b[0;32m--> 139\u001b[0;31m                     \u001b[0mloss\u001b[0m\u001b[0;34m.\u001b[0m\u001b[0mbackward\u001b[0m\u001b[0;34m(\u001b[0m\u001b[0;34m)\u001b[0m\u001b[0;34m\u001b[0m\u001b[0;34m\u001b[0m\u001b[0m\n\u001b[0m\u001b[1;32m    140\u001b[0m                     \u001b[0moptimizer\u001b[0m\u001b[0;34m.\u001b[0m\u001b[0mstep\u001b[0m\u001b[0;34m(\u001b[0m\u001b[0;34m)\u001b[0m\u001b[0;34m\u001b[0m\u001b[0;34m\u001b[0m\u001b[0m\n\u001b[1;32m    141\u001b[0m \u001b[0;34m\u001b[0m\u001b[0m\n",
      "\u001b[0;32m~/miniforge3/lib/python3.9/site-packages/torch/tensor.py\u001b[0m in \u001b[0;36mbackward\u001b[0;34m(self, gradient, retain_graph, create_graph, inputs)\u001b[0m\n\u001b[1;32m    243\u001b[0m                 \u001b[0mcreate_graph\u001b[0m\u001b[0;34m=\u001b[0m\u001b[0mcreate_graph\u001b[0m\u001b[0;34m,\u001b[0m\u001b[0;34m\u001b[0m\u001b[0;34m\u001b[0m\u001b[0m\n\u001b[1;32m    244\u001b[0m                 inputs=inputs)\n\u001b[0;32m--> 245\u001b[0;31m         \u001b[0mtorch\u001b[0m\u001b[0;34m.\u001b[0m\u001b[0mautograd\u001b[0m\u001b[0;34m.\u001b[0m\u001b[0mbackward\u001b[0m\u001b[0;34m(\u001b[0m\u001b[0mself\u001b[0m\u001b[0;34m,\u001b[0m \u001b[0mgradient\u001b[0m\u001b[0;34m,\u001b[0m \u001b[0mretain_graph\u001b[0m\u001b[0;34m,\u001b[0m \u001b[0mcreate_graph\u001b[0m\u001b[0;34m,\u001b[0m \u001b[0minputs\u001b[0m\u001b[0;34m=\u001b[0m\u001b[0minputs\u001b[0m\u001b[0;34m)\u001b[0m\u001b[0;34m\u001b[0m\u001b[0;34m\u001b[0m\u001b[0m\n\u001b[0m\u001b[1;32m    246\u001b[0m \u001b[0;34m\u001b[0m\u001b[0m\n\u001b[1;32m    247\u001b[0m     \u001b[0;32mdef\u001b[0m \u001b[0mregister_hook\u001b[0m\u001b[0;34m(\u001b[0m\u001b[0mself\u001b[0m\u001b[0;34m,\u001b[0m \u001b[0mhook\u001b[0m\u001b[0;34m)\u001b[0m\u001b[0;34m:\u001b[0m\u001b[0;34m\u001b[0m\u001b[0;34m\u001b[0m\u001b[0m\n",
      "\u001b[0;32m~/miniforge3/lib/python3.9/site-packages/torch/autograd/__init__.py\u001b[0m in \u001b[0;36mbackward\u001b[0;34m(tensors, grad_tensors, retain_graph, create_graph, grad_variables, inputs)\u001b[0m\n\u001b[1;32m    143\u001b[0m         \u001b[0mretain_graph\u001b[0m \u001b[0;34m=\u001b[0m \u001b[0mcreate_graph\u001b[0m\u001b[0;34m\u001b[0m\u001b[0;34m\u001b[0m\u001b[0m\n\u001b[1;32m    144\u001b[0m \u001b[0;34m\u001b[0m\u001b[0m\n\u001b[0;32m--> 145\u001b[0;31m     Variable._execution_engine.run_backward(\n\u001b[0m\u001b[1;32m    146\u001b[0m         \u001b[0mtensors\u001b[0m\u001b[0;34m,\u001b[0m \u001b[0mgrad_tensors_\u001b[0m\u001b[0;34m,\u001b[0m \u001b[0mretain_graph\u001b[0m\u001b[0;34m,\u001b[0m \u001b[0mcreate_graph\u001b[0m\u001b[0;34m,\u001b[0m \u001b[0minputs\u001b[0m\u001b[0;34m,\u001b[0m\u001b[0;34m\u001b[0m\u001b[0;34m\u001b[0m\u001b[0m\n\u001b[1;32m    147\u001b[0m         allow_unreachable=True, accumulate_grad=True)  # allow_unreachable flag\n",
      "\u001b[0;31mKeyboardInterrupt\u001b[0m: "
     ]
    }
   ],
   "source": [
    "nn1 = lstm_encoder_decoder2.lstm_seq2seq(\n",
    "    input_size = 2, \n",
    "    hidden_size = 15,\n",
    "    num_layers = 2,\n",
    "    dropout = 0.3\n",
    ")\n",
    "\n",
    "nn2 = lstm_encoder_decoder2.lstm_seq2seq(\n",
    "    input_size = 2, \n",
    "    hidden_size = 25,\n",
    "    num_layers = 2,\n",
    "    dropout = 0.3\n",
    ")\n",
    "\n",
    "nn1.train()\n",
    "nn2.train()\n",
    "\n",
    "# device = \"gpu:0\"\n",
    "# input = input.to(device)\n",
    "# model = model.to(device)\n",
    "\n",
    "for city in cities:\n",
    "    print('Training ' + str(city))\n",
    "    train_dataset = ArgoverseDataset(city=city, split='train')\n",
    "    X_train_nn1 = train_dataset.nn1_inputs\n",
    "    y_train_nn1 = train_dataset.nn1_outputs\n",
    "    X_train_nn2 = train_dataset.nn2_inputs\n",
    "    y_train_nn2 = train_dataset.nn2_outputs\n",
    "    X_train = train_dataset.input_positions\n",
    "    y_train = train_dataset.output_positions\n",
    "    loss2 = nn2.train_model(\n",
    "        X_train_nn2, \n",
    "        y_train_nn2, \n",
    "        n_epochs = 200,\n",
    "        target_len = 59,\n",
    "        batch_size = 100, \n",
    "        training_prediction = 'mixed_teacher_forcing', \n",
    "        teacher_forcing_ratio = 0.6, \n",
    "        learning_rate = 0.0001, \n",
    "        dynamic_tf = False\n",
    "    )\n",
    "    loss1 = nn1.train_model(\n",
    "        X_train_nn1, \n",
    "        y_train_nn1, \n",
    "        n_epochs = 200,\n",
    "        target_len = 1, \n",
    "        batch_size = 100, \n",
    "        training_prediction = 'mixed_teacher_forcing', \n",
    "        teacher_forcing_ratio = 0.6, \n",
    "        learning_rate = 0.001, \n",
    "        dynamic_tf = False\n",
    "    )"
   ]
  },
  {
   "cell_type": "code",
   "execution_count": null,
   "id": "8f8f24dd-e651-478d-aa84-a53a7b2e7acf",
   "metadata": {},
   "outputs": [],
   "source": []
  },
  {
   "cell_type": "code",
   "execution_count": 203,
   "id": "9bfa45f5-9995-4767-83a4-41ae9ffa1e04",
   "metadata": {
    "collapsed": true,
    "jupyter": {
     "outputs_hidden": true
    },
    "tags": []
   },
   "outputs": [
    {
     "name": "stdout",
     "output_type": "stream",
     "text": [
      "5.0% completed for austin\n",
      "10.0% completed for austin\n",
      "15.0% completed for austin\n",
      "20.0% completed for austin\n",
      "25.0% completed for austin\n",
      "30.0% completed for austin\n",
      "35.0% completed for austin\n",
      "40.0% completed for austin\n",
      "45.0% completed for austin\n",
      "50.0% completed for austin\n",
      "55.0% completed for austin\n",
      "60.0% completed for austin\n",
      "65.0% completed for austin\n",
      "70.0% completed for austin\n",
      "75.0% completed for austin\n",
      "80.0% completed for austin\n",
      "85.0% completed for austin\n",
      "90.0% completed for austin\n",
      "95.0% completed for austin\n",
      "100.0% completed for austin\n",
      "5.0% completed for miami\n",
      "10.0% completed for miami\n",
      "15.0% completed for miami\n",
      "20.0% completed for miami\n",
      "25.0% completed for miami\n",
      "30.0% completed for miami\n",
      "35.0% completed for miami\n",
      "40.0% completed for miami\n",
      "45.0% completed for miami\n",
      "50.0% completed for miami\n",
      "55.0% completed for miami\n",
      "60.0% completed for miami\n",
      "65.0% completed for miami\n",
      "70.0% completed for miami\n",
      "75.0% completed for miami\n",
      "80.0% completed for miami\n",
      "85.0% completed for miami\n",
      "90.0% completed for miami\n",
      "95.0% completed for miami\n",
      "100.0% completed for miami\n",
      "5.0% completed for pittsburgh\n",
      "10.0% completed for pittsburgh\n",
      "15.0% completed for pittsburgh\n",
      "20.0% completed for pittsburgh\n",
      "25.0% completed for pittsburgh\n",
      "30.0% completed for pittsburgh\n",
      "35.0% completed for pittsburgh\n",
      "40.0% completed for pittsburgh\n",
      "45.0% completed for pittsburgh\n",
      "50.0% completed for pittsburgh\n",
      "55.0% completed for pittsburgh\n",
      "60.0% completed for pittsburgh\n",
      "65.0% completed for pittsburgh\n",
      "70.0% completed for pittsburgh\n",
      "75.0% completed for pittsburgh\n",
      "80.0% completed for pittsburgh\n",
      "85.0% completed for pittsburgh\n",
      "90.0% completed for pittsburgh\n",
      "95.0% completed for pittsburgh\n",
      "100.0% completed for pittsburgh\n",
      "5.0% completed for dearborn\n",
      "10.0% completed for dearborn\n",
      "15.0% completed for dearborn\n",
      "20.0% completed for dearborn\n",
      "25.0% completed for dearborn\n",
      "30.0% completed for dearborn\n",
      "35.0% completed for dearborn\n",
      "40.0% completed for dearborn\n",
      "45.0% completed for dearborn\n",
      "50.0% completed for dearborn\n",
      "55.0% completed for dearborn\n",
      "60.0% completed for dearborn\n",
      "65.0% completed for dearborn\n",
      "70.0% completed for dearborn\n",
      "75.0% completed for dearborn\n",
      "80.0% completed for dearborn\n",
      "85.0% completed for dearborn\n",
      "90.0% completed for dearborn\n",
      "95.0% completed for dearborn\n",
      "100.0% completed for dearborn\n",
      "5.0% completed for washington-dc\n",
      "10.0% completed for washington-dc\n",
      "15.0% completed for washington-dc\n",
      "20.0% completed for washington-dc\n",
      "25.0% completed for washington-dc\n",
      "30.0% completed for washington-dc\n",
      "35.0% completed for washington-dc\n",
      "40.0% completed for washington-dc\n",
      "45.0% completed for washington-dc\n",
      "50.0% completed for washington-dc\n",
      "55.0% completed for washington-dc\n",
      "60.0% completed for washington-dc\n",
      "65.0% completed for washington-dc\n",
      "70.0% completed for washington-dc\n",
      "75.0% completed for washington-dc\n",
      "80.0% completed for washington-dc\n",
      "85.0% completed for washington-dc\n",
      "90.0% completed for washington-dc\n",
      "95.0% completed for washington-dc\n",
      "100.0% completed for washington-dc\n",
      "5.0% completed for palo-alto\n",
      "10.0% completed for palo-alto\n",
      "15.0% completed for palo-alto\n",
      "20.0% completed for palo-alto\n",
      "25.0% completed for palo-alto\n",
      "30.0% completed for palo-alto\n",
      "35.0% completed for palo-alto\n",
      "40.0% completed for palo-alto\n",
      "45.0% completed for palo-alto\n",
      "50.0% completed for palo-alto\n",
      "55.0% completed for palo-alto\n",
      "60.0% completed for palo-alto\n",
      "65.0% completed for palo-alto\n",
      "70.0% completed for palo-alto\n",
      "75.0% completed for palo-alto\n",
      "80.0% completed for palo-alto\n",
      "85.0% completed for palo-alto\n",
      "90.0% completed for palo-alto\n",
      "95.0% completed for palo-alto\n",
      "100.0% completed for palo-alto\n",
      "CPU times: user 4min 33s, sys: 9 s, total: 4min 42s\n",
      "Wall time: 4min 37s\n"
     ]
    }
   ],
   "source": [
    "%%time\n",
    "nn1.eval()\n",
    "nn2.eval()\n",
    "\n",
    "all_preds = []\n",
    "for city in cities:\n",
    "    test_dataset = ArgoverseDataset(city=city, split='test')\n",
    "    rows = []\n",
    "    c = 0\n",
    "    for n in range(test_dataset.__len__()):\n",
    "        if n % int(test_dataset.__len__() / print_every) == 0 and n > 0: \n",
    "            c += 1\n",
    "            print(str(100 * c / print_every) + '% completed for ' + str(city))\n",
    "        nn1_nth_input, nn2_nth_input, center_input = test_dataset.__getitem__(n)\n",
    "        init_pos = torch.Tensor(nn1.predict(nn1_nth_input, 1))\n",
    "        deltas = torch.Tensor(nn2.predict(nn2_nth_input, 59))\n",
    "        pred = (torch.cumsum(torch.cat((init_pos, deltas)), dim=0).flatten() + center_input).numpy()\n",
    "        rows.append(pred)\n",
    "    ids = np.array([str(i) + '_' + city for i in range(len(rows))])\n",
    "    cols = np.array(['v' + str(i) for i in range(120)])\n",
    "    predictions = pd.DataFrame(rows, columns=cols)\n",
    "    predictions.insert(0, 'ID', ids)\n",
    "    all_preds.append(predictions)\n",
    "all_predictions = pd.concat(all_preds, ignore_index=True)"
   ]
  },
  {
   "cell_type": "markdown",
   "id": "8c9a1ae0-dc58-4418-98d3-7f7b8ab56e7f",
   "metadata": {},
   "source": [
    "Save and load model weights: https://pytorch.org/tutorials/beginner/basics/saveloadrun_tutorial.html"
   ]
  },
  {
   "cell_type": "code",
   "execution_count": 205,
   "id": "89e2b97b-a284-4eb3-83d0-c9acea6e8f41",
   "metadata": {},
   "outputs": [],
   "source": [
    "torch.save(nn1, 'nn1_weights.pth')\n",
    "torch.save(nn2, 'nn2_weights.pth')"
   ]
  },
  {
   "cell_type": "code",
   "execution_count": 204,
   "id": "2c7cb88e-5a41-46ee-81fb-d5ed7b79c2c1",
   "metadata": {},
   "outputs": [],
   "source": [
    "all_predictions.to_csv('two_lstm_enc_dec_out.csv', index=False)"
   ]
  },
  {
   "cell_type": "code",
   "execution_count": null,
   "id": "f06e0ca7-6c3f-4163-be3d-19f7f025bcf3",
   "metadata": {},
   "outputs": [],
   "source": []
  },
  {
   "cell_type": "code",
   "execution_count": null,
   "id": "f59cab5f-319c-4e03-8c77-c17d521e414c",
   "metadata": {},
   "outputs": [],
   "source": []
  }
 ],
 "metadata": {
  "kernelspec": {
   "display_name": "Python 3 (ipykernel)",
   "language": "python",
   "name": "python3"
  },
  "language_info": {
   "codemirror_mode": {
    "name": "ipython",
    "version": 3
   },
   "file_extension": ".py",
   "mimetype": "text/x-python",
   "name": "python",
   "nbconvert_exporter": "python",
   "pygments_lexer": "ipython3",
   "version": "3.8.13"
  }
 },
 "nbformat": 4,
 "nbformat_minor": 5
}
