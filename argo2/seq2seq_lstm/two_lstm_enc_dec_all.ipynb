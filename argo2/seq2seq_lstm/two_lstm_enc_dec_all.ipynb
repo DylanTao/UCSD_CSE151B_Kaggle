{
 "cells": [
  {
   "cell_type": "markdown",
   "id": "498e98a2-a15a-4be3-842c-25ed40af9e65",
   "metadata": {},
   "source": [
    "## Install the package dependencies before running this notebook"
   ]
  },
  {
   "cell_type": "code",
   "execution_count": 1,
   "id": "2f010662-209a-42ad-aa09-91a6c45e332c",
   "metadata": {},
   "outputs": [],
   "source": [
    "%load_ext autoreload\n",
    "%autoreload 2"
   ]
  },
  {
   "cell_type": "code",
   "execution_count": 2,
   "id": "2b6af88b-26f7-4373-9bb8-cd0990d9d091",
   "metadata": {},
   "outputs": [],
   "source": [
    "import lstm_encoder_decoder_no_early"
   ]
  },
  {
   "cell_type": "code",
   "execution_count": 3,
   "id": "a277321d-a237-4ee9-a1fe-38364e46038d",
   "metadata": {},
   "outputs": [
    {
     "data": {
      "text/plain": [
       "'\\n    number of trajectories in each city\\n    # austin --  train: 43041 test: 6325 \\n    # miami -- train: 55029 test:7971\\n    # pittsburgh -- train: 43544 test: 6361\\n    # dearborn -- train: 24465 test: 3671\\n    # washington-dc -- train: 25744 test: 3829\\n    # palo-alto -- train:  11993 test:1686\\n\\n    trajectories sampled at 10HZ rate, input 5 seconds, output 6 seconds\\n    \\n'"
      ]
     },
     "execution_count": 3,
     "metadata": {},
     "output_type": "execute_result"
    }
   ],
   "source": [
    "import time\n",
    "import torch\n",
    "from torch.utils.data import Dataset, DataLoader\n",
    "import os, os.path \n",
    "import numpy \n",
    "import pickle\n",
    "from glob import glob\n",
    "import matplotlib.pyplot as plt\n",
    "import pandas as pd\n",
    "\n",
    "\"\"\"\n",
    "    number of trajectories in each city\n",
    "    # austin --  train: 43041 test: 6325 \n",
    "    # miami -- train: 55029 test:7971\n",
    "    # pittsburgh -- train: 43544 test: 6361\n",
    "    # dearborn -- train: 24465 test: 3671\n",
    "    # washington-dc -- train: 25744 test: 3829\n",
    "    # palo-alto -- train:  11993 test:1686\n",
    "\n",
    "    trajectories sampled at 10HZ rate, input 5 seconds, output 6 seconds\n",
    "    \n",
    "\"\"\""
   ]
  },
  {
   "cell_type": "markdown",
   "id": "e0dc7736-a560-49c2-bb67-ca94d797d47f",
   "metadata": {},
   "source": [
    "## Create a Torch.Dataset class for the training dataset"
   ]
  },
  {
   "cell_type": "code",
   "execution_count": 4,
   "id": "59577b66-7d8c-4033-a47a-4a43a4fa4a87",
   "metadata": {},
   "outputs": [],
   "source": [
    "from glob import glob\n",
    "import pickle\n",
    "import numpy as np\n",
    "\n",
    "ROOT_PATH = \"../../argo2/\"\n",
    "\n",
    "cities = [\"austin\", \"miami\", \"pittsburgh\", \"dearborn\", \"washington-dc\", \"palo-alto\"]\n",
    "splits = [\"train\", \"val\", \"test\"]\n",
    "\n",
    "def get_city_trajectories(city=\"palo-alto\", split=\"train\", normalized=False):\n",
    "    outputs = None\n",
    "    \n",
    "    if split == \"train\":\n",
    "        f_in = ROOT_PATH + split + \"/\" + city + \"_inputs\"\n",
    "        inputs = pickle.load(open(f_in, \"rb\"))\n",
    "        n = len(inputs)\n",
    "        inputs = np.asarray(inputs)\n",
    "        \n",
    "        f_out = ROOT_PATH + split + \"/\" + city + \"_outputs\"\n",
    "        outputs = pickle.load(open(f_out, \"rb\"))\n",
    "        outputs = np.asarray(outputs)\n",
    "        \n",
    "    \n",
    "    elif split == 'test':\n",
    "        f_in = ROOT_PATH + split + \"/\" + city + \"_inputs\"\n",
    "        inputs = pickle.load(open(f_in, \"rb\"))\n",
    "        n = len(inputs)\n",
    "        inputs = np.asarray(inputs)\n",
    "        \n",
    "    else:\n",
    "        print('\\\"split\\\" should be train, val, or test.')\n",
    "        inputs = None\n",
    "\n",
    "    return inputs, outputs\n",
    "\n",
    "class ArgoverseDataset(Dataset):\n",
    "    def __init__(self, city: str, split:str, transform=None):\n",
    "        super(ArgoverseDataset, self).__init__()\n",
    "        self.split = split\n",
    "        self.input_positions, self.output_positions = get_city_trajectories(city=city, split=split, normalized=False)\n",
    "        \n",
    "        self.input_positions = torch.Tensor(self.input_positions)\n",
    "        num_inputs, input_seq_len = self.input_positions.shape[:2]\n",
    "        self.center_input = (\n",
    "            np.repeat(self.input_positions[:, 0, :], input_seq_len, axis=0)\n",
    "            .reshape(num_inputs, input_seq_len, 2)\n",
    "        )\n",
    "        self.center = (\n",
    "            np.repeat(self.input_positions[:, 0, :], 60, axis=0)\n",
    "            .reshape(num_inputs, 120)\n",
    "        )\n",
    "        \n",
    "        self.input_positions_centered = torch.Tensor(self.input_positions - self.center_input)\n",
    "        self.input_velocities = torch.Tensor(np.diff(self.input_positions, axis=1))\n",
    "        \n",
    "        self.nn_pos_inputs = self.input_positions_centered\n",
    "        self.nn_velo_inputs = self.input_velocities\n",
    "        \n",
    "        if split != 'test': \n",
    "            self.output_positions = torch.Tensor(self.output_positions)\n",
    "            num_outputs, output_seq_len = self.output_positions.shape[:2]\n",
    "            center_output = (\n",
    "                np.repeat(self.input_positions[:, 0, :], output_seq_len, axis=0)\n",
    "                .reshape(num_outputs, output_seq_len, 2)\n",
    "            )\n",
    "            self.output_positions_centered = torch.Tensor(self.output_positions - center_output)\n",
    "            self.output_velocities = torch.Tensor(np.diff(self.output_positions, axis=1))\n",
    "                    \n",
    "            self.nn_pos_outputs = self.output_positions_centered[:, 0, :].unsqueeze(1)\n",
    "            self.nn_velo_outputs = self.output_velocities\n",
    "\n",
    "    def __len__(self):\n",
    "        return len(self.nn_pos_inputs)\n",
    "\n",
    "    def __getitem__(self, idx):\n",
    "        if self.split != 'test':\n",
    "            data = (\n",
    "                self.nn_pos_inputs[idx], \n",
    "                self.nn_pos_outputs[idx], \n",
    "                self.nn_velo_inputs[idx], \n",
    "                self.nn_velo_outputs[idx],\n",
    "                self.input_positions[idx],\n",
    "                self.output_positions[idx],\n",
    "                self.input_positions_centered[idx],\n",
    "                self.output_positions_centered[idx]\n",
    "            )\n",
    "        else:\n",
    "            data = data = (\n",
    "                self.nn_pos_inputs[idx], \n",
    "                self.nn_velo_inputs[idx], \n",
    "                self.center[idx]\n",
    "            )\n",
    "        return data"
   ]
  },
  {
   "cell_type": "code",
   "execution_count": 5,
   "id": "3b93b7da-fb63-42c8-87bf-016a3bcc07c2",
   "metadata": {},
   "outputs": [
    {
     "name": "stdout",
     "output_type": "stream",
     "text": [
      "Sat May 28 01:30:12 2022       \n",
      "+-----------------------------------------------------------------------------+\n",
      "| NVIDIA-SMI 512.77       Driver Version: 512.77       CUDA Version: 11.6     |\n",
      "|-------------------------------+----------------------+----------------------+\n",
      "| GPU  Name            TCC/WDDM | Bus-Id        Disp.A | Volatile Uncorr. ECC |\n",
      "| Fan  Temp  Perf  Pwr:Usage/Cap|         Memory-Usage | GPU-Util  Compute M. |\n",
      "|                               |                      |               MIG M. |\n",
      "|===============================+======================+======================|\n",
      "|   0  NVIDIA GeForce ... WDDM  | 00000000:01:00.0  On |                  N/A |\n",
      "| 58%   47C    P8    34W / 370W |   6921MiB / 12288MiB |      6%      Default |\n",
      "|                               |                      |                  N/A |\n",
      "+-------------------------------+----------------------+----------------------+\n",
      "                                                                               \n",
      "+-----------------------------------------------------------------------------+\n",
      "| Processes:                                                                  |\n",
      "|  GPU   GI   CI        PID   Type   Process name                  GPU Memory |\n",
      "|        ID   ID                                                   Usage      |\n",
      "|=============================================================================|\n",
      "|    0   N/A  N/A      4200    C+G   ...Roaming\\Zoom\\bin\\Zoom.exe    N/A      |\n",
      "|    0   N/A  N/A      4392    C+G   ...ser\\Application\\brave.exe    N/A      |\n",
      "|    0   N/A  N/A      5660    C+G   ...lPanel\\SystemSettings.exe    N/A      |\n",
      "|    0   N/A  N/A      7252    C+G   ...h8wxbdkxb8p\\DCv2\\DCv2.exe    N/A      |\n",
      "|    0   N/A  N/A      9124    C+G   ...ekyb3d8bbwe\\HxOutlook.exe    N/A      |\n",
      "|    0   N/A  N/A      9588    C+G   C:\\Windows\\explorer.exe         N/A      |\n",
      "|    0   N/A  N/A      9928    C+G   ...bbwe\\Microsoft.Photos.exe    N/A      |\n",
      "|    0   N/A  N/A     10048    C+G   ...\\app-1.0.9004\\Discord.exe    N/A      |\n",
      "|    0   N/A  N/A     10072    C+G   ...ekyb3d8bbwe\\YourPhone.exe    N/A      |\n",
      "|    0   N/A  N/A     12384    C+G   ...210.53\\msedgewebview2.exe    N/A      |\n",
      "|    0   N/A  N/A     13132    C+G   ...perience\\NVIDIA Share.exe    N/A      |\n",
      "|    0   N/A  N/A     14656    C+G   ...artMenuExperienceHost.exe    N/A      |\n",
      "|    0   N/A  N/A     15188    C+G   ...2txyewy\\TextInputHost.exe    N/A      |\n",
      "|    0   N/A  N/A     16168    C+G   ...lack\\app-4.26.2\\slack.exe    N/A      |\n",
      "|    0   N/A  N/A     20328    C+G   ...n1h2txyewy\\SearchHost.exe    N/A      |\n",
      "|    0   N/A  N/A     20976    C+G   ...icrosoft VS Code\\Code.exe    N/A      |\n",
      "|    0   N/A  N/A     24572    C+G   ...210.53\\msedgewebview2.exe    N/A      |\n",
      "|    0   N/A  N/A     24776      C   ...thon\\Python310\\python.exe    N/A      |\n",
      "|    0   N/A  N/A     28456    C+G   ...cw5n1h2txyewy\\LockApp.exe    N/A      |\n",
      "|    0   N/A  N/A     28968    C+G   ...y\\ShellExperienceHost.exe    N/A      |\n",
      "+-----------------------------------------------------------------------------+\n"
     ]
    }
   ],
   "source": [
    "!nvidia-smi"
   ]
  },
  {
   "cell_type": "code",
   "execution_count": 6,
   "id": "cb4e942a-7c3d-4ebe-9766-ab5b44f1987a",
   "metadata": {},
   "outputs": [],
   "source": [
    "# train_dataset = ArgoverseDataset('austin', 'train')\n",
    "# val_dataset = ArgoverseDataset('austin', 'train')\n",
    "# test_dataset = ArgoverseDataset('austin', 'test')"
   ]
  },
  {
   "cell_type": "code",
   "execution_count": 7,
   "id": "67a9c0d9-c5d0-49bd-b4f6-e527a2f42a0e",
   "metadata": {},
   "outputs": [],
   "source": [
    "# for t in train_dataset.__getitem__(0):\n",
    "#     print(t.shape)"
   ]
  },
  {
   "cell_type": "code",
   "execution_count": 8,
   "id": "aebe6736-a9f8-424e-a7b0-c059f8cfe1b9",
   "metadata": {},
   "outputs": [],
   "source": [
    "# function that tells how long training takes\n",
    "def train_time(start_time, end_time):\n",
    "    elapsed_time = end_time - start_time\n",
    "    elapsed_mins = int(elapsed_time / 60)\n",
    "    elapsed_secs = int(elapsed_time - (elapsed_mins * 60))\n",
    "    return elapsed_mins, elapsed_secs"
   ]
  },
  {
   "cell_type": "code",
   "execution_count": 9,
   "id": "40b1bd79-d89b-4c18-8c6b-d4c797a8d04d",
   "metadata": {},
   "outputs": [
    {
     "name": "stdout",
     "output_type": "stream",
     "text": [
      "Training austin\n"
     ]
    },
    {
     "name": "stderr",
     "output_type": "stream",
     "text": [
      "100%|██████████| 30/30 [00:36<00:00,  1.23s/it, loss=0.32627] \n"
     ]
    },
    {
     "data": {
      "image/png": "[encoded data removed]",
      "text/plain": [
       "<Figure size 432x288 with 1 Axes>"
      ]
     },
     "metadata": {
      "needs_background": "light"
     },
     "output_type": "display_data"
    },
    {
     "name": "stderr",
     "output_type": "stream",
     "text": [
      "100%|██████████| 80/80 [21:50<00:00, 16.38s/it, loss=0.00193]\n"
     ]
    },
    {
     "data": {
      "image/png": "[encoded data removed]",
      "text/plain": [
       "<Figure size 432x288 with 1 Axes>"
      ]
     },
     "metadata": {
      "needs_background": "light"
     },
     "output_type": "display_data"
    },
    {
     "name": "stdout",
     "output_type": "stream",
     "text": [
      "Total training time is: 22m 29s for austin\n",
      "Training miami\n"
     ]
    },
    {
     "name": "stderr",
     "output_type": "stream",
     "text": [
      "100%|██████████| 30/30 [01:17<00:00,  2.59s/it, loss=0.19150] \n"
     ]
    },
    {
     "data": {
      "image/png": "[encoded data removed]",
      "text/plain": [
       "<Figure size 432x288 with 1 Axes>"
      ]
     },
     "metadata": {
      "needs_background": "light"
     },
     "output_type": "display_data"
    },
    {
     "name": "stderr",
     "output_type": "stream",
     "text": [
      " 57%|█████▊    | 46/80 [17:06<12:21, 21.80s/it, loss=0.00221]"
     ]
    }
   ],
   "source": [
    "%%time\n",
    "\n",
    "# train one model for each city\n",
    "device = torch.device('cuda' if torch.cuda.is_available() else 'cpu')\n",
    "\n",
    "for city in cities:\n",
    "    print('Training ' + str(city))\n",
    "    train_dataset = ArgoverseDataset(city, 'train')\n",
    "\n",
    "    X_train_nn_pos = train_dataset.nn_pos_inputs.to(device)\n",
    "    y_train_nn_pos = train_dataset.nn_pos_outputs.to(device)\n",
    "    X_train_nn_velo = train_dataset.nn_velo_inputs.to(device)\n",
    "    y_train_nn_velo = train_dataset.nn_velo_outputs.to(device)\n",
    "    X_train = train_dataset.input_positions.to(device)\n",
    "    y_train = train_dataset.output_positions.to(device)\n",
    "\n",
    "    start_time = time.time()\n",
    "    nn_pos = lstm_encoder_decoder_no_early.lstm_seq2seq(\n",
    "        input_size=2,\n",
    "        hidden_size=64,\n",
    "        num_layers=2,\n",
    "        dropout=0.3\n",
    "    )\n",
    "\n",
    "    nn_pos.to(device)\n",
    "\n",
    "    train_losses_pos = lstm_encoder_decoder_no_early.train_model(\n",
    "        nn_pos,\n",
    "        city,\n",
    "        X_train_nn_pos,\n",
    "        y_train_nn_pos,\n",
    "        n_epochs=30,\n",
    "        target_len=1,\n",
    "        batch_size=256,\n",
    "        training_prediction='mixed_teacher_forcing',\n",
    "        teacher_forcing_ratio=0.6,\n",
    "        learning_rate=0.001,\n",
    "        dynamic_tf=False,\n",
    "        device=device\n",
    "    )\n",
    "\n",
    "    pickle.dump(nn_pos, open('../models/seq2seq_lstm_pos_' + str(nn_pos.num_layers) + '_' + city, 'wb'))\n",
    "    plt.title(\"Loss for \" + city + \" on initial position\")\n",
    "    plt.xlabel(\"epoch\")\n",
    "    plt.ylabel(\"loss\")\n",
    "    plt.plot(train_losses_pos, color=\"red\", label=\"train_loss\")\n",
    "    plt.legend()\n",
    "    plt.show()\n",
    "\n",
    "\n",
    "    nn_velo = lstm_encoder_decoder_no_early.lstm_seq2seq(\n",
    "        input_size=2,\n",
    "        hidden_size=256,\n",
    "        num_layers=3,\n",
    "        dropout=0.3\n",
    "    )\n",
    "\n",
    "    nn_velo.to(device)\n",
    "\n",
    "    train_losses_velo = lstm_encoder_decoder_no_early.train_model(\n",
    "        nn_velo,\n",
    "        city,\n",
    "        X_train_nn_velo,\n",
    "        y_train_nn_velo,\n",
    "        n_epochs=80,\n",
    "        target_len=59,\n",
    "        batch_size=256,\n",
    "        training_prediction='mixed_teacher_forcing',\n",
    "        teacher_forcing_ratio=0.6,\n",
    "        learning_rate=0.0001,\n",
    "        dynamic_tf=False,\n",
    "        device=device\n",
    "    )\n",
    "\n",
    "    pickle.dump(nn_velo, open('../models/seq2seq_lstm_velo_' + str(nn_velo.num_layers) + '_' + city, 'wb'))\n",
    "    plt.title(\"Loss for \" + city + \" on velocity\")\n",
    "    plt.xlabel(\"epoch\")\n",
    "    plt.ylabel(\"loss\")\n",
    "    plt.plot(train_losses_velo, color=\"red\", label=\"train_loss\")\n",
    "    plt.legend()\n",
    "    plt.show()\n",
    "\n",
    "    end_time = time.time()\n",
    "    train_mins, train_secs = train_time(start_time, end_time)\n",
    "    print(\n",
    "        f'Total training time is: {train_mins}m {train_secs}s' + ' for ' + city)\n",
    "\n",
    "\n"
   ]
  },
  {
   "cell_type": "markdown",
   "id": "74e20ed4",
   "metadata": {},
   "source": [
    "### Check final validation loss (bad runtime now for sequential ingestion of data)"
   ]
  },
  {
   "cell_type": "code",
   "execution_count": null,
   "id": "1ecd9fd7-c519-4158-b22e-c6caa84b31c5",
   "metadata": {},
   "outputs": [],
   "source": [
    "# nn_pos.eval()\n",
    "# nn_velo.eval()\n",
    "\n",
    "# total_loss = 0\n",
    "# for n in range(val_dataset.__len__()):\n",
    "#     nn_pos_nth_input, nn_pos_nth_output, nn_velo_nth_input, nn_velo_nth_output, _, _, _, nth_output_centered = val_dataset.__getitem__(\n",
    "#         n)\n",
    "\n",
    "#     nn_pos_nth_input = nn_pos_nth_input.to(device)\n",
    "#     nn_pos_nth_output = nn_pos_nth_output.to(device)\n",
    "#     nn_velo_nth_input = nn_velo_nth_input.to(device)\n",
    "#     nn_velo_nth_output = nn_velo_nth_output.to(device)\n",
    "#     nth_output_centered = nth_output_centered.to(device)\n",
    "\n",
    "#     init_pos = lstm_encoder_decoder_no_early.predict(nn_pos, nn_pos_nth_input, 1, device=device)\n",
    "#     deltas = lstm_encoder_decoder_no_early.predict(nn_velo, nn_velo_nth_input, 59, device=device)\n",
    "#     total_loss += ((torch.cumsum(torch.cat((init_pos, deltas)),\n",
    "#                     dim=0) - nth_output_centered) ** 2).mean()\n",
    "\n",
    "# valid_loss = total_loss / val_dataset.__len__()\n",
    "\n",
    "# print(\"Final validation loss is: \" + str(valid_loss) + \" for \" + city)\n"
   ]
  },
  {
   "cell_type": "markdown",
   "id": "ca425d32-1829-4bc3-b906-e167fc495c32",
   "metadata": {},
   "source": [
    "### Generate CSV"
   ]
  },
  {
   "cell_type": "code",
   "execution_count": null,
   "id": "9bfa45f5-9995-4767-83a4-41ae9ffa1e04",
   "metadata": {},
   "outputs": [],
   "source": [
    "nn_pos.eval()\n",
    "nn_velo.eval()\n",
    "num_layers_pos = 2\n",
    "num_layers_velo = 3\n",
    "\n",
    "all_preds = []\n",
    "for city in cities:\n",
    "    test_dataset = ArgoverseDataset(city=city, split='test')\n",
    "    rows = []\n",
    "    model_pos = pickle.load(open('../models/seq2seq_lstm_pos_' + str(num_layers_pos) + '_' + city, 'rb'))\n",
    "    model_velo = pickle.load(open('../models/seq2seq_lstm_velo_' + str(num_layers_velo) + '_' + city, 'rb'))\n",
    "    for n in range(test_dataset.__len__()):\n",
    "        if n % 1_000 == 0 and n > 0: \n",
    "            print(str(n) + ' predictions for ' + str(city) + ' completed.')\n",
    "        nn_pos_nth_input, nn_velo_nth_input, center_input = test_dataset.__getitem__(n)\n",
    "        nn_pos_nth_input = nn_pos_nth_input.to(device)\n",
    "        nn_velo_nth_input = nn_velo_nth_input.to(device)\n",
    "        center_input = center_input.to(device)\n",
    "        init_pos = lstm_encoder_decoder_no_early.predict(model_pos, nn_pos_nth_input, 1, device=device)\n",
    "        deltas = lstm_encoder_decoder_no_early.predict(model_velo, nn_velo_nth_input, 59, device=device)\n",
    "\n",
    "        pred = (torch.cumsum(torch.cat((init_pos, deltas)), dim=0).flatten() + center_input).cpu().numpy()\n",
    "        rows.append(pred)\n",
    "    ids = np.array([str(i) + '_' + city for i in range(len(rows))])\n",
    "    cols = np.array(['v' + str(i) for i in range(120)])\n",
    "    predictions = pd.DataFrame(rows, columns=cols)\n",
    "    predictions.insert(0, 'ID', ids)\n",
    "    all_preds.append(predictions)\n",
    "all_predictions = pd.concat(all_preds, ignore_index=True)"
   ]
  },
  {
   "cell_type": "code",
   "execution_count": null,
   "id": "2c7cb88e-5a41-46ee-81fb-d5ed7b79c2c1",
   "metadata": {},
   "outputs": [],
   "source": [
    "all_predictions.to_csv('two_lstm_enc_dec_out.csv', index=False)"
   ]
  },
  {
   "cell_type": "code",
   "execution_count": null,
   "id": "f59cab5f-319c-4e03-8c77-c17d521e414c",
   "metadata": {},
   "outputs": [],
   "source": []
  },
  {
   "cell_type": "code",
   "execution_count": null,
   "id": "50c06a9b",
   "metadata": {},
   "outputs": [],
   "source": [
    "%%time\n",
    "\n",
    "# train one model for each city\n",
    "device = torch.device('cuda' if torch.cuda.is_available() else 'cpu')\n",
    "\n",
    "for city in cities:\n",
    "    print('Training ' + str(city))\n",
    "    train_dataset = ArgoverseDataset(city, 'train')\n",
    "\n",
    "    X_train_nn_pos = train_dataset.nn_pos_inputs.to(device)\n",
    "    y_train_nn_pos = train_dataset.nn_pos_outputs.to(device)\n",
    "    X_train_nn_velo = train_dataset.nn_velo_inputs.to(device)\n",
    "    y_train_nn_velo = train_dataset.nn_velo_outputs.to(device)\n",
    "    X_train = train_dataset.input_positions.to(device)\n",
    "    y_train = train_dataset.output_positions.to(device)\n",
    "\n",
    "    start_time = time.time()\n",
    "    nn_pos = lstm_encoder_decoder_no_early.lstm_seq2seq(\n",
    "        input_size=2,\n",
    "        hidden_size=64,\n",
    "        num_layers=3,\n",
    "        dropout=0.3\n",
    "    )\n",
    "\n",
    "    nn_pos.to(device)\n",
    "\n",
    "    train_losses_pos = lstm_encoder_decoder_no_early.train_model(\n",
    "        nn_pos,\n",
    "        city,\n",
    "        X_train_nn_pos,\n",
    "        y_train_nn_pos,\n",
    "        n_epochs=30,\n",
    "        target_len=1,\n",
    "        batch_size=256,\n",
    "        training_prediction='mixed_teacher_forcing',\n",
    "        teacher_forcing_ratio=0.6,\n",
    "        learning_rate=0.001,\n",
    "        dynamic_tf=False,\n",
    "        device=device\n",
    "    )\n",
    "\n",
    "    pickle.dump(nn_pos, open('../models/seq2seq_lstm_pos_' + str(nn_pos.num_layers) + '_' + city, 'wb'))\n",
    "    plt.title(\"Loss for \" + city + \" on initial position\")\n",
    "    plt.xlabel(\"epoch\")\n",
    "    plt.ylabel(\"loss\")\n",
    "    plt.plot(train_losses_pos, color=\"red\", label=\"train_loss\")\n",
    "    plt.legend()\n",
    "    plt.show()\n",
    "\n",
    "\n",
    "    nn_velo = lstm_encoder_decoder_no_early.lstm_seq2seq(\n",
    "        input_size=2,\n",
    "        hidden_size=256,\n",
    "        num_layers=2,\n",
    "        dropout=0.3\n",
    "    )\n",
    "\n",
    "    nn_velo.to(device)\n",
    "\n",
    "    train_losses_velo = lstm_encoder_decoder_no_early.train_model(\n",
    "        nn_velo,\n",
    "        city,\n",
    "        X_train_nn_velo,\n",
    "        y_train_nn_velo,\n",
    "        n_epochs=80,\n",
    "        target_len=59,\n",
    "        batch_size=256,\n",
    "        training_prediction='mixed_teacher_forcing',\n",
    "        teacher_forcing_ratio=0.6,\n",
    "        learning_rate=0.0001,\n",
    "        dynamic_tf=False,\n",
    "        device=device\n",
    "    )\n",
    "\n",
    "    pickle.dump(nn_velo, open('../models/seq2seq_lstm_velo_' + str(nn_velo.num_layers) + '_' + city, 'wb'))\n",
    "    plt.title(\"Loss for \" + city + \" on velocity\")\n",
    "    plt.xlabel(\"epoch\")\n",
    "    plt.ylabel(\"loss\")\n",
    "    plt.plot(train_losses_velo, color=\"red\", label=\"train_loss\")\n",
    "    plt.legend()\n",
    "    plt.show()\n",
    "\n",
    "    end_time = time.time()\n",
    "    train_mins, train_secs = train_time(start_time, end_time)\n",
    "    print(\n",
    "        f'Total training time is: {train_mins}m {train_secs}s' + ' for ' + city)"
   ]
  },
  {
   "cell_type": "code",
   "execution_count": null,
   "id": "a353b9dd",
   "metadata": {},
   "outputs": [],
   "source": []
  }
 ],
 "metadata": {
  "interpreter": {
   "hash": "51451fb965bca5ca736f6eb36642b31b5a5ecde49a9b52fab42c7c140c00e449"
  },
  "kernelspec": {
   "display_name": "Python 3.10.4 64-bit",
   "language": "python",
   "name": "python3"
  },
  "language_info": {
   "codemirror_mode": {
    "name": "ipython",
    "version": 3
   },
   "file_extension": ".py",
   "mimetype": "text/x-python",
   "name": "python",
   "nbconvert_exporter": "python",
   "pygments_lexer": "ipython3",
   "version": "3.10.4"
  }
 },
 "nbformat": 4,
 "nbformat_minor": 5
}
