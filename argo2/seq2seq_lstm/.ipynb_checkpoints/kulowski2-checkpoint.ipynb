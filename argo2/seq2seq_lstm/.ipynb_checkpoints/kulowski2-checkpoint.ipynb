{
 "cells": [
  {
   "cell_type": "markdown",
   "id": "498e98a2-a15a-4be3-842c-25ed40af9e65",
   "metadata": {},
   "source": [
    "## Install the package dependencies before running this notebook"
   ]
  },
  {
   "cell_type": "code",
   "execution_count": 10,
   "id": "2f010662-209a-42ad-aa09-91a6c45e332c",
   "metadata": {},
   "outputs": [
    {
     "name": "stdout",
     "output_type": "stream",
     "text": [
      "The autoreload extension is already loaded. To reload it, use:\n",
      "  %reload_ext autoreload\n"
     ]
    }
   ],
   "source": [
    "%load_ext autoreload\n",
    "%autoreload 2"
   ]
  },
  {
   "cell_type": "code",
   "execution_count": 11,
   "id": "2b6af88b-26f7-4373-9bb8-cd0990d9d091",
   "metadata": {},
   "outputs": [],
   "source": [
    "import lstm_encoder_decoder2"
   ]
  },
  {
   "cell_type": "code",
   "execution_count": 12,
   "id": "a277321d-a237-4ee9-a1fe-38364e46038d",
   "metadata": {},
   "outputs": [
    {
     "data": {
      "text/plain": [
       "'\\n    number of trajectories in each city\\n    # austin --  train: 43041 test: 6325 \\n    # miami -- train: 55029 test:7971\\n    # pittsburgh -- train: 43544 test: 6361\\n    # dearborn -- train: 24465 test: 3671\\n    # washington-dc -- train: 25744 test: 3829\\n    # palo-alto -- train:  11993 test:1686\\n\\n    trajectories sampled at 10HZ rate, input 5 seconds, output 6 seconds\\n    \\n'"
      ]
     },
     "execution_count": 12,
     "metadata": {},
     "output_type": "execute_result"
    }
   ],
   "source": [
    "import torch\n",
    "from torch.utils.data import Dataset, DataLoader\n",
    "import os, os.path \n",
    "import numpy \n",
    "import pickle\n",
    "from glob import glob\n",
    "import matplotlib.pyplot as plt\n",
    "\n",
    "\"\"\"\n",
    "    number of trajectories in each city\n",
    "    # austin --  train: 43041 test: 6325 \n",
    "    # miami -- train: 55029 test:7971\n",
    "    # pittsburgh -- train: 43544 test: 6361\n",
    "    # dearborn -- train: 24465 test: 3671\n",
    "    # washington-dc -- train: 25744 test: 3829\n",
    "    # palo-alto -- train:  11993 test:1686\n",
    "\n",
    "    trajectories sampled at 10HZ rate, input 5 seconds, output 6 seconds\n",
    "    \n",
    "\"\"\""
   ]
  },
  {
   "cell_type": "markdown",
   "id": "e0dc7736-a560-49c2-bb67-ca94d797d47f",
   "metadata": {},
   "source": [
    "## Create a Torch.Dataset class for the training dataset"
   ]
  },
  {
   "cell_type": "code",
   "execution_count": 13,
   "id": "59577b66-7d8c-4033-a47a-4a43a4fa4a87",
   "metadata": {},
   "outputs": [],
   "source": [
    "from glob import glob\n",
    "import pickle\n",
    "import numpy as np\n",
    "\n",
    "ROOT_PATH = \"../../argo2/\"\n",
    "\n",
    "cities = [\"austin\", \"miami\", \"pittsburgh\", \"dearborn\", \"washington-dc\", \"palo-alto\"]\n",
    "splits = [\"train\", \"test\"]\n",
    "\n",
    "def get_city_trajectories(city=\"palo-alto\", split=\"train\", normalized=False):\n",
    "    outputs = None\n",
    "    \n",
    "    if split == \"train\":\n",
    "        f_in = ROOT_PATH + split + \"/\" + city + \"_inputs\"\n",
    "        inputs = pickle.load(open(f_in, \"rb\"))\n",
    "        n = len(inputs)\n",
    "        inputs = np.asarray(inputs)[:int(n * 0.8)]\n",
    "        \n",
    "        f_out = ROOT_PATH + split + \"/\" + city + \"_outputs\"\n",
    "        outputs = pickle.load(open(f_out, \"rb\"))\n",
    "        outputs = np.asarray(outputs)[:int(n * 0.8)]\n",
    "        \n",
    "    elif split == 'val':\n",
    "        f_in = ROOT_PATH + 'train' + \"/\" + city + \"_inputs\"\n",
    "        inputs = pickle.load(open(f_in, \"rb\"))\n",
    "        n = len(inputs)\n",
    "        inputs = np.asarray(inputs)[int(n * 0.8):]\n",
    "        \n",
    "        f_out = ROOT_PATH + 'train' + \"/\" + city + \"_outputs\"\n",
    "        outputs = pickle.load(open(f_out, \"rb\"))\n",
    "        outputs = np.asarray(outputs)[int(n * 0.8):]\n",
    "    \n",
    "    elif split == 'test':\n",
    "        f_in = ROOT_PATH + split + \"/\" + city + \"_inputs\"\n",
    "        inputs = pickle.load(open(f_in, \"rb\"))\n",
    "        n = len(inputs)\n",
    "        inputs = np.asarray(inputs)\n",
    "        \n",
    "    else:\n",
    "        print('\\\"split\\\" should be train, val, or test.')\n",
    "        inputs = None\n",
    "\n",
    "    return inputs, outputs\n",
    "\n",
    "class ArgoverseDataset(Dataset):\n",
    "    \"\"\"Dataset class for Argoverse\"\"\"\n",
    "    def __init__(self, city: str, split:str, transform=None):\n",
    "        super(ArgoverseDataset, self).__init__()\n",
    "        self.transform = transform\n",
    "        self.inputs, self.outputs = get_city_trajectories(city=city, split=split, normalized=False)\n",
    "        \n",
    "        # centering\n",
    "        num_inputs, input_seq_len = self.inputs.shape[:2]\n",
    "        num_outputs, output_seq_len = self.outputs.shape[:2]\n",
    "        center_input = (\n",
    "            np.repeat(self.inputs[:, 0, :], input_seq_len, axis=0)\n",
    "            .reshape(num_inputs, input_seq_len, 2)\n",
    "        )\n",
    "        center_output = (\n",
    "            np.repeat(self.inputs[:, 0, :], output_seq_len, axis=0)\n",
    "            .reshape(num_outputs, output_seq_len, 2)\n",
    "        )\n",
    "        self.inputs -= center_input\n",
    "        self.outputs -= center_output\n",
    "        self.inputs = torch.Tensor(self.inputs)\n",
    "        self.outputs = torch.Tensor(self.outputs)\n",
    "        # self.inputs = self.inputs.reshape(num_inputs, input_seq_len * 2)\n",
    "        # self.outputs = self.outputs.reshape(num_outputs, output_seq_len * 2)\n",
    "        \n",
    "        # build velocities\n",
    "        # self.input_velocities = np.hstack((np.zeros((num_inputs, 1, 2)), np.diff(self.inputs, axis=1)))\n",
    "        # self.output_velocities = np.hstack((np.zeros((num_outputs, 1, 2)), np.diff(self.outputs, axis=1)))\n",
    "\n",
    "    def __len__(self):\n",
    "        return len(self.inputs)\n",
    "\n",
    "    def __getitem__(self, idx):\n",
    "        data = (\n",
    "            self.inputs[idx], \n",
    "            self.outputs[idx]# , \n",
    "            # self.input_velocities[idx], \n",
    "            # self.output_velocities[idx]\n",
    "        )\n",
    "        return data"
   ]
  },
  {
   "cell_type": "code",
   "execution_count": 121,
   "id": "a03b5f31-d1e4-4014-bda5-31757081260a",
   "metadata": {},
   "outputs": [],
   "source": [
    "def rmse(pred, truth):\n",
    "    return np.sqrt(\n",
    "        np.sqrt(\n",
    "            ((pred - truth.numpy()) ** 2).sum(axis=1)\n",
    "        ).sum()\n",
    "    )"
   ]
  },
  {
   "cell_type": "code",
   "execution_count": 20,
   "id": "cb4e942a-7c3d-4ebe-9766-ab5b44f1987a",
   "metadata": {},
   "outputs": [],
   "source": [
    "train_dataset = ArgoverseDataset('austin', 'train')\n",
    "X_train = train_dataset.inputs\n",
    "y_train = train_dataset.outputs"
   ]
  },
  {
   "cell_type": "code",
   "execution_count": 39,
   "id": "67a9c0d9-c5d0-49bd-b4f6-e527a2f42a0e",
   "metadata": {},
   "outputs": [
    {
     "data": {
      "text/plain": [
       "34432"
      ]
     },
     "execution_count": 39,
     "metadata": {},
     "output_type": "execute_result"
    }
   ],
   "source": [
    "train_dataset.__len__()"
   ]
  },
  {
   "cell_type": "code",
   "execution_count": 90,
   "id": "03a7e25b-98a8-4ac1-91d1-9db4154c4237",
   "metadata": {},
   "outputs": [
    {
     "name": "stderr",
     "output_type": "stream",
     "text": [
      "100%|████████████████████████████████████████████████████████████| 50/50 [19:29<00:00, 23.40s/it, loss=13.909]\n"
     ]
    }
   ],
   "source": [
    "model = lstm_encoder_decoder2.lstm_seq2seq(\n",
    "    input_size = 2, \n",
    "    hidden_size = 15,\n",
    "    num_layers = 2,\n",
    "    dropout = 0.3\n",
    ")\n",
    "loss = model.train_model(\n",
    "    X_train, \n",
    "    y_train, \n",
    "    n_epochs = 50, \n",
    "    target_len = 60, \n",
    "    batch_size = 100, \n",
    "    training_prediction = 'mixed_teacher_forcing', \n",
    "    teacher_forcing_ratio = 0.6, \n",
    "    learning_rate = 0.001, \n",
    "    dynamic_tf = False\n",
    ")"
   ]
  },
  {
   "cell_type": "code",
   "execution_count": 94,
   "id": "80e53596-0658-43b5-8581-7a3960ab5e7c",
   "metadata": {},
   "outputs": [
    {
     "data": {
      "text/plain": [
       "(torch.Size([4893, 50, 2]), torch.Size([4893, 60, 2]))"
      ]
     },
     "execution_count": 94,
     "metadata": {},
     "output_type": "execute_result"
    }
   ],
   "source": [
    "val_dataset = ArgoverseDataset('dearborn', 'val')\n",
    "X_val = val_dataset.inputs\n",
    "y_val = val_dataset.outputs\n",
    "X_val.shape, y_val.shape"
   ]
  },
  {
   "cell_type": "code",
   "execution_count": 95,
   "id": "bbe070bb-5b8a-49f2-82f0-82c636dd7522",
   "metadata": {},
   "outputs": [
    {
     "data": {
      "text/plain": [
       "264.74695930866505"
      ]
     },
     "execution_count": 95,
     "metadata": {},
     "output_type": "execute_result"
    }
   ],
   "source": [
    "mse = 0\n",
    "for n in range(X_val.__len__()):\n",
    "    mse += ((model.predict(X_val[n, :, :], 60) - y_val[n, :, :].numpy()) ** 2).sum()\n",
    "np.sqrt(mse / X_val.__len__())"
   ]
  },
  {
   "cell_type": "code",
   "execution_count": 118,
   "id": "7f34a248-067b-44f2-9454-0229a4379dca",
   "metadata": {},
   "outputs": [
    {
     "data": {
      "text/plain": [
       "29.092478"
      ]
     },
     "execution_count": 118,
     "metadata": {},
     "output_type": "execute_result"
    }
   ],
   "source": [
    "np.sqrt(np.sqrt(((model.predict(X_val[n, :, :], 60) - y_val[n, :, :].numpy()) ** 2).sum(axis=1)).sum())"
   ]
  },
  {
   "cell_type": "code",
   "execution_count": 93,
   "id": "da4d91ac-a4c4-4d28-8f71-b2ae6133bcc2",
   "metadata": {},
   "outputs": [
    {
     "data": {
      "text/plain": [
       "[<matplotlib.lines.Line2D at 0x15c328c40>]"
      ]
     },
     "execution_count": 93,
     "metadata": {},
     "output_type": "execute_result"
    },
    {
     "data": {
      "image/png": "[encoded data removed]",
      "text/plain": [
       "<Figure size 432x288 with 1 Axes>"
      ]
     },
     "metadata": {
      "needs_background": "light"
     },
     "output_type": "display_data"
    }
   ],
   "source": [
    "plt.plot(loss)"
   ]
  },
  {
   "cell_type": "code",
   "execution_count": null,
   "id": "31222b74-53d8-4280-9da1-73c9a37eeeec",
   "metadata": {},
   "outputs": [],
   "source": []
  }
 ],
 "metadata": {
  "kernelspec": {
   "display_name": "Python 3 (ipykernel)",
   "language": "python",
   "name": "python3"
  },
  "language_info": {
   "codemirror_mode": {
    "name": "ipython",
    "version": 3
   },
   "file_extension": ".py",
   "mimetype": "text/x-python",
   "name": "python",
   "nbconvert_exporter": "python",
   "pygments_lexer": "ipython3",
   "version": "3.9.6"
  }
 },
 "nbformat": 4,
 "nbformat_minor": 5
}
